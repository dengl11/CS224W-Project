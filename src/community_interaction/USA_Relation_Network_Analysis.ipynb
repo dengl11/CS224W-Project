{
 "cells": [
  {
   "cell_type": "code",
   "execution_count": 1,
   "metadata": {},
   "outputs": [
    {
     "data": {
      "text/html": [
       "<script>requirejs.config({paths: { 'plotly': ['https://cdn.plot.ly/plotly-latest.min']},});if(!window.Plotly) {{require(['plotly'],function(plotly) {window.Plotly=plotly;});}}</script>"
      ],
      "text/vnd.plotly.v1+html": [
       "<script>requirejs.config({paths: { 'plotly': ['https://cdn.plot.ly/plotly-latest.min']},});if(!window.Plotly) {{require(['plotly'],function(plotly) {window.Plotly=plotly;});}}</script>"
      ]
     },
     "metadata": {},
     "output_type": "display_data"
    }
   ],
   "source": [
    "\"\"\" Style \"\"\"\n",
    "import warnings\n",
    "warnings.filterwarnings(\"ignore\")  # suppres all warnings\n",
    "\n",
    "from plotly.offline import iplot, init_notebook_mode\n",
    "init_notebook_mode(connected=True)\n",
    "\"\"\" Autoload \"\"\"\n",
    "%load_ext autoreload\n",
    "%autoreload 2\n",
    "import matplotlib.pyplot as plt\n"
   ]
  },
  {
   "cell_type": "code",
   "execution_count": null,
   "metadata": {},
   "outputs": [
    {
     "name": "stdout",
     "output_type": "stream",
     "text": [
      "Data Imported: (170350, 134)\n",
      "\n",
      "------ 1 ------\n",
      "\n",
      "------ 2 ------\n",
      "a = -0.91\n",
      "b = 2.06\n"
     ]
    }
   ],
   "source": [
    "\"\"\" Backend \"\"\"\n",
    "from usa_network_analysis import *"
   ]
  },
  {
   "cell_type": "code",
   "execution_count": null,
   "metadata": {},
   "outputs": [],
   "source": [
    "alpha = 10\n",
    "plt.figure(figsize=(800, 400))\n",
    "plt.plot(range(k), top_degs)\n",
    "plt.plot(range(k), top_df[COL_nkill])\n",
    "plt.plot(range(k), top_df[COL_nwound])\n",
    "plt.plot(range(k), top_df[COL_nkill] * alpha + top_df[COL_nwound])\n",
    "plt.legend([\"Node D init_notebook_mode\n",
    "init_notebook_mode(connected=Trueegree\", \"nKill\", \"nWound\", \"{} * nKill + nWound\".format(alpha)])\n",
    "ax_set_title(plt.gca(), \"Correlation between Degree Distribution and Severity in USA Relation Network\")\n",
    "plt.show()"
   ]
  },
  {
   "cell_type": "code",
   "execution_count": null,
   "metadata": {
    "collapsed": true
   },
   "outputs": [],
   "source": []
  }
 ],
 "metadata": {
  "kernelspec": {
   "display_name": "Python 2",
   "language": "python",
   "name": "python2"
  },
  "language_info": {
   "codemirror_mode": {
    "name": "ipython",
    "version": 2
   },
   "file_extension": ".py",
   "mimetype": "text/x-python",
   "name": "python",
   "nbconvert_exporter": "python",
   "pygments_lexer": "ipython2",
   "version": "2.7.13"
  }
 },
 "nbformat": 4,
 "nbformat_minor": 2
}
