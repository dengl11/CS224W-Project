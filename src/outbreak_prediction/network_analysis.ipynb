{
 "cells": [
  {
   "cell_type": "code",
   "execution_count": 1,
   "metadata": {
    "collapsed": true
   },
   "outputs": [],
   "source": [
    "import matplotlib.pyplot as plt\n",
    "import numpy\n",
    "import snap\n",
    "import pickle\n",
    "import copy\n",
    "import sys\n",
    "from sklearn.neural_network import MLPClassifier"
   ]
  },
  {
   "cell_type": "code",
   "execution_count": 2,
   "metadata": {
    "collapsed": true
   },
   "outputs": [],
   "source": [
    "city_network = snap.LoadEdgeList(snap.PUNGraph, \"city_network_by_traffic.txt\", 0, 1)\n",
    "raw_gtd_data = pickle.load(open('raw_gtd_data.pkl', 'rb'))\n",
    "gtd_group_dict = pickle.load(open('gtd_group_dict.pkl', 'rb'))\n",
    "city_node_dict = pickle.load(open('city_node_dict.pkl', 'rb'))\n",
    "city_list = pickle.load(open('city_list.pkl', 'rb'))"
   ]
  },
  {
   "cell_type": "code",
   "execution_count": 3,
   "metadata": {
    "collapsed": true
   },
   "outputs": [],
   "source": [
    "city_num_terror_connected = [{} for _ in range(1971, 2016)]\n",
    "city_num_non_terror_connected = [{} for _ in range(1971, 2016)]\n",
    "city_betweenness_centrality = [{} for _ in range(1971, 2016)]\n",
    "city_degree_centrality = [{} for _ in range(1971, 2016)]\n",
    "city_closeness_centrality = [{} for _ in range(1971, 2016)]\n",
    "city_farness_centrality = [{} for _ in range(1971, 2016)]\n",
    "city_connected = [{} for _ in range(1971, 2016)]\n",
    "city_terror_occur = [{} for _ in range(1971, 2016)]\n",
    "city_terror_recover = [{} for _ in range(1971, 2016)]"
   ]
  },
  {
   "cell_type": "code",
   "execution_count": 4,
   "metadata": {
    "collapsed": true
   },
   "outputs": [],
   "source": [
    "gtd_event_city_by_year = {}\n",
    "for key, years in gtd_group_dict.iteritems():\n",
    "\tfor year, months in years.iteritems():\n",
    "\t\tfor month, events in months.iteritems():\n",
    "\t\t\tfor event in events:\n",
    "\t\t\t\tif int(year) not in gtd_event_city_by_year:\n",
    "\t\t\t\t\tgtd_event_city_by_year[int(year)] = set()\n",
    "\t\t\t\ttry:\n",
    "\t\t\t\t\tgtd_event_city_by_year[int(year)].add(city_node_dict[raw_gtd_data[event]['city']])\n",
    "\t\t\t\texcept:\n",
    "\t\t\t\t\tpass"
   ]
  },
  {
   "cell_type": "code",
   "execution_count": 5,
   "metadata": {
    "collapsed": true
   },
   "outputs": [],
   "source": [
    "Nodes = snap.TIntFltH()\n",
    "Edges = snap.TIntPrFltH()\n",
    "snap.GetBetweennessCentr(city_network, Nodes, Edges, 1.0)"
   ]
  },
  {
   "cell_type": "code",
   "execution_count": 6,
   "metadata": {
    "collapsed": true
   },
   "outputs": [],
   "source": [
    "city_node_list = []\n",
    "for key, value in city_node_dict.iteritems():\n",
    "\tcity_node_list += [value]\n",
    "city_set = set(city_node_list)\n",
    "inf_set = gtd_event_city_by_year[1970]\n",
    "sus_set = city_set - inf_set\n",
    "inf_list = list(inf_set)\n",
    "sus_list = list(sus_set)"
   ]
  },
  {
   "cell_type": "code",
   "execution_count": 7,
   "metadata": {},
   "outputs": [
    {
     "name": "stdout",
     "output_type": "stream",
     "text": [
      "1971\n",
      "1972\n",
      "1973\n",
      "1974\n",
      "1975\n",
      "1976\n",
      "1977\n",
      "1978\n",
      "1979\n",
      "1980\n",
      "1981\n",
      "1982\n",
      "1983\n",
      "1984\n",
      "1985\n",
      "1986\n",
      "1987\n",
      "1988\n",
      "1989\n",
      "1990\n",
      "1991\n",
      "1992\n",
      "1993\n",
      "1994\n",
      "1995\n",
      "1996\n",
      "1997\n",
      "1998\n",
      "1999\n",
      "2000\n",
      "2001\n",
      "2002\n",
      "2003\n",
      "2004\n",
      "2005\n",
      "2006\n",
      "2007\n",
      "2008\n",
      "2009\n",
      "2010\n",
      "2011\n",
      "2012\n",
      "2013\n",
      "2014\n",
      "2015\n"
     ]
    }
   ],
   "source": [
    "for cur_year in range(1971, 2016):\n",
    "    print cur_year\n",
    "    if cur_year not in gtd_event_city_by_year:\n",
    "        continue\n",
    "\n",
    "    year = cur_year - 1971\n",
    "\n",
    "    new_inf_set = gtd_event_city_by_year[cur_year]\n",
    "    new_sus_set = city_set - new_inf_set\n",
    "    new_inf_list = list(new_inf_set)\n",
    "    new_sus_list = list(new_sus_set)\n",
    "\n",
    "    for citynode in sus_list:\n",
    "        try:\n",
    "            city_num_terror_connected[year][citynode] = 0\n",
    "            for nbr in city_network.GetNI(citynode).GetOutEdges():\n",
    "                if nbr in inf_set:\n",
    "                    city_num_terror_connected[year][citynode] += 1\n",
    "\n",
    "            city_connected[year][citynode] = city_network.GetNI(citynode).GetDeg()\n",
    "            city_num_non_terror_connected[year][citynode] = city_connected[year][citynode] - city_num_terror_connected[year][citynode]\n",
    "\n",
    "            city_terror_occur[year][citynode] = 0\n",
    "\n",
    "            if citynode in new_inf_set:\n",
    "                city_terror_occur[year][citynode] = 1\n",
    "            else:\n",
    "                city_terror_recover[year][citynode] = -1\n",
    "\n",
    "            city_betweenness_centrality[year][citynode] = Nodes[citynode]\n",
    "            city_degree_centrality[year][citynode] = snap.GetDegreeCentr(city_network, citynode)\n",
    "            city_closeness_centrality[year][citynode] = snap.GetClosenessCentr(city_network, citynode)\n",
    "            city_farness_centrality[year][citynode] = snap.GetFarnessCentr(city_network, citynode)\n",
    "        except:\n",
    "            pass\n",
    "\n",
    "    for citynode in inf_list:\n",
    "        try:\n",
    "            city_num_terror_connected[year][citynode] = 0\n",
    "            for nbr in city_network.GetNI(citynode).GetOutEdges():\n",
    "                if nbr in inf_set:\n",
    "                    city_num_terror_connected[year][citynode] += 1\n",
    "\n",
    "            city_connected[year][citynode] = city_network.GetNI(citynode).GetDeg()\n",
    "            city_num_non_terror_connected[year][citynode] = city_connected[year][citynode] - city_num_terror_connected[year][citynode]\n",
    "\n",
    "            city_terror_recover[year][citynode] = 0\n",
    "            if citynode in new_sus_set:\n",
    "                city_terror_recover[year][citynode] = 1\n",
    "            else:\n",
    "                city_terror_occur[year][citynode] = -1\n",
    "\n",
    "            city_betweenness_centrality[year][citynode] = Nodes[citynode]\n",
    "            city_degree_centrality[year][citynode] = snap.GetDegreeCentr(city_network, citynode)\n",
    "            city_closeness_centrality[year][citynode] = snap.GetClosenessCentr(city_network, citynode)\n",
    "            city_farness_centrality[year][citynode] = snap.GetFarnessCentr(city_network, citynode)\n",
    "        except:\n",
    "            pass\n",
    "        \n",
    "        inf_set = new_inf_set\n",
    "        sus_set = new_sus_set\n",
    "        inf_list = new_inf_list\n",
    "        sus_list = new_sus_list"
   ]
  },
  {
   "cell_type": "code",
   "execution_count": 8,
   "metadata": {
    "collapsed": true
   },
   "outputs": [],
   "source": [
    "X_inf = []\n",
    "y_inf = []\n",
    "\n",
    "X_rec = []\n",
    "y_rec = []"
   ]
  },
  {
   "cell_type": "code",
   "execution_count": 9,
   "metadata": {},
   "outputs": [
    {
     "name": "stdout",
     "output_type": "stream",
     "text": [
      "1971\n",
      "1972\n",
      "1973\n",
      "1974\n",
      "1975\n",
      "1976\n",
      "1977\n",
      "1978\n",
      "1979\n",
      "1980\n",
      "1981\n",
      "1982\n",
      "1983\n",
      "1984\n",
      "1985\n",
      "1986\n",
      "1987\n",
      "1988\n",
      "1989\n",
      "1990\n",
      "1991\n",
      "1992\n",
      "1993\n",
      "1994\n",
      "1995\n",
      "1996\n",
      "1997\n",
      "1998\n",
      "1999\n",
      "2000\n",
      "2001\n",
      "2002\n",
      "2003\n",
      "2004\n",
      "2005\n",
      "2006\n",
      "2007\n",
      "2008\n",
      "2009\n",
      "2010\n",
      "2011\n",
      "2012\n",
      "2013\n",
      "2014\n",
      "2015\n"
     ]
    }
   ],
   "source": [
    "for cur_year in range(1971, 2016):\n",
    "    print cur_year\n",
    "    year = cur_year - 1971\n",
    "    for key, value in city_terror_occur[year].iteritems():\n",
    "        sample = []\n",
    "        if value != -1:\n",
    "            y_inf += [city_terror_occur[year][key]]\n",
    "            sample += [city_connected[year][key]]\n",
    "            sample += [city_num_terror_connected[year][key]]\n",
    "            sample += [city_num_non_terror_connected[year][key]]\n",
    "            sample += [city_betweenness_centrality[year][key]]\n",
    "            sample += [city_degree_centrality[year][key]]\n",
    "            sample += [city_closeness_centrality[year][key]]\n",
    "            sample += [city_farness_centrality[year][key]]\n",
    "            X_inf += [sample]\n",
    "\n",
    "    for key, value in city_terror_recover[year].iteritems():\n",
    "        sample = []\n",
    "        if value != -1:\n",
    "            y_rec += [city_terror_recover[year][key]]\n",
    "            sample += [city_connected[year][key]]\n",
    "            sample += [city_num_terror_connected[year][key]]\n",
    "            sample += [city_num_non_terror_connected[year][key]]\n",
    "            sample += [city_betweenness_centrality[year][key]]\n",
    "            sample += [city_degree_centrality[year][key]]\n",
    "            sample += [city_closeness_centrality[year][key]]\n",
    "            sample += [city_farness_centrality[year][key]]\n",
    "            X_rec += [sample]"
   ]
  },
  {
   "cell_type": "code",
   "execution_count": 10,
   "metadata": {
    "collapsed": true
   },
   "outputs": [],
   "source": [
    "clf_inf = MLPClassifier(solver='lbfgs', alpha=1e-5, hidden_layer_sizes=(5, 2), random_state=1)"
   ]
  },
  {
   "cell_type": "code",
   "execution_count": 11,
   "metadata": {},
   "outputs": [
    {
     "data": {
      "text/plain": [
       "MLPClassifier(activation='relu', alpha=1e-05, batch_size='auto', beta_1=0.9,\n",
       "       beta_2=0.999, early_stopping=False, epsilon=1e-08,\n",
       "       hidden_layer_sizes=(5, 2), learning_rate='constant',\n",
       "       learning_rate_init=0.001, max_iter=200, momentum=0.9,\n",
       "       nesterovs_momentum=True, power_t=0.5, random_state=1, shuffle=True,\n",
       "       solver='lbfgs', tol=0.0001, validation_fraction=0.1, verbose=False,\n",
       "       warm_start=False)"
      ]
     },
     "execution_count": 11,
     "metadata": {},
     "output_type": "execute_result"
    }
   ],
   "source": [
    "clf_inf.fit(X_inf, y_inf)"
   ]
  },
  {
   "cell_type": "code",
   "execution_count": 12,
   "metadata": {
    "collapsed": true
   },
   "outputs": [],
   "source": [
    "clf_rec = MLPClassifier(solver='lbfgs', alpha=1e-5, hidden_layer_sizes=(5, 2), random_state=1)"
   ]
  },
  {
   "cell_type": "code",
   "execution_count": 13,
   "metadata": {},
   "outputs": [
    {
     "data": {
      "text/plain": [
       "MLPClassifier(activation='relu', alpha=1e-05, batch_size='auto', beta_1=0.9,\n",
       "       beta_2=0.999, early_stopping=False, epsilon=1e-08,\n",
       "       hidden_layer_sizes=(5, 2), learning_rate='constant',\n",
       "       learning_rate_init=0.001, max_iter=200, momentum=0.9,\n",
       "       nesterovs_momentum=True, power_t=0.5, random_state=1, shuffle=True,\n",
       "       solver='lbfgs', tol=0.0001, validation_fraction=0.1, verbose=False,\n",
       "       warm_start=False)"
      ]
     },
     "execution_count": 13,
     "metadata": {},
     "output_type": "execute_result"
    }
   ],
   "source": [
    "clf_rec.fit(X_rec, y_rec)"
   ]
  },
  {
   "cell_type": "code",
   "execution_count": 14,
   "metadata": {
    "collapsed": true
   },
   "outputs": [],
   "source": [
    "final_inf_list = {}\n",
    "final_inf_prob = {}"
   ]
  },
  {
   "cell_type": "code",
   "execution_count": 15,
   "metadata": {
    "collapsed": true
   },
   "outputs": [],
   "source": [
    "for citynode in sus_list:\n",
    "    try:\n",
    "        terror_connected = 0\n",
    "        for nbr in city_network.GetNI(citynode).GetOutEdges():\n",
    "            if nbr in inf_set:\n",
    "                terror_connected += 1\n",
    "\n",
    "        connected = city_network.GetNI(citynode).GetDeg()\n",
    "        non_terror_connected = connected - terror_connected\n",
    "\n",
    "        betweenness = Nodes[citynode]\n",
    "        degree = snap.GetDegreeCentr(city_network, citynode)\n",
    "        closeness = snap.GetClosenessCentr(city_network, citynode)\n",
    "        farness = snap.GetFarnessCentr(city_network, citynode)\n",
    "        x = [connected, terror_connected, non_terror_connected, betweenness, degree, closeness, farness]\n",
    "\n",
    "        final_inf_list[citynode] = clf_inf.predict([x])[0]\n",
    "        final_inf_prob[citynode] = clf_inf.predict_proba([x])[0]\n",
    "    except:\n",
    "        pass"
   ]
  },
  {
   "cell_type": "code",
   "execution_count": 16,
   "metadata": {
    "collapsed": true
   },
   "outputs": [],
   "source": [
    "for citynode in inf_list:\n",
    "    try:\n",
    "        final_inf_list[citynode] = 1\n",
    "\n",
    "        terror_connected = 0\n",
    "        for nbr in city_network.GetNI(citynode).GetOutEdges():\n",
    "            if nbr in inf_set:\n",
    "                terror_connected += 1\n",
    "\n",
    "        connected = city_network.GetNI(citynode).GetDeg()\n",
    "        non_terror_connected = connected - terror_connected\n",
    "\n",
    "        betweenness = Nodes[citynode]\n",
    "        degree = snap.GetDegreeCentr(city_network, citynode)\n",
    "        closeness = snap.GetClosenessCentr(city_network, citynode)\n",
    "        farness = snap.GetFarnessCentr(city_network, citynode)\n",
    "        x = [connected, terror_connected, non_terror_connected, betweenness, degree, closeness, farness]\n",
    "\n",
    "        final_inf_list[citynode] = 1 - clf_rec.predict([x])[0]\n",
    "        final_inf_prob[citynode] = 1 - clf_rec.predict_proba([x])[0]\n",
    "    except:\n",
    "        pass"
   ]
  },
  {
   "cell_type": "code",
   "execution_count": 17,
   "metadata": {
    "collapsed": true
   },
   "outputs": [],
   "source": [
    "final_pred_cities = []"
   ]
  },
  {
   "cell_type": "code",
   "execution_count": 18,
   "metadata": {
    "collapsed": true
   },
   "outputs": [],
   "source": [
    "for key, value in final_inf_list.iteritems():\n",
    "\tif value == 1:\n",
    "\t\ttry:\n",
    "\t\t\tfinal_pred_cities += [city_list[key]]\n",
    "\t\texcept:\n",
    "\t\t\tpass"
   ]
  },
  {
   "cell_type": "code",
   "execution_count": 19,
   "metadata": {
    "collapsed": true
   },
   "outputs": [],
   "source": [
    "final_cities = []\n",
    "for citynode in gtd_event_city_by_year[2016]:\n",
    "\ttry:\n",
    "\t\tfinal_cities += [city_list[citynode]]\n",
    "\texcept:\n",
    "\t\tpass"
   ]
  },
  {
   "cell_type": "code",
   "execution_count": 20,
   "metadata": {},
   "outputs": [
    {
     "name": "stdout",
     "output_type": "stream",
     "text": [
      "['Montreal', 'Toronto', 'Mayo', 'Peterborough', 'Sydney', 'London', 'Annaba', 'Tebessa', 'Ouagadougou', 'San Pedro', 'Abuja', 'Calabar', 'Jos', 'Kaduna', 'Kano', 'Maiduguri', 'Lagos', 'Yola', 'Zaria', 'Diffa', 'Tunis', 'Remada', 'Altenburg', 'Jena', 'Magdeburg', 'Berlin', 'Dresden', 'Munster', 'Hamburg', 'Cologne', 'Leipzig', 'Bielefeld', 'Augsburg', 'Flensburg', 'Oulu', 'Tampere', 'Belfast', 'Londonderry', 'Bristol', 'Glasgow', 'Cork', 'Dublin', 'Copenhagen', 'Bodo', 'Uppsala', 'Trollhattan', 'Stockholm', 'Mora', 'Ljungby', 'Oskarshamn', 'Vilhelmina', 'Orebro', 'Eskilstuna', 'Laage', 'Bethlehem', 'Cape Town', 'Bangui', 'Maroua', 'Maputo', 'Nampula', 'Maseru', 'Goma', 'Bamako', 'Gao', 'Rabat', 'Casablanca', 'Addis Ababa', 'Bujumbura', 'Alexandria', 'Cairo', 'Luxor', 'Port Said', 'Aswan', 'Lamu', 'Mombasa', 'Nairobi', 'Wajir', 'Ghat', 'Benghazi', 'Tripoli', 'Kadugli', 'Juba', 'Malakal', 'Khartoum', 'Tanga', 'Zanzibar', 'Tirana', 'Sofia', 'Paphos', 'Madrid', 'Ocana', 'Santiago', 'Poitiers', 'Auch', 'Ajaccio', 'Macon', 'Marseille', 'Nice', 'Orange', 'Paris', 'Le Mans', 'Heraklion', 'Thessaloniki', 'Budapest', 'Milan', 'Bologna', 'Brescia', 'Rome', 'Prague', 'Ankara', 'Adana', 'Gaziantep', 'Iskenderun', 'Malatya', 'Istanbul', 'Izmir', 'Erzurum', 'Trabzon', 'Van', 'Batman', 'Siirt', 'Skopje', 'San Jose', 'Acapulco', 'Matamoros', 'Leon', 'Buenos Aires', 'Herat', 'Jalalabad', 'Kabul', 'Kandahar', 'Shindand', 'Kunduz', 'Bahrain', 'Abha', 'Dammam', 'Dhahran', 'Jeddah', 'Riyadh', 'Arar', 'Taif', 'Dezful', 'Jerusalem', 'Kuwait', 'Beirut', 'Faisalabad', 'Gwadar', 'Karachi', 'Lahore', 'Multan', 'Panjgur', 'Pasni', 'Peshawar', 'Quetta', 'Islamabad', 'Sukkur', 'Sui', 'Wana', 'Aleppo', 'Damascus', 'Palmyra', 'Doha', 'Tokyo', 'Kochi', 'Zama', 'Seoul', 'Manila', 'Pagadian', 'Zamboanga', 'Tacloban', 'Iloilo', 'Santa Cruz', 'Santa Rosa', 'Sao Paulo', 'Guayaquil', 'Puerto Asis', 'Bogota', 'Buenaventura', 'Tumaco', 'Florencia', 'Pitalito', 'Santa Marta', 'Lima', 'San Ramon', 'Caracas', 'San Antonio', 'San Felipe', 'San Juan', 'Bishkek', 'Kiev', 'Donetsk', 'Odessa', 'Dushanbe', 'Tashkent', 'Moscow', 'Bhopal', 'Daman', 'Goa', 'Pune', 'Raipur', 'Colombo', 'Jaffna', 'Kolkata', 'Gaya', 'Imphal', 'Jamshedpur', 'Ranchi', 'Chittagong', 'Jessore', 'Rajshahi', 'Dhaka', 'Allahabad', 'Kulu', 'Lucknow', 'Srinagar', 'Kathmandu', 'Biratnagar', 'Hyderabad', 'Madurai', 'Rajahmundry', 'Male', 'Bangkok', 'Pattani', 'Trang', 'Lashio', 'Yangon', 'Poso', 'Sibu', 'Kuala Lumpur', 'Melbourne', 'Hobart', 'Richmond', 'Guangzhou', 'Hotan', 'Grand Forks', 'Hollywood', 'Lafayette', 'Washington', 'Houston', 'Chattanooga', 'Knoxville', 'Merced', 'New Orleans', 'Charleston', 'Reno', 'Colorado Springs', 'Minneapolis', 'Valparaiso', 'Charlotte', 'Tangerang', 'Athens', 'Pullman', 'Yerevan', 'Gaza', 'Tbilisi', 'Mukalla', 'Aden', 'Ataq', 'Sanaa', 'Tagbilaran', 'Kalamazoo', 'Dali', 'Djibouti', 'Baghdad', 'Sandakan', 'Shenyang', 'Conakry', 'Bhojpur', 'Butuan', 'Dipolog', 'Laoag', 'Legazpi', 'Las Cruces', 'Kiunga', 'Batna', 'Bosaso', 'Mogadishu', 'Nyala', 'Arua', 'Bradford', 'Tupelo', 'Sanliurfa', 'Faizabad', 'Bam', 'Bannu', 'Bahawalpur', 'Dalbandin', 'Dera Ghazi Khan', 'Jiwani', 'Khuzdar', 'Parachinar', 'Turbat', 'Sulaymaniyah', 'Jolo', 'Naga', 'Catarman', 'Rivne', 'Shillong', 'Dimapur', 'Barisal', 'Nepalgunj', 'Liuzhou', 'Nauen', 'Mardin', 'Burgos', 'Kangra', 'Kirkuk', 'Lutsk', 'Central', 'Toowoomba', 'Zaranj', 'Kherson', 'Mosul', 'San Bernardino', 'Tallinn', 'Khost', 'Sohag', 'Wau', 'Bor', 'Tura', 'Garissa', 'Lashkar Gah', 'Hanover', 'Bursa', 'Saint Denis', 'Cizre', 'Farah', 'Kramatorsk', 'Chapel Hill', 'Meriden', 'Kampala', 'Beni', 'Beni Suef', 'Aurora', 'Kangan', 'Sargodha', 'Qayyarah', 'Tikrit', 'Taji', 'Surallah', 'Durgapur']\n"
     ]
    }
   ],
   "source": [
    "print final_pred_cities"
   ]
  },
  {
   "cell_type": "code",
   "execution_count": 21,
   "metadata": {},
   "outputs": [
    {
     "name": "stdout",
     "output_type": "stream",
     "text": [
      "['Santa Maria', 'Taipei', 'Sanliurfa', 'Princeton', 'Kampala', 'Hamilton', 'Montreal', 'Caceres', 'Toronto', 'Beni', 'Mayo', 'Paysandu', 'Hakkari', 'Samarinda', 'Manila', 'Pagadian', 'Faizabad', 'Lipa', 'Tacloban', 'Bannu', 'Vancouver', 'Dalbandin', 'Rosario', 'Santa Fe', 'Khuzdar', 'Parachinar', 'Turbat', 'Sulaymaniyah', 'London', 'Calgary', 'Posadas', 'General Santos City', 'Jolo', 'Beni Suef', 'Masbate', 'Constantine', 'Yopal', 'Ouagadougou', 'Maracay', 'San Pedro', 'Abuja', 'Gusau', 'Kaduna', 'Maiduguri', 'Makurdi', 'Lagos', 'Diffa', 'Ivano-Frankivsk', 'Rivne', 'Qayyarah', 'Tikrit', 'Taji', 'Brussels', 'Charleroi', 'Grozny', 'Bautzen', 'Vologda', 'Khanabad', 'Magdeburg', 'Berlin', 'Dresden', 'Hamburg', 'Munich', 'Leipzig', 'Shillong', 'Guwahati', 'Dimapur', 'Bharatpur', 'Temuco', 'Nepalgunj', 'Essen', 'Parma', 'Georgetown', 'Bogota', 'Leer', 'Cucuta', 'Cartagena', 'Florencia', 'Cooktown', 'Tame', 'Arauca', 'Santa Ana', 'Belfast', 'Londonderry', 'Malakal', 'San Ramon', 'Plymouth', 'Caracas', 'Newcastle', 'Guanare', 'Glasgow', 'Edinburgh', 'San Antonio', 'Santa Barbara', 'Hanzhong', 'Norwich', 'Valera', 'San Juan', 'Marham', 'Bishkek', 'Enschede', 'Baku', 'Cork', 'Dublin', 'Copenhagen', 'Kiev', 'Donetsk', 'Odessa', 'Barnaul', 'Makhachkala', 'Bodo', 'Moscow', 'Ahmedabad', 'Aurangabad', 'Warsaw', 'Wroclaw', 'Mardin', 'Burgos', 'Stockholm', 'Mora', 'Bokaro', 'Bhubaneswar', 'Kolkata', 'Mus', 'Gaya', 'Imphal', 'Silchar', 'Ranchi', 'Chittagong', 'Jessore', 'Rajshahi', 'Dhaka', 'Kirkuk', 'Delhi', 'Jammu', 'Srinagar', 'Lutsk', 'Kathmandu', 'Bethlehem', 'Cape Town', 'Coimbatore', 'East London', 'Hyderabad', 'Madurai', 'Salem', 'Bangkok', 'Ladysmith', 'Margate', 'Bristol', 'Narathiwat', 'Port Elizabeth', 'Pattani', 'Hat Yai', 'Bagan', 'Brazzaville', 'Yangon', 'Bangui', 'Jayapura', 'Poso', 'Garoua', 'Lahad Datu', 'Antananarivo', 'Jakarta', 'Medan', 'Sittwe', 'Banda Aceh', 'Kuala Lumpur', 'Bahawalpur', 'Beira', 'Maputo', 'Perth', 'Nampula', 'Pemba', 'Jiwani', 'Richmond', \"Xi'an\", 'Lisala', 'Goma', 'Kananga', 'Orlando', 'Bamako', 'Gao', 'Mopti', 'Pedro Juan Caballero', 'Saravena', 'Rabat', 'St. Louis', 'Kansas City', 'San Francisco', 'Arba Minch', 'Yei', 'Bujumbura', 'Cairo', 'Hurghada', 'Dallas', 'Kitale', 'Lamu', 'Mombasa', 'Nairobi', 'Wajir', 'Ghat', 'Benghazi', 'Tripoli', 'Zaranj', 'Kassala', 'Kadugli', 'Lincoln', 'Juba', 'Kherson', 'Zanzibar', 'Mosul', 'Sofia', 'Indianapolis', 'Madrid', 'Ocana', 'Pamplona', 'Santiago', 'Calais', 'Toulouse', 'Tampa', 'Nashville', 'Geelong', 'Tacoma', 'Columbus', 'Tuguegarao', 'Dole', 'Ajaccio', 'College Station', 'Deventer', 'Valence', 'Philadelphia', 'Marseille', 'Nice', 'Propriano', 'Cizre', 'Paris', 'Riverside', 'Las Vegas', 'Modesto', 'Golden', 'Nantes', 'Strasbourg', 'Tangerang', 'Bandung', 'Khost', 'Thessaloniki', 'Budapest', 'Athens', 'Daytona Beach', 'Yerevan', 'Turin', 'Assab', 'Genoa', 'Milan', 'Tbilisi', 'Mukalla', 'Aden', 'Ataq', 'Bologna', 'Sanaa', 'Bratsk', 'Fort Pierce', 'Perugia', 'Albuquerque', 'Wau', 'Prague', 'Haifa', 'Dali', 'Wawa', 'Vienna', 'Redlands', 'Isabela', 'Baghdad', 'Geneva', 'Sandakan', 'Ankara', 'Adana', 'Antalya', 'Gaziantep', 'Conakry', 'Kayseri', 'Istanbul', 'Izmir', 'Chateau-Thierry', 'Elazig', 'Van', 'Siirt', 'Chisinau', 'Pristina', 'Bratislava', 'Barberton', 'San Jose', 'Lashkar Gah', 'Chihuahua', 'Ciudad del Este', 'Buenos Aires', 'El Carmen', 'Limon', 'Santa Clara', 'Kiunga', 'Ansbach', 'Washington', 'Hanover', 'Bursa', 'Newton', 'Endicott', 'Whakatane', 'Kumasi', 'Peshawar', 'Herat', 'Jalalabad', 'Kabul', 'Kandahar', 'Shindand', 'Kunduz', 'Abha', 'Bisha', 'Dammam', 'Rahim Yar Khan', 'Jeddah', 'Riyadh', 'Tabuk', 'Taif', 'Wels', 'Bandar Mahshahr', 'Ahwaz', 'Mulia', 'Chimoio', 'Farah', 'Saravan', 'Amman', 'Jerusalem', 'Kuwait', 'Beirut', 'Bosaso', 'Mogadishu', 'Concepcion', 'Malindi', 'Faisalabad', 'Gwadar', 'Nyala', 'Karachi', 'Lahore', 'Gulu', 'Panjgur', 'Pasni', 'Nasiriyah', 'Quetta', 'Hannover', 'Islamabad', 'Sui', 'Wana', 'Zhob', 'Aleppo', 'Damascus', 'Palmyra']\n"
     ]
    }
   ],
   "source": [
    "print final_cities"
   ]
  },
  {
   "cell_type": "code",
   "execution_count": 22,
   "metadata": {},
   "outputs": [
    {
     "name": "stdout",
     "output_type": "stream",
     "text": [
      "Montreal\n",
      "Toronto\n",
      "Mayo\n",
      "Peterborough\n",
      "Sydney\n",
      "London\n",
      "Annaba\n",
      "Tebessa\n",
      "Ouagadougou\n",
      "San Pedro\n",
      "Abuja\n",
      "Calabar\n",
      "Jos\n",
      "Kaduna\n",
      "Kano\n",
      "Maiduguri\n",
      "Lagos\n",
      "Yola\n",
      "Zaria\n",
      "Diffa\n",
      "Tunis\n",
      "Remada\n",
      "Altenburg\n",
      "Jena\n",
      "Magdeburg\n",
      "Berlin\n",
      "Dresden\n",
      "Munster\n",
      "Hamburg\n",
      "Cologne\n",
      "Leipzig\n",
      "Bielefeld\n",
      "Augsburg\n",
      "Flensburg\n",
      "Oulu\n",
      "Tampere\n",
      "Belfast\n",
      "Londonderry\n",
      "Bristol\n",
      "Glasgow\n",
      "Cork\n",
      "Dublin\n",
      "Copenhagen\n",
      "Bodo\n",
      "Uppsala\n",
      "Trollhattan\n",
      "Stockholm\n",
      "Mora\n",
      "Ljungby\n",
      "Oskarshamn\n",
      "Vilhelmina\n",
      "Orebro\n",
      "Eskilstuna\n",
      "Laage\n",
      "Bethlehem\n",
      "Cape Town\n",
      "Bangui\n",
      "Maroua\n",
      "Maputo\n",
      "Nampula\n",
      "Maseru\n",
      "Goma\n",
      "Bamako\n",
      "Gao\n",
      "Rabat\n",
      "Casablanca\n",
      "Addis Ababa\n",
      "Bujumbura\n",
      "Alexandria\n",
      "Cairo\n",
      "Luxor\n",
      "Port Said\n",
      "Aswan\n",
      "Lamu\n",
      "Mombasa\n",
      "Nairobi\n",
      "Wajir\n",
      "Ghat\n",
      "Benghazi\n",
      "Tripoli\n",
      "Kadugli\n",
      "Juba\n",
      "Malakal\n",
      "Khartoum\n",
      "Tanga\n",
      "Zanzibar\n",
      "Tirana\n",
      "Sofia\n",
      "Paphos\n",
      "Madrid\n",
      "Ocana\n",
      "Santiago\n",
      "Poitiers\n",
      "Auch\n",
      "Ajaccio\n",
      "Macon\n",
      "Marseille\n",
      "Nice\n",
      "Orange\n",
      "Paris\n",
      "Le Mans\n",
      "Heraklion\n",
      "Thessaloniki\n",
      "Budapest\n",
      "Milan\n",
      "Bologna\n",
      "Brescia\n",
      "Rome\n",
      "Prague\n",
      "Ankara\n",
      "Adana\n",
      "Gaziantep\n",
      "Iskenderun\n",
      "Malatya\n",
      "Istanbul\n",
      "Izmir\n",
      "Erzurum\n",
      "Trabzon\n",
      "Van\n",
      "Batman\n",
      "Siirt\n",
      "Skopje\n",
      "San Jose\n",
      "Acapulco\n",
      "Matamoros\n",
      "Leon\n",
      "Buenos Aires\n",
      "Herat\n",
      "Jalalabad\n",
      "Kabul\n",
      "Kandahar\n",
      "Shindand\n",
      "Kunduz\n",
      "Bahrain\n",
      "Abha\n",
      "Dammam\n",
      "Dhahran\n",
      "Jeddah\n",
      "Riyadh\n",
      "Arar\n",
      "Taif\n",
      "Dezful\n",
      "Jerusalem\n",
      "Kuwait\n",
      "Beirut\n",
      "Faisalabad\n",
      "Gwadar\n",
      "Karachi\n",
      "Lahore\n",
      "Multan\n",
      "Panjgur\n",
      "Pasni\n",
      "Peshawar\n",
      "Quetta\n",
      "Islamabad\n",
      "Sukkur\n",
      "Sui\n",
      "Wana\n",
      "Aleppo\n",
      "Damascus\n",
      "Palmyra\n",
      "Doha\n",
      "Tokyo\n",
      "Kochi\n",
      "Zama\n",
      "Seoul\n",
      "Manila\n",
      "Pagadian\n",
      "Zamboanga\n",
      "Tacloban\n",
      "Iloilo\n",
      "Santa Cruz\n",
      "Santa Rosa\n",
      "Sao Paulo\n",
      "Guayaquil\n",
      "Puerto Asis\n",
      "Bogota\n",
      "Buenaventura\n",
      "Tumaco\n",
      "Florencia\n",
      "Pitalito\n",
      "Santa Marta\n",
      "Lima\n",
      "San Ramon\n",
      "Caracas\n",
      "San Antonio\n",
      "San Felipe\n",
      "San Juan\n",
      "Bishkek\n",
      "Kiev\n",
      "Donetsk\n",
      "Odessa\n",
      "Dushanbe\n",
      "Tashkent\n",
      "Moscow\n",
      "Bhopal\n",
      "Daman\n",
      "Goa\n",
      "Pune\n",
      "Raipur\n",
      "Colombo\n",
      "Jaffna\n",
      "Kolkata\n",
      "Gaya\n",
      "Imphal\n",
      "Jamshedpur\n",
      "Ranchi\n",
      "Chittagong\n",
      "Jessore\n",
      "Rajshahi\n",
      "Dhaka\n",
      "Allahabad\n",
      "Kulu\n",
      "Lucknow\n",
      "Srinagar\n",
      "Kathmandu\n",
      "Biratnagar\n",
      "Hyderabad\n",
      "Madurai\n",
      "Rajahmundry\n",
      "Male\n",
      "Bangkok\n",
      "Pattani\n",
      "Trang\n",
      "Lashio\n",
      "Yangon\n",
      "Poso\n",
      "Sibu\n",
      "Kuala Lumpur\n",
      "Melbourne\n",
      "Hobart\n",
      "Richmond\n",
      "Guangzhou\n",
      "Hotan\n",
      "Grand Forks\n",
      "Hollywood\n",
      "Lafayette\n",
      "Washington\n",
      "Houston\n",
      "Chattanooga\n",
      "Knoxville\n",
      "Merced\n",
      "New Orleans\n",
      "Charleston\n",
      "Reno\n",
      "Colorado Springs\n",
      "Minneapolis\n",
      "Valparaiso\n",
      "Charlotte\n",
      "Tangerang\n",
      "Athens\n",
      "Pullman\n",
      "Yerevan\n",
      "Gaza\n",
      "Tbilisi\n",
      "Mukalla\n",
      "Aden\n",
      "Ataq\n",
      "Sanaa\n",
      "Tagbilaran\n",
      "Kalamazoo\n",
      "Dali\n",
      "Djibouti\n",
      "Baghdad\n",
      "Sandakan\n",
      "Shenyang\n",
      "Conakry\n",
      "Bhojpur\n",
      "Butuan\n",
      "Dipolog\n",
      "Laoag\n",
      "Legazpi\n",
      "Las Cruces\n",
      "Kiunga\n",
      "Batna\n",
      "Bosaso\n",
      "Mogadishu\n",
      "Nyala\n",
      "Arua\n",
      "Bradford\n",
      "Tupelo\n",
      "Sanliurfa\n",
      "Faizabad\n",
      "Bam\n",
      "Bannu\n",
      "Bahawalpur\n",
      "Dalbandin\n",
      "Dera Ghazi Khan\n",
      "Jiwani\n",
      "Khuzdar\n",
      "Parachinar\n",
      "Turbat\n",
      "Sulaymaniyah\n",
      "Jolo\n",
      "Naga\n",
      "Catarman\n",
      "Rivne\n",
      "Shillong\n",
      "Dimapur\n",
      "Barisal\n",
      "Nepalgunj\n",
      "Liuzhou\n",
      "Nauen\n",
      "Mardin\n",
      "Burgos\n",
      "Kangra\n",
      "Kirkuk\n",
      "Lutsk\n",
      "Central\n",
      "Toowoomba\n",
      "Zaranj\n",
      "Kherson\n",
      "Mosul\n",
      "San Bernardino\n",
      "Tallinn\n",
      "Khost\n",
      "Sohag\n",
      "Wau\n",
      "Bor\n",
      "Tura\n",
      "Garissa\n",
      "Lashkar Gah\n",
      "Hanover\n",
      "Bursa\n",
      "Saint Denis\n",
      "Cizre\n",
      "Farah\n",
      "Kramatorsk\n",
      "Chapel Hill\n",
      "Meriden\n",
      "Kampala\n",
      "Beni\n",
      "Beni Suef\n",
      "Aurora\n",
      "Kangan\n",
      "Sargodha\n",
      "Qayyarah\n",
      "Tikrit\n",
      "Taji\n",
      "Surallah\n",
      "Durgapur\n",
      "0.533724340176\n"
     ]
    }
   ],
   "source": [
    "right_count = 0\n",
    "for city in final_pred_cities:\n",
    "    print city\n",
    "    if city in final_cities:\n",
    "        right_count += 1\n",
    "\n",
    "print right_count * 1.0/len(final_pred_cities)"
   ]
  },
  {
   "cell_type": "code",
   "execution_count": 23,
   "metadata": {
    "collapsed": true
   },
   "outputs": [],
   "source": [
    "import plotly.plotly as py\n",
    "from plotly.graph_objs import *"
   ]
  },
  {
   "cell_type": "code",
   "execution_count": 24,
   "metadata": {
    "collapsed": true
   },
   "outputs": [],
   "source": [
    "from geopy.geocoders import Nominatim\n",
    "geolocator = Nominatim()"
   ]
  },
  {
   "cell_type": "code",
   "execution_count": 25,
   "metadata": {},
   "outputs": [
    {
     "name": "stdout",
     "output_type": "stream",
     "text": [
      "{0: array([ 0.69493211,  0.30506789]), 1: array([ 0.80095247,  0.19904753]), 2: array([ 0.77994796,  0.22005204]), 3: array([ 0.82198479,  0.17801521]), 4: array([ 1.,  0.]), 5: array([ 0.70106895,  0.29893105]), 6: array([ 1.,  0.]), 7: array([ 1.,  0.]), 8: array([ 1.,  0.]), 9: array([ 0.50595839,  0.49404161]), 10: array([ 0.50595839,  0.49404161]), 11: array([ 0.50595839,  0.49404161]), 14: array([ 0.50595839,  0.49404161]), 15: array([ 1.,  0.]), 17: array([ 1.,  0.]), 20: array([ 0.62250752,  0.37749248]), 21: array([ 1.,  0.]), 22: array([ 1.,  0.]), 23: array([  1.00000000e+000,   1.08403706e-128]), 26: array([ 0.66729169,  0.33270831]), 27: array([ 0.66730273,  0.33269727]), 28: array([ 0.70179866,  0.29820134]), 29: array([  1.00000000e+000,   6.12762838e-130]), 30: array([ 0.514038,  0.485962]), 31: array([ 0.69159734,  0.30840266]), 32: array([ 0.62524457,  0.37475543]), 33: array([ 0.62524457,  0.37475543]), 35: array([ 0.54103794,  0.45896206]), 36: array([ 1.,  0.]), 39: array([  1.00000000e+000,   1.34410693e-128]), 40: array([ 0.76185375,  0.23814625]), 44: array([ 1.,  0.]), 47: array([  1.00000000e+00,   6.40715326e-55]), 48: array([ 1.,  0.]), 49: array([ 0.66133266,  0.33866734]), 53: array([ 1.,  0.]), 54: array([ 1.,  0.]), 55: array([ 0.61163905,  0.38836095]), 57: array([ 0.66715266,  0.33284734]), 59: array([ 0.50595839,  0.49404161]), 60: array([  1.00000000e+00,   1.16087064e-11]), 61: array([ 1.,  0.]), 62: array([ 0.61850936,  0.38149064]), 63: array([ 0.50595839,  0.49404161]), 64: array([ 0.66582805,  0.33417195]), 66: array([ 0.88479744,  0.11520256]), 67: array([  1.00000000e+000,   6.76163755e-129]), 68: array([ 0.65827175,  0.34172825]), 69: array([  1.00000000e+000,   2.86505163e-107]), 70: array([ 0.47618039,  0.52381961]), 71: array([ 0.66824615,  0.33175385]), 73: array([ 0.57920664,  0.42079336]), 75: array([ 0.61789016,  0.38210984]), 76: array([ 0.67064987,  0.32935013]), 77: array([ 0.62860535,  0.37139465]), 78: array([  9.99999999e-01,   1.46857130e-09]), 80: array([ 0.47618039,  0.52381961]), 83: array([ 0.514038,  0.485962]), 85: array([  1.00000000e+00,   1.30899569e-55]), 88: array([  1.00000000e+000,   3.19047526e-174]), 89: array([ 1.,  0.]), 91: array([ 1.,  0.]), 96: array([ 0.6209723,  0.3790277]), 97: array([ 1.,  0.]), 102: array([ 0.61294629,  0.38705371]), 103: array([ 0.60687013,  0.39312987]), 105: array([ 0.51944846,  0.48055154]), 106: array([ 0.60891078,  0.39108922]), 108: array([ 1.,  0.]), 109: array([ 0.67395212,  0.32604788]), 110: array([ 0.56614037,  0.43385963]), 112: array([  1.00000000e+00,   4.76157142e-29]), 113: array([ 0.514038,  0.485962]), 114: array([  1.00000000e+00,   2.25040393e-10]), 115: array([ 0.94379819,  0.05620181]), 116: array([ 0.80348329,  0.19651671]), 117: array([ 1.,  0.]), 118: array([ 0.62299864,  0.37700136]), 121: array([ 0.66814621,  0.33185379]), 122: array([ 0.47618039,  0.52381961]), 123: array([ 0.62488318,  0.37511682]), 124: array([  1.00000000e+000,   2.40140259e-258]), 128: array([ 1.,  0.]), 129: array([ 0.59798075,  0.40201925]), 131: array([ 0.56221939,  0.43778061]), 132: array([ 1.,  0.]), 135: array([ 0.56517416,  0.43482584]), 136: array([ 0.65669073,  0.34330927]), 137: array([ 0.99255062,  0.00744938]), 138: array([  1.00000000e+000,   5.06612755e-262]), 139: array([ 1.,  0.]), 140: array([ 0.50595839,  0.49404161]), 141: array([ 0.66046316,  0.33953684]), 142: array([ 0.60312526,  0.39687474]), 143: array([ 0.60913309,  0.39086691]), 146: array([ 0.50595839,  0.49404161]), 147: array([ 1.,  0.]), 148: array([ 1.,  0.]), 149: array([ 1.,  0.]), 150: array([ 1.,  0.]), 154: array([  1.00000000e+000,   2.48076647e-247]), 155: array([ 0.62488318,  0.37511682]), 157: array([ 0.6706466,  0.3293534]), 158: array([ 0.80348329,  0.19651671]), 159: array([ 0.514038,  0.485962]), 160: array([  1.00000000e+000,   1.39562765e-110]), 161: array([ 1.,  0.]), 162: array([  1.00000000e+000,   8.35696549e-259]), 164: array([  1.00000000e+00,   2.45264304e-96]), 165: array([ 0.67042777,  0.32957223]), 166: array([ 0.47618039,  0.52381961]), 167: array([ 0.62299864,  0.37700136]), 168: array([  1.00000000e+00,   1.50871992e-35]), 169: array([ 0.56585855,  0.43414145]), 170: array([ 1.,  0.]), 171: array([ 0.67042777,  0.32957223]), 172: array([ 0.66149009,  0.33850991]), 173: array([ 0.51944846,  0.48055154]), 174: array([ 0.56221939,  0.43778061]), 175: array([ 0.65827175,  0.34172825]), 176: array([ 0.76563337,  0.23436663]), 179: array([  1.00000000e+000,   5.01813267e-125]), 180: array([ 1.,  0.]), 181: array([ 1.,  0.]), 182: array([ 0.61299721,  0.38700279]), 184: array([  9.99998364e-01,   1.63617595e-06]), 186: array([ 1.,  0.]), 188: array([ 0.51944846,  0.48055154]), 189: array([ 0.50595839,  0.49404161]), 190: array([  1.00000000e+000,   9.45851550e-129]), 192: array([ 1.,  0.]), 195: array([  1.00000000e+000,   3.66921621e-152]), 196: array([ 0.50595839,  0.49404161]), 199: array([ 0.61202553,  0.38797447]), 200: array([ 1.,  0.]), 201: array([ 0.6716566,  0.3283434]), 206: array([  1.00000000e+000,   1.98111587e-113]), 210: array([ 0.47618039,  0.52381961]), 211: array([  1.00000000e+00,   6.67033871e-71]), 212: array([ 0.47618039,  0.52381961]), 213: array([ 0.62196678,  0.37803322]), 214: array([ 0.62196136,  0.37803864]), 218: array([ 1.,  0.]), 219: array([ 0.61202553,  0.38797447]), 221: array([ 0.62196136,  0.37803864]), 222: array([  1.00000000e+000,   1.94882406e-260]), 223: array([ 0.62307494,  0.37692506]), 224: array([ 0.5982839,  0.4017161]), 225: array([ 0.70539105,  0.29460895]), 226: array([  1.00000000e+000,   1.52866971e-260]), 227: array([ 0.66782821,  0.33217179]), 228: array([ 0.51158069,  0.48841931]), 231: array([  1.00000000e+000,   1.12773612e-169]), 232: array([ 0.6088277,  0.3911723]), 233: array([  1.00000000e+000,   9.05078689e-197]), 234: array([ 0.47618039,  0.52381961]), 235: array([ 0.54991014,  0.45008986]), 236: array([ 1.,  0.]), 237: array([ 0.50742676,  0.49257324]), 239: array([ 0.50742676,  0.49257324]), 240: array([ 0.50742676,  0.49257324]), 241: array([  1.00000000e+000,   2.45642244e-150]), 248: array([ 0.47618039,  0.52381961]), 250: array([ 0.50595839,  0.49404161]), 251: array([ 0.47618039,  0.52381961]), 252: array([ 0.53955736,  0.46044264]), 254: array([ 0.50595839,  0.49404161]), 255: array([ 0.50595839,  0.49404161]), 256: array([ 0.47618039,  0.52381961]), 257: array([ 0.47618039,  0.52381961]), 258: array([ 0.47618039,  0.52381961]), 261: array([ 0.47618039,  0.52381961]), 263: array([ 0.50595839,  0.49404161]), 264: array([ 0.50595839,  0.49404161]), 265: array([ 0.47618039,  0.52381961]), 268: array([  9.99999024e-01,   9.76156321e-07]), 274: array([ 0.56055735,  0.43944265]), 275: array([ 0.47618039,  0.52381961]), 278: array([ 0.61964163,  0.38035837]), 279: array([ 0.61964163,  0.38035837]), 281: array([ 0.95492296,  0.04507704]), 283: array([ 0.56133897,  0.43866103]), 284: array([  1.00000000e+00,   6.64259813e-33]), 286: array([  1.00000000e+00,   1.37447341e-45]), 287: array([ 0.50595839,  0.49404161]), 290: array([ 1.,  0.]), 292: array([  1.00000000e+000,   9.71697617e-169]), 297: array([ 0.6118547,  0.3881453]), 298: array([ 0.62088509,  0.37911491]), 324: array([ 0.47618039,  0.52381961]), 325: array([ 0.47618039,  0.52381961]), 326: array([ 0.74420671,  0.25579329]), 327: array([ 1.,  0.]), 328: array([ 0.45046818,  0.54953182]), 329: array([ 0.47618039,  0.52381961]), 330: array([ 0.47618039,  0.52381961]), 331: array([ 1.,  0.]), 332: array([ 1.,  0.]), 333: array([  1.00000000e+00,   6.70606497e-36]), 334: array([ 0.47618039,  0.52381961]), 335: array([ 0.60950969,  0.39049031]), 336: array([  1.00000000e+000,   3.22549685e-212]), 337: array([  1.00000000e+00,   3.21039547e-25]), 338: array([  1.00000000e+00,   2.82189159e-28]), 340: array([  1.00000000e+00,   1.82982466e-60]), 341: array([ 0.50595839,  0.49404161]), 348: array([ 0.70434151,  0.29565849]), 355: array([ 0.8262277,  0.1737723]), 357: array([  1.00000000e+00,   5.84126005e-42]), 358: array([ 0.47618039,  0.52381961]), 366: array([  9.99865637e-01,   1.34363476e-04]), 377: array([ 0.79597943,  0.20402057]), 384: array([ 0.61956214,  0.38043786]), 394: array([ 0.74390278,  0.25609722]), 397: array([ 0.50595839,  0.49404161]), 399: array([ 1.,  0.]), 400: array([ 0.51782449,  0.48217551]), 404: array([ 1.,  0.]), 411: array([ 0.62428069,  0.37571931]), 412: array([ 0.51782449,  0.48217551]), 413: array([ 0.62428069,  0.37571931]), 415: array([ 0.62428069,  0.37571931]), 416: array([ 0.51782449,  0.48217551]), 418: array([ 0.62428069,  0.37571931]), 420: array([ 0.51782449,  0.48217551]), 421: array([ 0.62428069,  0.37571931]), 422: array([ 0.51782449,  0.48217551]), 424: array([ 0.66716609,  0.33283391]), 425: array([ 0.62154708,  0.37845292]), 429: array([ 0.47618039,  0.52381961]), 431: array([ 0.8693616,  0.1306384]), 436: array([ 0.51782449,  0.48217551]), 438: array([ 0.51782449,  0.48217551]), 441: array([ 0.47618039,  0.52381961]), 443: array([ 0.62463985,  0.37536015]), 445: array([ 0.56303039,  0.43696961]), 448: array([ 0.47618039,  0.52381961]), 450: array([ 0.47618039,  0.52381961]), 451: array([ 1.,  0.]), 454: array([ 0.50595839,  0.49404161]), 459: array([ 1.,  0.]), 462: array([  1.00000000e+000,   1.00962440e-177]), 469: array([  1.00000000e+000,   3.35053029e-263]), 471: array([ 0.47618039,  0.52381961]), 472: array([  1.00000000e+00,   1.02585440e-57]), 474: array([ 0.94233055,  0.05766945]), 475: array([  1.00000000e+000,   3.46662978e-136]), 477: array([ 0.61832159,  0.38167841]), 478: array([  1.00000000e+000,   2.89158340e-144]), 479: array([  1.00000000e+00,   1.55925946e-43]), 485: array([ 0.91240807,  0.08759193]), 491: array([ 0.80545729,  0.19454271]), 492: array([ 0.70642314,  0.29357686]), 494: array([  1.00000000e+00,   1.27501863e-29]), 496: array([ 0.55688472,  0.44311528]), 497: array([  1.00000000e+000,   2.30634970e-264]), 498: array([ 1.,  0.]), 499: array([ 0.63001471,  0.36998529]), 500: array([  1.00000000e+00,   6.31664802e-47]), 505: array([ 1.,  0.]), 506: array([ 0.69105808,  0.30894192]), 507: array([ 0.62072865,  0.37927135]), 508: array([ 1.,  0.]), 509: array([  1.00000000e+000,   6.31287328e-127]), 510: array([ 0.47618039,  0.52381961]), 511: array([ 1.,  0.]), 512: array([ 0.50595839,  0.49404161]), 513: array([ 0.91309899,  0.08690101]), 514: array([ 0.5572793,  0.4427207]), 516: array([ 0.50595839,  0.49404161]), 517: array([ 0.76870738,  0.23129262]), 518: array([ 0.50595839,  0.49404161]), 522: array([ 0.81195933,  0.18804067]), 526: array([ 1.,  0.]), 552: array([ 0.60666771,  0.39333229]), 553: array([ 1.,  0.]), 555: array([ 0.80685557,  0.19314443]), 558: array([  1.00000000e+00,   4.60602818e-95]), 559: array([ 0.79577313,  0.20422687]), 564: array([  1.00000000e+00,   8.76331146e-11]), 569: array([ 0.47618039,  0.52381961]), 571: array([ 0.47618039,  0.52381961]), 572: array([ 0.88218609,  0.11781391]), 573: array([ 0.65915864,  0.34084136]), 575: array([  1.00000000e+00,   2.56335653e-14]), 577: array([ 0.62551521,  0.37448479]), 578: array([ 0.73396699,  0.26603301]), 579: array([  1.00000000e+000,   5.15074814e-196]), 580: array([ 0.47618039,  0.52381961]), 581: array([ 0.61745642,  0.38254358]), 583: array([ 0.50595839,  0.49404161]), 588: array([ 0.50595839,  0.49404161]), 589: array([ 0.50595839,  0.49404161]), 594: array([ 0.66817229,  0.33182771]), 597: array([ 0.69864011,  0.30135989]), 598: array([  1.00000000e+00,   3.34990390e-91]), 599: array([ 0.83673555,  0.16326445]), 600: array([ 0.66134317,  0.33865683]), 601: array([ 1.,  0.]), 603: array([  9.99996264e-01,   3.73633035e-06]), 604: array([ 0.47618039,  0.52381961]), 605: array([ 1.,  0.]), 606: array([ 0.73239148,  0.26760852]), 607: array([ 0.7935768,  0.2064232]), 609: array([ 0.51368972,  0.48631028]), 610: array([  1.00000000e+00,   1.72896457e-23]), 611: array([ 0.51368972,  0.48631028]), 612: array([ 0.73992144,  0.26007856]), 613: array([ 1.,  0.]), 614: array([ 0.81363023,  0.18636977]), 615: array([ 0.6158204,  0.3841796]), 616: array([ 0.75360371,  0.24639629]), 618: array([  1.00000000e+000,   2.49616679e-285]), 620: array([ 0.99687064,  0.00312936]), 621: array([ 0.67158166,  0.32841834]), 622: array([ 0.66487201,  0.33512799]), 624: array([ 0.51368972,  0.48631028]), 625: array([ 0.51368972,  0.48631028]), 626: array([  9.99994446e-01,   5.55432734e-06]), 627: array([ 0.62280464,  0.37719536]), 628: array([ 0.50595839,  0.49404161]), 629: array([ 0.672347,  0.327653]), 630: array([  9.99929735e-01,   7.02646275e-05]), 631: array([ 1.,  0.]), 632: array([  9.99991746e-01,   8.25407541e-06]), 633: array([ 1.,  0.]), 634: array([  1.00000000e+000,   7.06091103e-257]), 635: array([ 1.,  0.]), 636: array([  1.00000000e+000,   3.48324031e-117]), 637: array([  1.00000000e+00,   4.84402020e-60]), 638: array([  1.00000000e+00,   2.30531078e-27]), 640: array([  1.00000000e+00,   1.04994760e-12]), 641: array([ 0.70288044,  0.29711956]), 642: array([ 0.71892321,  0.28107679]), 645: array([  1.00000000e+00,   2.23870538e-23]), 647: array([ 0.56701969,  0.43298031]), 648: array([ 0.51782449,  0.48217551]), 650: array([ 0.50595839,  0.49404161]), 652: array([ 1.,  0.]), 653: array([ 0.56160731,  0.43839269]), 657: array([ 0.47618039,  0.52381961]), 660: array([ 0.47618039,  0.52381961]), 662: array([ 0.47618039,  0.52381961]), 666: array([ 0.50595839,  0.49404161]), 670: array([ 0.50595839,  0.49404161]), 671: array([  1.00000000e+000,   1.06549710e-263]), 672: array([ 0.61616593,  0.38383407]), 674: array([  9.99999896e-01,   1.03805041e-07]), 677: array([ 0.50595839,  0.49404161]), 678: array([ 0.64745764,  0.35254236]), 681: array([ 0.56160731,  0.43839269]), 682: array([  1.00000000e+000,   3.88195375e-259]), 684: array([ 0.60897737,  0.39102263]), 685: array([ 0.50595839,  0.49404161]), 687: array([ 0.56160731,  0.43839269]), 689: array([ 0.56055735,  0.43944265]), 691: array([ 0.83599855,  0.16400145]), 692: array([ 0.47618039,  0.52381961]), 693: array([ 0.50595839,  0.49404161]), 694: array([ 0.47618039,  0.52381961]), 695: array([ 0.62313558,  0.37686442]), 696: array([  9.99998404e-01,   1.59625799e-06]), 699: array([ 0.99636916,  0.00363084]), 703: array([ 0.61999078,  0.38000922]), 726: array([ 0.47618039,  0.52381961]), 747: array([ 0.62089964,  0.37910036]), 750: array([ 0.47618039,  0.52381961]), 752: array([  1.00000000e+00,   6.58619628e-43]), 753: array([ 0.66756028,  0.33243972]), 756: array([ 1.,  0.]), 757: array([ 0.62089964,  0.37910036]), 763: array([ 0.56112087,  0.43887913]), 766: array([ 0.56112087,  0.43887913]), 776: array([ 0.51868748,  0.48131252]), 785: array([ 0.66756028,  0.33243972]), 787: array([ 0.51868748,  0.48131252]), 790: array([ 0.51868748,  0.48131252]), 792: array([ 0.51868748,  0.48131252]), 796: array([ 0.51868748,  0.48131252]), 811: array([ 0.56112087,  0.43887913]), 812: array([ 0.51868748,  0.48131252]), 822: array([ 0.62460089,  0.37539911]), 824: array([ 0.67025108,  0.32974892]), 825: array([ 0.70057643,  0.29942357]), 826: array([  9.99686830e-01,   3.13169824e-04]), 828: array([  9.99999882e-01,   1.17621980e-07]), 831: array([  1.00000000e+000,   8.37456204e-263]), 832: array([ 0.51868748,  0.48131252]), 833: array([ 0.47618039,  0.52381961]), 835: array([ 0.61575331,  0.38424669]), 836: array([  1.00000000e+00,   6.92124616e-79]), 838: array([ 1.,  0.]), 839: array([ 0.51146409,  0.48853591]), 842: array([  1.00000000e+000,   2.25276406e-259]), 843: array([ 0.47618039,  0.52381961]), 845: array([ 0.61675201,  0.38324799]), 846: array([ 0.66555914,  0.33444086]), 849: array([ 1.,  0.]), 851: array([ 0.56518544,  0.43481456]), 852: array([ 1.,  0.]), 853: array([ 0.50595839,  0.49404161]), 855: array([  1.00000000e+00,   4.96094040e-67]), 857: array([ 0.94947614,  0.05052386]), 860: array([  1.00000000e+000,   1.67078304e-234]), 861: array([ 1.,  0.]), 862: array([ 0.9985048,  0.0014952]), 863: array([ 1.,  0.]), 865: array([ 0.66587447,  0.33412553]), 866: array([  1.00000000e+000,   2.05878467e-260]), 867: array([ 0.61735238,  0.38264762]), 868: array([ 0.73181152,  0.26818848]), 869: array([ 0.50595839,  0.49404161]), 872: array([ 0.66581688,  0.33418312]), 874: array([ 0.61737458,  0.38262542]), 875: array([ 0.69608976,  0.30391024]), 877: array([ 0.70557076,  0.29442924]), 878: array([ 0.67077582,  0.32922418]), 882: array([ 0.61735238,  0.38264762]), 888: array([ 0.67077582,  0.32922418]), 889: array([ 0.50993147,  0.49006853]), 891: array([ 0.62134793,  0.37865207]), 892: array([ 0.66825614,  0.33174386]), 893: array([ 0.62134793,  0.37865207]), 895: array([ 1.,  0.]), 896: array([ 0.62134793,  0.37865207]), 897: array([ 0.66825614,  0.33174386]), 900: array([ 0.62134793,  0.37865207]), 901: array([ 0.62134793,  0.37865207]), 902: array([ 0.63782981,  0.36217019]), 903: array([ 0.50993147,  0.49006853]), 910: array([ 0.50595839,  0.49404161]), 913: array([  1.00000000e+00,   2.33452999e-20]), 916: array([ 0.56322442,  0.43677558]), 917: array([  1.00000000e+00,   5.68102656e-34]), 918: array([ 0.62093039,  0.37906961]), 919: array([ 0.52868752,  0.47131248]), 921: array([ 0.47618039,  0.52381961]), 926: array([ 0.47618039,  0.52381961]), 927: array([ 0.56055735,  0.43944265]), 928: array([ 0.61472141,  0.38527859]), 930: array([  1.00000000e+000,   3.59323652e-132]), 932: array([ 0.62093039,  0.37906961]), 936: array([  1.00000000e+000,   3.98629568e-277]), 937: array([ 0.50595839,  0.49404161]), 941: array([  1.00000000e+000,   2.22993959e-224]), 943: array([ 0.67025108,  0.32974892]), 944: array([  1.00000000e+00,   2.54910151e-61]), 946: array([ 0.73674556,  0.26325444]), 954: array([ 0.65752105,  0.34247895]), 957: array([ 0.71473833,  0.28526167]), 959: array([ 0.47618039,  0.52381961]), 960: array([ 1.,  0.]), 965: array([  1.00000000e+000,   2.15628980e-259]), 967: array([ 0.50595839,  0.49404161]), 970: array([ 1.,  0.]), 971: array([  1.00000000e+000,   2.46949864e-128]), 972: array([ 0.53413091,  0.46586909]), 974: array([ 1.,  0.]), 975: array([ 0.47618039,  0.52381961]), 976: array([ 1.,  0.]), 977: array([  1.00000000e+00,   6.44208793e-67]), 979: array([ 0.50595839,  0.49404161]), 981: array([ 0.66674875,  0.33325125]), 982: array([ 0.61696344,  0.38303656]), 983: array([ 0.47618039,  0.52381961]), 989: array([ 0.98335369,  0.01664631]), 990: array([  1.00000000e+00,   1.04176622e-68]), 991: array([ 0.6209832,  0.3790168]), 992: array([ 0.77005258,  0.22994742]), 993: array([ 1.,  0.]), 994: array([  1.00000000e+00,   1.38440874e-74]), 995: array([ 1.,  0.]), 996: array([ 0.66425334,  0.33574666]), 997: array([  1.00000000e+00,   2.20882122e-10]), 999: array([ 0.64138225,  0.35861775]), 1000: array([  1.00000000e+000,   2.45485905e-105]), 1001: array([ 0.50595839,  0.49404161]), 1002: array([  1.00000000e+00,   8.64559358e-16]), 1006: array([ 0.57190008,  0.42809992]), 1008: array([ 0.47618039,  0.52381961]), 1009: array([ 0.47618039,  0.52381961]), 1010: array([  1.00000000e+000,   7.82608471e-172]), 1012: array([ 0.50595839,  0.49404161]), 1013: array([ 0.55921259,  0.44078741]), 1014: array([ 0.55921259,  0.44078741]), 1015: array([ 0.64487133,  0.35512867]), 1016: array([ 0.62005449,  0.37994551]), 1017: array([ 0.62005449,  0.37994551]), 1019: array([ 1.,  0.]), 1020: array([ 1.,  0.]), 1029: array([  1.00000000e+00,   1.47286229e-40]), 1032: array([ 0.60262942,  0.39737058]), 1037: array([  1.00000000e+000,   6.12141217e-200]), 1038: array([  1.00000000e+000,   4.79735801e-185]), 1039: array([ 0.50595839,  0.49404161]), 1040: array([ 0.61761867,  0.38238133]), 1041: array([  1.00000000e+00,   3.03863248e-71]), 1042: array([ 0.47618039,  0.52381961]), 1043: array([ 0.55978322,  0.44021678]), 1044: array([ 0.55978322,  0.44021678]), 1045: array([ 0.55978322,  0.44021678]), 1046: array([ 0.55960668,  0.44039332]), 1047: array([ 0.55978322,  0.44021678]), 1048: array([ 0.55978322,  0.44021678]), 1049: array([ 0.55978322,  0.44021678]), 1050: array([ 0.65314506,  0.34685494]), 1051: array([ 0.50595839,  0.49404161]), 1052: array([ 0.55978322,  0.44021678]), 1053: array([ 0.47618039,  0.52381961]), 1054: array([  1.00000000e+00,   2.59691513e-25]), 1055: array([  1.00000000e+000,   2.26102807e-232]), 1057: array([ 0.47618039,  0.52381961]), 1058: array([ 0.50595839,  0.49404161]), 1059: array([ 0.47618039,  0.52381961]), 1060: array([  9.99999663e-01,   3.37377227e-07]), 1062: array([ 0.47618039,  0.52381961]), 1066: array([ 0.47618039,  0.52381961]), 1068: array([ 0.61507865,  0.38492135]), 1070: array([ 0.55849832,  0.44150168]), 1071: array([ 0.50595839,  0.49404161]), 1072: array([ 0.55849832,  0.44150168]), 1073: array([ 0.47618039,  0.52381961]), 1074: array([ 0.47618039,  0.52381961]), 1076: array([ 0.47618039,  0.52381961]), 1077: array([ 0.47618039,  0.52381961]), 1080: array([ 0.47618039,  0.52381961]), 1081: array([ 0.50595839,  0.49404161]), 1082: array([ 0.47618039,  0.52381961]), 1084: array([ 0.47618039,  0.52381961]), 1089: array([ 0.50595839,  0.49404161]), 1092: array([  1.00000000e+000,   8.20455253e-283]), 1093: array([ 0.50595839,  0.49404161]), 1096: array([ 0.50595839,  0.49404161]), 1100: array([ 0.47618039,  0.52381961]), 1102: array([ 0.47618039,  0.52381961]), 1103: array([ 0.55450233,  0.44549767]), 1104: array([ 1.,  0.]), 1107: array([  1.00000000e+00,   1.19096250e-46]), 1109: array([ 0.50595839,  0.49404161]), 1110: array([  1.00000000e+000,   1.71918840e-259]), 1112: array([ 0.47618039,  0.52381961]), 1113: array([ 1.,  0.]), 1115: array([ 0.47618039,  0.52381961]), 1116: array([ 0.56055735,  0.43944265]), 1118: array([ 0.56828685,  0.43171315]), 1119: array([ 0.47618039,  0.52381961]), 1121: array([ 0.70387181,  0.29612819]), 1122: array([  1.00000000e+00,   5.18190085e-78]), 1123: array([ 0.47618039,  0.52381961]), 1125: array([  1.00000000e+00,   4.38568164e-37]), 1127: array([ 0.66975493,  0.33024507]), 1128: array([ 0.99093258,  0.00906742]), 1130: array([ 0.65720614,  0.34279386]), 1131: array([  1.00000000e+00,   2.49339852e-22]), 1133: array([  1.00000000e+000,   2.18112860e-288]), 1134: array([  9.99623177e-01,   3.76822723e-04]), 1137: array([ 1.,  0.]), 1138: array([  1.00000000e+00,   4.74239697e-10]), 1139: array([ 0.79701276,  0.20298724]), 1140: array([  1.00000000e+00,   5.54396258e-38]), 1141: array([  1.00000000e+00,   1.77708685e-24]), 1142: array([ 1.,  0.]), 1143: array([ 0.56530946,  0.43469054]), 1144: array([ 0.70380512,  0.29619488]), 1145: array([  9.99141068e-01,   8.58932456e-04]), 1146: array([  1.00000000e+000,   1.81994431e-150]), 1147: array([ 0.47618039,  0.52381961]), 1148: array([  1.00000000e+00,   4.61891259e-66]), 1149: array([ 0.87545313,  0.12454687]), 1150: array([  9.99922102e-01,   7.78975574e-05]), 1151: array([ 1.,  0.]), 1152: array([ 0.92161538,  0.07838462]), 1153: array([  1.00000000e+00,   6.28945500e-13]), 1155: array([ 0.50595839,  0.49404161]), 1156: array([ 0.72118308,  0.27881692]), 1157: array([ 0.61605507,  0.38394493]), 1158: array([ 0.5204659,  0.4795341]), 1160: array([ 0.55786123,  0.44213877]), 1161: array([ 0.56530946,  0.43469054]), 1162: array([ 0.47618039,  0.52381961]), 1164: array([  1.00000000e+000,   1.19519333e-266]), 1165: array([ 0.62547793,  0.37452207]), 1166: array([  9.99854118e-01,   1.45882385e-04]), 1167: array([ 0.65931782,  0.34068218]), 1168: array([ 0.90952166,  0.09047834]), 1169: array([ 0.7882634,  0.2117366]), 1178: array([ 0.56765233,  0.43234767]), 1180: array([  1.00000000e+00,   1.38503722e-49]), 1181: array([  9.99928524e-01,   7.14762696e-05]), 1182: array([ 1.,  0.]), 1184: array([ 0.47618039,  0.52381961]), 1186: array([  1.00000000e+00,   1.35455971e-96]), 1189: array([ 0.56263918,  0.43736082]), 1190: array([ 0.72718448,  0.27281552]), 1191: array([ 0.56076625,  0.43923375]), 1192: array([ 0.50595839,  0.49404161]), 1193: array([ 0.56055735,  0.43944265]), 1194: array([ 0.54471719,  0.45528281]), 1195: array([ 0.56055735,  0.43944265]), 1200: array([ 0.56055735,  0.43944265]), 1203: array([ 0.56055735,  0.43944265]), 1222: array([ 0.67059633,  0.32940367]), 1226: array([ 0.50595839,  0.49404161]), 1233: array([ 0.65643515,  0.34356485]), 1234: array([  1.00000000e+00,   4.04127005e-37]), 1235: array([ 0.65388254,  0.34611746]), 1236: array([  1.00000000e+000,   5.78687183e-261]), 1237: array([ 0.47618039,  0.52381961]), 1243: array([ 0.65902058,  0.34097942]), 1247: array([ 1.,  0.]), 1248: array([ 0.47618039,  0.52381961]), 1256: array([ 0.50595839,  0.49404161]), 1261: array([ 0.56055735,  0.43944265]), 1263: array([ 0.89283479,  0.10716521]), 1264: array([ 0.47618039,  0.52381961]), 1265: array([ 0.47618039,  0.52381961]), 1266: array([ 0.47618039,  0.52381961]), 1267: array([ 0.57461699,  0.42538301]), 1270: array([ 0.99808665,  0.00191335]), 1271: array([ 0.71710899,  0.28289101]), 1272: array([ 0.55098842,  0.44901158]), 1278: array([  1.00000000e+00,   1.03348816e-55]), 1282: array([ 0.50836544,  0.49163456]), 1285: array([ 0.61986605,  0.38013395]), 1287: array([ 0.60067402,  0.39932598]), 1290: array([ 0.47618039,  0.52381961]), 1307: array([  1.00000000e+00,   1.13995380e-19]), 1311: array([ 0.65212576,  0.34787424]), 1313: array([ 0.61091697,  0.38908303]), 1316: array([ 0.50595839,  0.49404161]), 1317: array([ 0.56767371,  0.43232629]), 1320: array([ 0.56055735,  0.43944265]), 1323: array([ 0.71316525,  0.28683475]), 1324: array([ 0.50595839,  0.49404161]), 1325: array([ 0.50595839,  0.49404161]), 1326: array([  1.00000000e+00,   7.12556023e-46]), 1331: array([  1.00000000e+000,   1.06405127e-106]), 1332: array([ 0.50595839,  0.49404161]), 1339: array([ 0.93397902,  0.06602098]), 1342: array([ 0.56055735,  0.43944265]), 1343: array([ 0.63950167,  0.36049833]), 1349: array([ 0.55888412,  0.44111588]), 1350: array([ 0.73782615,  0.26217385]), 1352: array([ 0.65893049,  0.34106951]), 1353: array([ 0.50595839,  0.49404161]), 1354: array([ 0.47618039,  0.52381961]), 1355: array([ 0.50595839,  0.49404161]), 1356: array([ 0.65140854,  0.34859146]), 1357: array([ 0.68830696,  0.31169304]), 1358: array([ 0.97616754,  0.02383246]), 1359: array([ 0.65793247,  0.34206753]), 1360: array([  1.00000000e+00,   1.82884943e-68]), 1361: array([  1.00000000e+000,   4.40154362e-220]), 1362: array([  1.00000000e+00,   5.18564998e-25]), 1363: array([ 0.60625151,  0.39374849]), 1364: array([ 0.50595839,  0.49404161]), 1365: array([ 0.61521171,  0.38478829]), 1366: array([ 0.59673271,  0.40326729]), 1369: array([ 0.80296896,  0.19703104]), 1370: array([  1.00000000e+00,   1.12544094e-11]), 1371: array([  1.00000000e+00,   9.04747307e-37]), 1372: array([ 1.,  0.]), 1373: array([ 0.60966016,  0.39033984]), 1374: array([  1.00000000e+00,   2.84899993e-22]), 1375: array([ 0.50595839,  0.49404161]), 1376: array([ 0.72854473,  0.27145527]), 1378: array([ 0.70103129,  0.29896871]), 1379: array([  1.00000000e+00,   5.56726618e-39]), 1381: array([ 0.50595839,  0.49404161]), 1385: array([ 0.47618039,  0.52381961]), 1387: array([ 0.99719998,  0.00280002]), 1388: array([ 0.47618039,  0.52381961]), 1389: array([ 0.56828154,  0.43171846]), 1397: array([  1.00000000e+00,   1.86635431e-22]), 1401: array([ 0.78263903,  0.21736097]), 1402: array([ 0.90915256,  0.09084744]), 1404: array([ 0.93020136,  0.06979864]), 1405: array([  1.00000000e+00,   9.63621546e-78]), 1406: array([ 0.66960081,  0.33039919]), 1407: array([ 0.67303573,  0.32696427]), 1408: array([  1.00000000e+000,   3.11251141e-126]), 1409: array([ 0.60961525,  0.39038475]), 1410: array([  1.00000000e+00,   1.27463829e-23]), 1412: array([  1.00000000e+00,   6.08207067e-32]), 1414: array([  1.00000000e+00,   6.72205715e-41]), 1415: array([ 0.9304983,  0.0695017]), 1418: array([ 1.,  0.]), 1419: array([ 1.,  0.]), 1420: array([  1.00000000e+00,   1.34748541e-32]), 1422: array([  9.99996907e-01,   3.09300810e-06]), 1423: array([ 0.47618039,  0.52381961]), 1425: array([ 0.60268812,  0.39731188]), 1427: array([ 0.64204415,  0.35795585]), 1429: array([ 0.50595839,  0.49404161]), 1431: array([ 0.47618039,  0.52381961]), 1432: array([  1.00000000e+00,   1.82889671e-11]), 1438: array([ 0.73807825,  0.26192175]), 1439: array([ 0.56418814,  0.43581186]), 1442: array([ 0.65564812,  0.34435188]), 1443: array([ 1.,  0.]), 1445: array([ 0.47618039,  0.52381961]), 1448: array([ 0.99841603,  0.00158397]), 1451: array([  1.00000000e+00,   1.86836440e-27]), 1452: array([  1.00000000e+000,   4.53244268e-149]), 1453: array([ 0.83500332,  0.16499668]), 1456: array([ 0.63254051,  0.36745949]), 1458: array([  9.99997642e-01,   2.35832687e-06]), 1468: array([ 0.62200809,  0.37799191]), 1471: array([ 0.5532622,  0.4467378]), 1473: array([ 0.5643857,  0.4356143]), 1476: array([ 0.47618039,  0.52381961]), 1477: array([ 0.50595839,  0.49404161]), 1479: array([ 1.,  0.]), 1483: array([ 0.62509055,  0.37490945]), 1485: array([ 0.62509055,  0.37490945]), 1491: array([ 0.50595839,  0.49404161]), 1494: array([  1.00000000e+000,   2.38979453e-217]), 1497: array([ 0.85288406,  0.14711594]), 1498: array([ 0.74620296,  0.25379704]), 1499: array([ 0.77831786,  0.22168214]), 1500: array([ 0.985206,  0.014794]), 1501: array([ 1.,  0.]), 1504: array([ 0.62367582,  0.37632418]), 1512: array([  1.00000000e+000,   1.00617722e-107]), 1513: array([ 0.50595839,  0.49404161]), 1514: array([  1.00000000e+000,   2.73094342e-162]), 1515: array([  1.00000000e+000,   4.48603509e-277]), 1519: array([ 1.,  0.]), 1520: array([ 0.66968641,  0.33031359]), 1522: array([ 1.,  0.]), 1523: array([ 0.51616604,  0.48383396]), 1524: array([ 1.,  0.]), 1525: array([ 0.61877967,  0.38122033]), 1530: array([ 0.50595839,  0.49404161]), 1531: array([  9.99984987e-01,   1.50125198e-05]), 1532: array([ 0.50595839,  0.49404161]), 1534: array([ 0.50849732,  0.49150268]), 1535: array([ 1.,  0.]), 1536: array([ 0.50595839,  0.49404161]), 1537: array([ 0.80112116,  0.19887884]), 1539: array([ 0.56832407,  0.43167593]), 1540: array([ 0.68625322,  0.31374678]), 1541: array([ 0.50849732,  0.49150268]), 1542: array([ 0.67264632,  0.32735368]), 1543: array([ 0.50849732,  0.49150268]), 1546: array([ 0.64830397,  0.35169603]), 1547: array([ 0.78648643,  0.21351357]), 1549: array([ 1.,  0.]), 1558: array([ 0.62805037,  0.37194963]), 1559: array([  9.99742302e-01,   2.57697554e-04]), 1561: array([ 1.,  0.]), 1562: array([ 0.60803195,  0.39196805]), 1564: array([ 0.47618039,  0.52381961]), 1565: array([ 0.47618039,  0.52381961]), 1567: array([ 1.,  0.]), 1568: array([ 0.47618039,  0.52381961]), 1570: array([ 0.56817514,  0.43182486]), 1571: array([ 0.47618039,  0.52381961]), 1572: array([ 0.50595839,  0.49404161]), 1573: array([ 0.50595839,  0.49404161]), 1574: array([ 0.61216948,  0.38783052]), 1577: array([ 0.50595839,  0.49404161]), 1578: array([ 0.47618039,  0.52381961]), 1582: array([ 0.47618039,  0.52381961]), 1583: array([ 0.50595839,  0.49404161]), 1584: array([ 0.50595839,  0.49404161]), 1587: array([  1.00000000e+00,   3.20979378e-32]), 1589: array([  1.00000000e+00,   7.37602273e-11]), 1590: array([ 0.54658182,  0.45341818]), 1591: array([ 0.54658182,  0.45341818]), 1592: array([ 0.50595839,  0.49404161]), 1593: array([ 0.47618039,  0.52381961]), 1594: array([ 0.47618039,  0.52381961]), 1595: array([ 0.47618039,  0.52381961]), 1596: array([ 0.47618039,  0.52381961]), 1599: array([  1.00000000e+00,   2.01499028e-36]), 1601: array([ 0.47618039,  0.52381961]), 1602: array([ 0.62175449,  0.37824551]), 1603: array([  1.00000000e+000,   6.71909777e-115]), 1605: array([ 0.73532734,  0.26467266]), 1606: array([ 0.88853501,  0.11146499]), 1607: array([ 0.64020798,  0.35979202]), 1609: array([ 0.99591249,  0.00408751]), 1610: array([ 0.60703721,  0.39296279]), 1617: array([ 1.,  0.]), 1618: array([ 0.61713022,  0.38286978]), 1619: array([ 0.56055735,  0.43944265]), 1622: array([  9.99458141e-01,   5.41859435e-04]), 1623: array([ 1.,  0.]), 1624: array([  1.00000000e+00,   1.96969814e-23]), 1625: array([  1.00000000e+000,   3.67925600e-116]), 1629: array([  1.00000000e+000,   1.12413704e-201]), 1631: array([ 0.47618039,  0.52381961]), 1632: array([ 1.,  0.]), 1633: array([  1.00000000e+000,   9.03869365e-207]), 1634: array([ 0.50595839,  0.49404161]), 1635: array([  1.00000000e+000,   5.02246889e-108]), 1637: array([ 1.,  0.]), 1638: array([ 0.50595839,  0.49404161]), 1640: array([  1.00000000e+00,   4.64253962e-37]), 1642: array([ 0.47618039,  0.52381961]), 1643: array([  1.00000000e+000,   6.99587973e-127]), 1644: array([ 0.69348046,  0.30651954]), 1645: array([ 0.56488387,  0.43511613]), 1648: array([ 0.56488387,  0.43511613]), 1651: array([ 0.78581541,  0.21418459]), 1652: array([ 0.51868748,  0.48131252]), 1653: array([ 0.70064567,  0.29935433]), 1654: array([ 0.51868748,  0.48131252]), 1655: array([ 0.75558149,  0.24441851]), 1656: array([  9.99924727e-01,   7.52725380e-05]), 1657: array([ 0.51868748,  0.48131252]), 1658: array([ 0.77306072,  0.22693928]), 1659: array([ 0.67713024,  0.32286976]), 1660: array([ 0.62522333,  0.37477667]), 1662: array([ 1.,  0.]), 1665: array([  1.00000000e+00,   1.25412398e-39]), 1666: array([ 0.62522333,  0.37477667]), 1668: array([ 0.56488387,  0.43511613]), 1670: array([ 0.51868748,  0.48131252]), 1671: array([ 0.73144518,  0.26855482]), 1672: array([ 0.81687758,  0.18312242]), 1673: array([ 1.,  0.]), 1674: array([ 0.53129844,  0.46870156]), 1675: array([ 0.47618039,  0.52381961]), 1676: array([ 0.90914427,  0.09085573]), 1677: array([ 0.67030019,  0.32969981]), 1678: array([ 0.65025903,  0.34974097]), 1679: array([ 0.51868748,  0.48131252]), 1681: array([ 1.,  0.]), 1682: array([  1.00000000e+00,   8.26389269e-35]), 1684: array([ 0.51868748,  0.48131252]), 1685: array([ 0.69805564,  0.30194436]), 1686: array([ 0.67410024,  0.32589976]), 1687: array([ 0.71623585,  0.28376415]), 1690: array([ 0.51868748,  0.48131252]), 1691: array([ 0.57876114,  0.42123886]), 1692: array([  1.00000000e+00,   1.81236287e-35]), 1693: array([ 0.51868748,  0.48131252]), 1694: array([ 0.67305981,  0.32694019]), 1695: array([ 0.64508121,  0.35491879]), 1696: array([  1.00000000e+00,   1.50426875e-57]), 1698: array([ 0.70116244,  0.29883756]), 1700: array([ 0.72973959,  0.27026041]), 1701: array([ 0.74295896,  0.25704104]), 1702: array([ 1.,  0.]), 1703: array([ 0.71231767,  0.28768233]), 1705: array([ 0.94617882,  0.05382118]), 1706: array([ 0.62468084,  0.37531916]), 1707: array([ 1.,  0.]), 1708: array([  9.99110722e-01,   8.89277632e-04]), 1709: array([ 0.74977972,  0.25022028]), 1710: array([ 0.6564192,  0.3435808]), 1711: array([ 0.92878757,  0.07121243]), 1713: array([ 0.61046766,  0.38953234]), 1717: array([ 0.47618039,  0.52381961]), 1718: array([ 0.77842201,  0.22157799]), 1720: array([ 1.,  0.]), 1721: array([ 0.6051716,  0.3948284]), 1722: array([  1.00000000e+000,   3.83749276e-303]), 1724: array([ 1.,  0.]), 1725: array([ 1.,  0.]), 1726: array([ 0.47618039,  0.52381961]), 1731: array([ 0.5583506,  0.4416494]), 1733: array([  1.00000000e+00,   1.92030654e-67]), 1736: array([ 0.5583506,  0.4416494]), 1738: array([ 0.5583506,  0.4416494]), 1739: array([ 0.61502602,  0.38497398]), 1740: array([ 0.62433769,  0.37566231]), 1742: array([  1.00000000e+000,   7.79012494e-147]), 1744: array([ 0.6191652,  0.3808348]), 1746: array([  1.00000000e+000,   4.78625306e-227]), 1750: array([  1.00000000e+00,   2.05360036e-22]), 1752: array([ 0.60940249,  0.39059751]), 1753: array([ 0.56055735,  0.43944265]), 1754: array([ 0.99871374,  0.00128626]), 1756: array([ 0.50836544,  0.49163456]), 1757: array([ 1.,  0.]), 1758: array([ 0.74797912,  0.25202088]), 1767: array([  1.00000000e+00,   4.58931791e-49]), 1769: array([  1.00000000e+00,   4.64284667e-13]), 1770: array([ 1.,  0.]), 1773: array([ 0.77730251,  0.22269749]), 1775: array([ 0.61999971,  0.38000029]), 1777: array([ 0.51017989,  0.48982011]), 1780: array([ 0.51017989,  0.48982011]), 1781: array([  1.00000000e+00,   4.41501745e-14]), 1783: array([ 0.70589299,  0.29410701]), 1784: array([ 0.66916526,  0.33083474]), 1786: array([ 0.50631021,  0.49368979]), 1788: array([ 0.80205608,  0.19794392]), 1789: array([ 0.61999971,  0.38000029]), 1790: array([ 0.50631021,  0.49368979]), 1791: array([ 0.50631021,  0.49368979]), 1792: array([ 0.61999971,  0.38000029]), 1793: array([ 1.,  0.]), 1796: array([  1.00000000e+000,   1.53981191e-281]), 1797: array([ 1.,  0.]), 1798: array([ 0.61521026,  0.38478974]), 1799: array([ 1.,  0.]), 1800: array([ 1.,  0.]), 1801: array([ 1.,  0.]), 1802: array([ 0.66766692,  0.33233308]), 1804: array([  9.99540609e-01,   4.59390873e-04]), 1806: array([  1.00000000e+000,   2.36552593e-259]), 1807: array([ 0.71192088,  0.28807912]), 1808: array([ 0.51379132,  0.48620868]), 1809: array([ 0.67020415,  0.32979585]), 1810: array([ 0.67020415,  0.32979585]), 1813: array([ 0.66485837,  0.33514163]), 1815: array([ 0.61578686,  0.38421314]), 1816: array([ 0.67020415,  0.32979585]), 1817: array([ 0.61578686,  0.38421314]), 1818: array([ 0.61578686,  0.38421314]), 1819: array([ 0.61578686,  0.38421314]), 1821: array([ 0.50595839,  0.49404161]), 1822: array([ 0.61578686,  0.38421314]), 1823: array([ 0.61578686,  0.38421314]), 1824: array([  1.00000000e+000,   2.32094236e-259]), 1825: array([  1.00000000e+000,   2.07384412e-259]), 1826: array([ 0.79433204,  0.20566796]), 1827: array([ 0.76030606,  0.23969394]), 1828: array([ 0.69511381,  0.30488619]), 1829: array([ 0.69511381,  0.30488619]), 1830: array([ 0.67020415,  0.32979585]), 1831: array([ 0.66485837,  0.33514163]), 1832: array([ 0.73526082,  0.26473918]), 1833: array([ 1.,  0.]), 1834: array([ 0.50595839,  0.49404161]), 1835: array([ 0.61408655,  0.38591345]), 1836: array([ 0.66957604,  0.33042396]), 1837: array([ 1.,  0.]), 1838: array([ 0.50595839,  0.49404161]), 1839: array([ 0.50595839,  0.49404161]), 1840: array([ 0.61408655,  0.38591345]), 1841: array([ 1.,  0.]), 1842: array([ 0.62073782,  0.37926218]), 1844: array([ 1.,  0.]), 1846: array([ 0.69942732,  0.30057268]), 1847: array([ 0.62073782,  0.37926218]), 1849: array([ 0.50595839,  0.49404161]), 1851: array([ 0.50824818,  0.49175182]), 1852: array([ 0.50824818,  0.49175182]), 1857: array([ 0.66788599,  0.33211401]), 1858: array([ 0.69799221,  0.30200779]), 1859: array([ 0.61312162,  0.38687838]), 1862: array([ 0.70063425,  0.29936575]), 1863: array([ 0.62073236,  0.37926764]), 1864: array([ 0.70174178,  0.29825822]), 1865: array([ 0.66788599,  0.33211401]), 1868: array([ 0.66788599,  0.33211401]), 1869: array([ 0.50595839,  0.49404161]), 1871: array([ 0.66788599,  0.33211401]), 1875: array([ 0.50824818,  0.49175182]), 1876: array([ 1.,  0.]), 1879: array([ 0.62073782,  0.37926218]), 1880: array([ 0.50595839,  0.49404161]), 1881: array([ 0.50824818,  0.49175182]), 1882: array([ 0.47618039,  0.52381961]), 1884: array([ 0.47618039,  0.52381961]), 1885: array([ 0.47618039,  0.52381961]), 1887: array([ 0.60013323,  0.39986677]), 1891: array([ 0.47618039,  0.52381961]), 1892: array([ 0.47618039,  0.52381961]), 1893: array([ 0.5608739,  0.4391261]), 1894: array([ 0.54090544,  0.45909456]), 1895: array([ 0.54090544,  0.45909456]), 1897: array([ 0.47618039,  0.52381961]), 1899: array([ 0.56055735,  0.43944265]), 1900: array([ 0.60890092,  0.39109908]), 1901: array([ 0.50595839,  0.49404161]), 1902: array([ 0.5933548,  0.4066452]), 1904: array([ 0.47618039,  0.52381961]), 1906: array([ 1.,  0.]), 1907: array([ 0.54090544,  0.45909456]), 1908: array([ 0.50595839,  0.49404161]), 1913: array([ 0.50595839,  0.49404161]), 1914: array([ 0.47618039,  0.52381961]), 1916: array([ 0.47618039,  0.52381961]), 1918: array([ 0.50595839,  0.49404161]), 1920: array([ 0.57786806,  0.42213194]), 1921: array([ 0.47618039,  0.52381961]), 1924: array([ 0.50595839,  0.49404161]), 1925: array([ 0.50595839,  0.49404161]), 1926: array([ 0.56055735,  0.43944265]), 1927: array([ 0.66452734,  0.33547266]), 1933: array([ 0.61503643,  0.38496357]), 1934: array([  1.00000000e+000,   5.32407168e-131]), 1936: array([  1.00000000e+00,   5.02600571e-24]), 1939: array([  1.00000000e+00,   9.26710176e-36]), 1940: array([ 0.6297742,  0.3702258]), 1944: array([  1.00000000e+00,   1.97159982e-23]), 1945: array([ 0.50595839,  0.49404161]), 1947: array([ 1.,  0.]), 1950: array([  1.00000000e+00,   3.38468061e-11]), 1954: array([ 1.,  0.]), 1957: array([  1.00000000e+00,   3.33301582e-67]), 1959: array([ 0.69841621,  0.30158379]), 1962: array([ 0.61521586,  0.38478414]), 1967: array([ 0.61521586,  0.38478414]), 1971: array([ 1.,  0.]), 1973: array([  1.00000000e+00,   1.25332052e-57]), 1975: array([ 0.68579541,  0.31420459]), 1976: array([ 0.50595839,  0.49404161]), 1977: array([  1.00000000e+00,   1.53591956e-26]), 1978: array([  1.00000000e+00,   3.05776895e-71]), 1981: array([ 1.,  0.]), 1982: array([ 0.56560332,  0.43439668]), 1986: array([ 0.47618039,  0.52381961]), 1987: array([ 0.47618039,  0.52381961]), 1989: array([ 1.,  0.]), 1995: array([ 1.,  0.]), 1996: array([ 0.52519186,  0.47480814]), 1998: array([ 1.,  0.]), 1999: array([ 0.50905383,  0.49094617]), 2001: array([ 1.,  0.]), 2002: array([ 0.70664641,  0.29335359]), 2005: array([ 0.47618039,  0.52381961]), 2006: array([ 0.47618039,  0.52381961]), 2007: array([ 0.50595839,  0.49404161]), 2009: array([ 0.47618039,  0.52381961]), 2010: array([ 0.47618039,  0.52381961]), 2014: array([ 0.50595839,  0.49404161]), 2015: array([ 0.47618039,  0.52381961]), 2018: array([ 0.47618039,  0.52381961]), 2020: array([ 0.47618039,  0.52381961]), 2022: array([ 0.47618039,  0.52381961]), 2023: array([ 0.56143065,  0.43856935]), 2024: array([ 0.47618039,  0.52381961]), 2027: array([ 0.47618039,  0.52381961]), 2032: array([ 0.53530491,  0.46469509]), 2033: array([ 0.697171,  0.302829]), 2041: array([  1.00000000e+000,   3.45332062e-131]), 2043: array([ 1.,  0.]), 2045: array([ 1.,  0.]), 2046: array([  1.00000000e+000,   1.33259987e-240]), 2047: array([ 0.62334296,  0.37665704]), 2049: array([  1.00000000e+000,   1.17786189e-277]), 2050: array([  1.00000000e+00,   6.72322082e-40]), 2051: array([  1.00000000e+00,   8.11899739e-90]), 2052: array([ 0.58639279,  0.41360721]), 2053: array([ 0.61509813,  0.38490187]), 2054: array([ 0.70579592,  0.29420408]), 2057: array([ 0.52025114,  0.47974886]), 2059: array([  1.00000000e+000,   2.24019759e-106]), 2062: array([  1.00000000e+00,   8.14482616e-29]), 2063: array([ 0.526957,  0.473043]), 2065: array([ 0.70579592,  0.29420408]), 2067: array([ 1.,  0.]), 2069: array([ 0.70580206,  0.29419794]), 2070: array([ 0.47618039,  0.52381961]), 2071: array([ 0.61971463,  0.38028537]), 2072: array([ 0.69711377,  0.30288623]), 2075: array([ 0.50595839,  0.49404161]), 2077: array([ 0.50595839,  0.49404161]), 2078: array([  1.00000000e+000,   1.18568353e-257]), 2079: array([ 0.71231321,  0.28768679]), 2081: array([ 0.62232519,  0.37767481]), 2082: array([ 0.56539659,  0.43460341]), 2084: array([ 0.56539659,  0.43460341]), 2085: array([ 0.50595839,  0.49404161]), 2086: array([ 0.50595839,  0.49404161]), 2087: array([ 0.61521953,  0.38478047]), 2088: array([ 0.50595839,  0.49404161]), 2089: array([ 0.622473,  0.377527]), 2094: array([ 0.61521953,  0.38478047]), 2095: array([ 1.,  0.]), 2097: array([ 0.73071826,  0.26928174]), 2098: array([ 0.74354711,  0.25645289]), 2100: array([ 0.61131503,  0.38868497]), 2101: array([ 0.50595839,  0.49404161]), 2102: array([ 0.65850796,  0.34149204]), 2103: array([ 1.,  0.]), 2106: array([ 0.56542926,  0.43457074]), 2112: array([ 0.77972801,  0.22027199]), 2114: array([ 0.70188839,  0.29811161]), 2116: array([ 0.77507959,  0.22492041]), 2117: array([ 0.73439665,  0.26560335]), 2118: array([ 0.50595839,  0.49404161]), 2120: array([ 0.60250313,  0.39749687]), 2121: array([ 0.47618039,  0.52381961]), 2122: array([ 0.70290132,  0.29709868]), 2123: array([ 1.,  0.]), 2124: array([ 0.50595839,  0.49404161]), 2125: array([ 0.50595839,  0.49404161]), 2126: array([ 0.65890485,  0.34109515]), 2128: array([ 0.65850796,  0.34149204]), 2129: array([ 0.62209331,  0.37790669]), 2132: array([ 0.70037977,  0.29962023]), 2133: array([ 0.65850796,  0.34149204]), 2134: array([ 0.56542926,  0.43457074]), 2135: array([  9.99917890e-01,   8.21103943e-05]), 2139: array([ 0.50595839,  0.49404161]), 2143: array([ 0.50595839,  0.49404161]), 2146: array([ 0.56492212,  0.43507788]), 2148: array([ 0.56492212,  0.43507788]), 2151: array([ 1.,  0.]), 2153: array([  1.00000000e+00,   2.54371073e-51]), 2154: array([ 0.56492212,  0.43507788]), 2158: array([ 0.47618039,  0.52381961]), 2160: array([ 0.56492212,  0.43507788]), 2161: array([ 0.66923347,  0.33076653]), 2163: array([  1.00000000e+000,   1.24067108e-293]), 2166: array([ 0.72611526,  0.27388474]), 2167: array([ 0.50595839,  0.49404161]), 2169: array([ 0.62231994,  0.37768006]), 2175: array([ 0.47618039,  0.52381961]), 2176: array([ 0.50595839,  0.49404161]), 2177: array([ 0.65440001,  0.34559999]), 2178: array([ 0.47618039,  0.52381961]), 2179: array([ 0.56055735,  0.43944265]), 2180: array([ 0.47618039,  0.52381961]), 2190: array([ 0.47618039,  0.52381961]), 2191: array([ 0.6672253,  0.3327747]), 2192: array([ 0.56009323,  0.43990677]), 2193: array([ 0.56009323,  0.43990677]), 2195: array([ 0.47618039,  0.52381961]), 2196: array([ 0.67528984,  0.32471016]), 2197: array([ 0.59808328,  0.40191672]), 2201: array([ 0.50595839,  0.49404161]), 2202: array([ 0.98427186,  0.01572814]), 2203: array([  1.00000000e+00,   2.66011377e-19]), 2212: array([  1.00000000e+00,   2.39670409e-16]), 2214: array([ 0.54841737,  0.45158263]), 2215: array([ 0.50595839,  0.49404161]), 2216: array([ 0.50595839,  0.49404161]), 2218: array([ 0.50595839,  0.49404161]), 2220: array([ 0.50595839,  0.49404161]), 2221: array([ 0.55786123,  0.44213877]), 2228: array([ 0.50595839,  0.49404161]), 2229: array([ 0.50595839,  0.49404161]), 2230: array([ 0.55786123,  0.44213877]), 2233: array([ 0.50595839,  0.49404161]), 2234: array([ 0.65718684,  0.34281316]), 2235: array([ 0.55786123,  0.44213877]), 2237: array([ 0.62266339,  0.37733661]), 2243: array([ 0.69677998,  0.30322002]), 2244: array([ 0.66648354,  0.33351646]), 2245: array([ 0.72202689,  0.27797311]), 2246: array([ 0.55786123,  0.44213877]), 2247: array([ 0.50595839,  0.49404161]), 2250: array([ 0.55787263,  0.44212737]), 2251: array([  1.00000000e+000,   4.97600053e-115]), 2252: array([ 0.60662564,  0.39337436]), 2254: array([ 0.47618039,  0.52381961]), 2255: array([ 0.61485105,  0.38514895]), 2261: array([ 0.55786123,  0.44213877]), 2262: array([ 0.61648927,  0.38351073]), 2264: array([ 0.47618039,  0.52381961]), 2265: array([ 0.72755079,  0.27244921]), 2269: array([ 0.50595839,  0.49404161]), 2270: array([  1.00000000e+000,   2.76558198e-258]), 2271: array([ 1.,  0.]), 2273: array([ 0.84698202,  0.15301798]), 2274: array([ 0.71949398,  0.28050602]), 2275: array([ 0.50595839,  0.49404161]), 2276: array([ 0.53819443,  0.46180557]), 2277: array([ 1.,  0.]), 2279: array([ 1.,  0.]), 2280: array([ 1.,  0.]), 2282: array([ 1.,  0.]), 2283: array([  1.00000000e+00,   2.49514714e-95]), 2285: array([ 0.55603807,  0.44396193]), 2286: array([ 0.50595839,  0.49404161]), 2287: array([  1.00000000e+000,   9.97567673e-263]), 2288: array([ 0.69331332,  0.30668668]), 2290: array([ 0.61099834,  0.38900166]), 2291: array([ 1.,  0.]), 2292: array([ 0.67404596,  0.32595404]), 2293: array([ 0.50595839,  0.49404161]), 2295: array([ 0.55603807,  0.44396193]), 2296: array([ 1.,  0.]), 2297: array([ 0.50595839,  0.49404161]), 2298: array([ 0.53819443,  0.46180557]), 2299: array([ 1.,  0.]), 2302: array([  9.99849671e-01,   1.50328954e-04]), 2303: array([ 1.,  0.]), 2304: array([ 0.61647907,  0.38352093]), 2306: array([  1.00000000e+000,   3.86900757e-101]), 2308: array([  1.00000000e+00,   7.27725870e-19]), 2310: array([ 0.47618039,  0.52381961]), 2312: array([  1.00000000e+00,   4.78012218e-78]), 2313: array([ 0.67659837,  0.32340163]), 2314: array([ 0.56131114,  0.43868886]), 2316: array([ 0.65938515,  0.34061485]), 2318: array([ 0.67659482,  0.32340518]), 2319: array([ 0.55605246,  0.44394754]), 2320: array([ 0.66608433,  0.33391567]), 2321: array([ 1.,  0.]), 2324: array([ 0.60553743,  0.39446257]), 2325: array([ 0.6172802,  0.3827198]), 2327: array([ 1.,  0.]), 2329: array([ 0.64300578,  0.35699422]), 2330: array([ 0.50595839,  0.49404161]), 2331: array([ 0.71949398,  0.28050602]), 2332: array([ 0.50595839,  0.49404161]), 2335: array([ 0.58184655,  0.41815345]), 2336: array([ 0.60070685,  0.39929315]), 2337: array([  1.00000000e+00,   2.78860303e-47]), 2341: array([  1.00000000e+00,   1.13411429e-34]), 2342: array([ 0.50595839,  0.49404161]), 2343: array([ 0.64767714,  0.35232286]), 2346: array([ 0.97565669,  0.02434331]), 2347: array([  1.00000000e+000,   2.01160955e-259]), 2348: array([ 1.,  0.]), 2349: array([ 0.7632808,  0.2367192]), 2350: array([ 0.62235109,  0.37764891]), 2351: array([  1.00000000e+00,   3.81522865e-10]), 2352: array([ 0.62215786,  0.37784214]), 2354: array([ 1.,  0.]), 2355: array([ 0.59275547,  0.40724453]), 2356: array([ 0.66362119,  0.33637881]), 2357: array([ 1.,  0.]), 2361: array([ 0.50595839,  0.49404161]), 2362: array([ 0.61075883,  0.38924117]), 2363: array([ 0.50595839,  0.49404161]), 2364: array([ 0.50595839,  0.49404161]), 2365: array([ 0.50595839,  0.49404161]), 2366: array([ 0.68386134,  0.31613866]), 2367: array([ 0.58185249,  0.41814751]), 2369: array([ 0.50595839,  0.49404161]), 2372: array([ 0.99001933,  0.00998067]), 2373: array([ 0.62027409,  0.37972591]), 2375: array([ 0.66388209,  0.33611791]), 2377: array([  1.00000000e+000,   5.89987079e-152]), 2379: array([  9.99913848e-01,   8.61518661e-05]), 2380: array([  9.99414355e-01,   5.85645118e-04]), 2383: array([ 1.,  0.]), 2385: array([ 0.64351353,  0.35648647]), 2386: array([  1.00000000e+00,   5.67620025e-34]), 2387: array([ 0.5593031,  0.4406969]), 2391: array([ 0.66388209,  0.33611791]), 2392: array([ 0.5593031,  0.4406969]), 2393: array([  1.00000000e+000,   6.88959276e-260]), 2395: array([ 0.61536393,  0.38463607]), 2398: array([ 0.5329453,  0.4670547]), 2399: array([ 0.55496463,  0.44503537]), 2400: array([ 0.50595839,  0.49404161]), 2401: array([ 0.47618039,  0.52381961]), 2406: array([ 0.53865293,  0.46134707]), 2408: array([ 0.50595839,  0.49404161]), 2411: array([ 0.50595839,  0.49404161]), 2416: array([ 1.,  0.]), 2422: array([ 0.50595839,  0.49404161]), 2423: array([  9.99999999e-01,   1.48120079e-09]), 2429: array([ 0.56080704,  0.43919296]), 2430: array([ 0.47618039,  0.52381961]), 2432: array([ 0.62037906,  0.37962094]), 2433: array([ 0.47618039,  0.52381961]), 2434: array([ 0.77844403,  0.22155597]), 2435: array([ 0.50595839,  0.49404161]), 2436: array([ 0.47618039,  0.52381961]), 2437: array([ 0.62037906,  0.37962094]), 2438: array([  1.00000000e+00,   3.75403689e-16]), 2439: array([ 1.,  0.]), 2440: array([ 0.47618039,  0.52381961]), 2441: array([ 0.50595839,  0.49404161]), 2442: array([ 0.50595839,  0.49404161]), 2443: array([ 0.47618039,  0.52381961]), 2445: array([ 0.50595839,  0.49404161]), 2447: array([ 0.55754765,  0.44245235]), 2448: array([ 0.50595839,  0.49404161]), 2449: array([ 0.55754765,  0.44245235]), 2451: array([  1.00000000e+000,   5.02464022e-259]), 2452: array([ 1.,  0.]), 2454: array([ 0.55754765,  0.44245235]), 2455: array([ 0.55753623,  0.44246377]), 2456: array([ 0.50595839,  0.49404161]), 2457: array([ 0.50595839,  0.49404161]), 2460: array([ 0.55753623,  0.44246377]), 2461: array([  9.99651602e-01,   3.48398230e-04]), 2463: array([ 0.50595839,  0.49404161]), 2464: array([ 0.55755335,  0.44244665]), 2465: array([ 0.50595839,  0.49404161]), 2467: array([  1.00000000e+00,   4.10918475e-98]), 2468: array([ 0.50595839,  0.49404161]), 2469: array([ 0.50595839,  0.49404161]), 2470: array([ 0.47618039,  0.52381961]), 2471: array([  1.00000000e+000,   1.35121718e-260]), 2472: array([  1.00000000e+00,   9.99756424e-52]), 2473: array([ 0.55753623,  0.44246377]), 2474: array([ 0.50595839,  0.49404161]), 2475: array([ 0.56491006,  0.43508994]), 2477: array([ 0.50595839,  0.49404161]), 2478: array([ 0.6523806,  0.3476194]), 2480: array([  1.00000000e+000,   2.46611741e-181]), 2482: array([ 0.66303819,  0.33696181]), 2484: array([ 0.50595839,  0.49404161]), 2486: array([ 1.,  0.]), 2487: array([ 0.66414429,  0.33585571]), 2488: array([ 0.56969023,  0.43030977]), 2489: array([ 1.,  0.]), 2491: array([ 0.54302157,  0.45697843]), 2492: array([  1.00000000e+00,   7.41180362e-31]), 2493: array([  1.00000000e+00,   1.22191376e-27]), 2499: array([ 0.61987127,  0.38012873]), 2503: array([ 0.50595839,  0.49404161]), 2504: array([ 0.50595839,  0.49404161]), 2505: array([ 0.50595839,  0.49404161]), 2506: array([ 0.50595839,  0.49404161]), 2507: array([ 0.47618039,  0.52381961]), 2510: array([ 0.61987127,  0.38012873]), 2513: array([ 0.50595839,  0.49404161]), 2517: array([ 0.94788941,  0.05211059]), 2518: array([ 0.61468867,  0.38531133]), 2521: array([ 0.61987127,  0.38012873]), 2522: array([ 0.55818003,  0.44181997]), 2523: array([ 0.55818003,  0.44181997]), 2524: array([ 0.50595839,  0.49404161]), 2526: array([ 0.61468867,  0.38531133]), 2527: array([  9.99999999e-01,   9.06129080e-10]), 2533: array([ 0.50595839,  0.49404161]), 2534: array([  1.00000000e+000,   1.75958460e-121]), 2535: array([ 0.61710777,  0.38289223]), 2540: array([ 0.50595839,  0.49404161]), 2543: array([ 0.50595839,  0.49404161]), 2544: array([ 0.47618039,  0.52381961]), 2545: array([ 0.50595839,  0.49404161]), 2553: array([ 0.61973742,  0.38026258]), 2555: array([ 0.50595839,  0.49404161]), 2557: array([  1.00000000e+000,   3.11948084e-214]), 2558: array([ 0.55682174,  0.44317826]), 2559: array([ 0.50595839,  0.49404161]), 2560: array([ 0.61288405,  0.38711595]), 2562: array([ 1.,  0.]), 2564: array([ 0.47618039,  0.52381961]), 2565: array([ 0.75809987,  0.24190013]), 2566: array([ 0.50595839,  0.49404161]), 2569: array([ 0.50595839,  0.49404161]), 2572: array([ 0.50595839,  0.49404161]), 2576: array([ 1.,  0.]), 2577: array([  1.00000000e+000,   1.80488745e-235]), 2579: array([ 0.99895748,  0.00104252]), 2580: array([  1.00000000e+00,   2.18034744e-34]), 2581: array([ 0.61670747,  0.38329253]), 2582: array([  1.00000000e+000,   1.07640411e-294]), 2583: array([  1.00000000e+00,   2.91369542e-42]), 2584: array([  1.00000000e+000,   1.34776175e-240]), 2585: array([  9.99999801e-01,   1.99251498e-07]), 2586: array([ 0.7036041,  0.2963959]), 2588: array([ 0.47618039,  0.52381961]), 2589: array([ 0.50595839,  0.49404161]), 2590: array([ 0.62972296,  0.37027704]), 2591: array([  9.99129388e-01,   8.70612356e-04]), 2592: array([ 0.70560546,  0.29439454]), 2593: array([ 0.99384377,  0.00615623]), 2594: array([  1.00000000e+000,   2.16320982e-303]), 2595: array([ 0.69522816,  0.30477184]), 2596: array([  1.00000000e+000,   1.35723576e-112]), 2597: array([ 1.,  0.]), 2598: array([ 0.6655883,  0.3344117]), 2599: array([ 0.74724971,  0.25275029]), 2600: array([  1.00000000e+000,   1.38480780e-208]), 2601: array([ 0.70729183,  0.29270817]), 2604: array([ 0.74480829,  0.25519171]), 2605: array([ 1.,  0.]), 2607: array([ 1.,  0.]), 2608: array([ 0.66667031,  0.33332969]), 2609: array([ 0.47618039,  0.52381961]), 2610: array([  1.00000000e+00,   1.39480274e-12]), 2611: array([ 0.77461036,  0.22538964]), 2612: array([ 0.66743776,  0.33256224]), 2613: array([ 0.62196319,  0.37803681]), 2614: array([ 0.66858538,  0.33141462]), 2615: array([ 0.66856269,  0.33143731]), 2616: array([  1.00000000e+000,   1.16924145e-123]), 2617: array([ 1.,  0.]), 2618: array([ 0.74018671,  0.25981329]), 2619: array([ 0.70349736,  0.29650264]), 2620: array([  1.00000000e+000,   1.36165417e-122]), 2622: array([ 0.66855251,  0.33144749]), 2623: array([ 0.50595839,  0.49404161]), 2624: array([ 0.62194339,  0.37805661]), 2625: array([  1.00000000e+000,   6.88418490e-265]), 2626: array([  1.00000000e+00,   6.37552222e-62]), 2627: array([  9.99790031e-01,   2.09969369e-04]), 2628: array([ 0.62194519,  0.37805481]), 2629: array([ 1.,  0.]), 2630: array([ 0.77641661,  0.22358339]), 2631: array([ 0.47618039,  0.52381961]), 2632: array([ 0.47618039,  0.52381961]), 2633: array([ 0.5685963,  0.4314037]), 2634: array([ 0.61094294,  0.38905706]), 2635: array([ 0.97285906,  0.02714094]), 2636: array([ 0.47618039,  0.52381961]), 2637: array([ 1.,  0.]), 2638: array([  1.00000000e+00,   1.84996991e-26]), 2641: array([ 0.60489427,  0.39510573]), 2643: array([  1.00000000e+00,   2.33945780e-70]), 2644: array([ 0.61089594,  0.38910406]), 2645: array([ 0.50595839,  0.49404161]), 2646: array([ 0.50595839,  0.49404161]), 2647: array([  1.00000000e+00,   5.50665101e-18]), 2648: array([  1.00000000e+00,   1.41886066e-76]), 2649: array([ 0.64327558,  0.35672442]), 2650: array([  9.99999983e-01,   1.69240551e-08]), 2651: array([ 0.50595839,  0.49404161]), 2652: array([  1.00000000e+00,   2.61649722e-22]), 2653: array([  9.99999749e-01,   2.50903441e-07]), 2654: array([ 0.67509383,  0.32490617]), 2655: array([ 0.61070992,  0.38929008]), 2656: array([ 0.99026066,  0.00973934]), 2657: array([ 0.56422657,  0.43577343]), 2658: array([ 0.79297064,  0.20702936]), 2659: array([ 0.61216298,  0.38783702]), 2660: array([ 0.7695691,  0.2304309]), 2661: array([ 1.,  0.]), 2662: array([  1.00000000e+00,   1.99618747e-34]), 2665: array([ 0.47618039,  0.52381961]), 2666: array([ 0.61094656,  0.38905344]), 2667: array([ 0.7008618,  0.2991382]), 2668: array([ 0.47618039,  0.52381961]), 2670: array([ 0.47618039,  0.52381961]), 2672: array([ 0.65535114,  0.34464886]), 2673: array([  1.00000000e+00,   1.60614637e-94]), 2674: array([  1.00000000e+00,   1.82162711e-26]), 2675: array([ 0.60793742,  0.39206258]), 2676: array([  1.00000000e+00,   2.04758462e-36]), 2677: array([  1.00000000e+00,   1.55526447e-18]), 2678: array([  9.99996723e-01,   3.27745283e-06]), 2680: array([ 0.62595409,  0.37404591]), 2681: array([ 1.,  0.]), 2683: array([ 0.51537088,  0.48462912]), 2684: array([ 0.50843871,  0.49156129]), 2685: array([ 0.62595409,  0.37404591]), 2686: array([ 0.47618039,  0.52381961]), 2687: array([ 0.51537088,  0.48462912]), 2691: array([ 0.47618039,  0.52381961]), 2692: array([ 0.69428101,  0.30571899]), 2693: array([ 0.62595409,  0.37404591]), 2694: array([ 0.51537088,  0.48462912]), 2696: array([ 0.60931741,  0.39068259]), 2699: array([ 0.61078379,  0.38921621]), 2701: array([ 0.47618039,  0.52381961]), 2702: array([ 0.62336983,  0.37663017]), 2703: array([ 0.51537088,  0.48462912]), 2704: array([ 0.47618039,  0.52381961]), 2706: array([ 0.62595409,  0.37404591]), 2707: array([ 0.62595409,  0.37404591]), 2708: array([ 0.47618039,  0.52381961]), 2713: array([ 0.50595839,  0.49404161]), 2715: array([ 0.69159572,  0.30840428]), 2716: array([ 1.,  0.]), 2719: array([ 0.55895344,  0.44104656]), 2720: array([ 0.55895344,  0.44104656]), 2721: array([  9.99981419e-01,   1.85808970e-05]), 2723: array([ 0.71154191,  0.28845809]), 2724: array([ 0.47618039,  0.52381961]), 2729: array([ 0.47618039,  0.52381961]), 2734: array([ 0.55895344,  0.44104656]), 2736: array([  1.00000000e+00,   1.78622192e-17]), 2739: array([ 0.58210931,  0.41789069]), 2741: array([ 0.47618039,  0.52381961]), 2744: array([ 0.99499685,  0.00500315]), 2746: array([ 0.50595839,  0.49404161]), 2747: array([ 0.47618039,  0.52381961]), 2749: array([ 0.47618039,  0.52381961]), 2750: array([ 0.47618039,  0.52381961]), 2751: array([ 0.50595839,  0.49404161]), 2752: array([ 0.61272061,  0.38727939]), 2753: array([ 0.47618039,  0.52381961]), 2754: array([ 1.,  0.]), 2756: array([  1.00000000e+00,   3.23835568e-57]), 2757: array([ 0.47618039,  0.52381961]), 2758: array([ 0.56055735,  0.43944265]), 2760: array([  1.00000000e+000,   1.25013186e-204]), 2761: array([ 0.47618039,  0.52381961]), 2763: array([ 0.62138336,  0.37861664]), 2764: array([ 1.,  0.]), 2765: array([ 0.56220364,  0.43779636]), 2766: array([ 0.51537088,  0.48462912]), 2769: array([ 0.62595409,  0.37404591]), 2770: array([ 0.78407521,  0.21592479]), 2772: array([ 0.61603012,  0.38396988]), 2773: array([ 0.52146673,  0.47853327]), 2775: array([ 0.52146673,  0.47853327]), 2776: array([ 0.62126889,  0.37873111]), 2777: array([ 0.47618039,  0.52381961]), 2781: array([ 0.47618039,  0.52381961]), 2783: array([  9.99999885e-01,   1.14607803e-07]), 2784: array([ 0.6750538,  0.3249462]), 2786: array([ 0.98321981,  0.01678019]), 2788: array([ 1.,  0.]), 2789: array([  1.00000000e+00,   9.92886462e-42]), 2790: array([ 0.50595839,  0.49404161]), 2792: array([ 0.47618039,  0.52381961]), 2793: array([ 0.50595839,  0.49404161]), 2795: array([ 0.47618039,  0.52381961]), 2796: array([ 0.50595839,  0.49404161]), 2797: array([ 1.,  0.]), 2799: array([ 0.50843871,  0.49156129]), 2800: array([ 0.74396318,  0.25603682]), 2801: array([  1.00000000e+000,   1.25938377e-122]), 2805: array([ 0.47618039,  0.52381961]), 2806: array([ 0.80770993,  0.19229007]), 2807: array([  1.00000000e+000,   1.51519272e-294]), 2809: array([ 0.66100681,  0.33899319]), 2815: array([ 0.610359,  0.389641]), 2816: array([  1.00000000e+000,   2.44622812e-257]), 2817: array([ 0.56055735,  0.43944265]), 2818: array([ 0.47618039,  0.52381961]), 2819: array([ 0.47618039,  0.52381961]), 2822: array([ 0.61905512,  0.38094488]), 2824: array([ 0.50595839,  0.49404161]), 2825: array([ 0.50595839,  0.49404161]), 2829: array([ 0.56273126,  0.43726874]), 2830: array([ 0.50595839,  0.49404161]), 2832: array([ 0.50595839,  0.49404161]), 2833: array([ 0.65790506,  0.34209494]), 2836: array([  1.00000000e+00,   1.17409993e-32]), 2837: array([ 0.50595839,  0.49404161]), 2838: array([ 1.,  0.]), 2839: array([ 0.50595839,  0.49404161]), 2840: array([ 0.61067783,  0.38932217]), 2841: array([ 0.47618039,  0.52381961]), 2842: array([ 0.62151187,  0.37848813]), 2843: array([ 0.50595839,  0.49404161]), 2845: array([ 0.50595839,  0.49404161]), 2847: array([ 0.50595839,  0.49404161]), 2848: array([  1.00000000e+000,   3.39823538e-121]), 2849: array([ 1.,  0.]), 2852: array([ 0.62223751,  0.37776249]), 2853: array([ 0.57690995,  0.42309005]), 2854: array([ 1.,  0.]), 2857: array([ 0.61773593,  0.38226407]), 2859: array([ 0.66148218,  0.33851782]), 2861: array([ 0.54960003,  0.45039997]), 2862: array([ 0.50595839,  0.49404161]), 2865: array([  1.00000000e+000,   4.39300476e-111]), 2866: array([  1.00000000e+000,   1.08794422e-258]), 2867: array([  1.00000000e+000,   4.17549154e-259]), 2873: array([ 0.50595839,  0.49404161]), 2876: array([ 0.54960003,  0.45039997]), 2877: array([ 0.54960003,  0.45039997]), 2878: array([ 0.65525347,  0.34474653]), 2880: array([ 0.47618039,  0.52381961]), 2881: array([ 1.,  0.]), 2882: array([ 0.60959827,  0.39040173]), 2883: array([ 0.57825333,  0.42174667]), 2884: array([ 0.98758365,  0.01241635]), 2885: array([ 1.,  0.]), 2886: array([ 0.50595839,  0.49404161]), 2887: array([ 0.50595839,  0.49404161]), 2888: array([ 0.60959254,  0.39040746]), 2889: array([ 0.6972314,  0.3027686]), 2890: array([ 1.,  0.]), 2891: array([ 0.47618039,  0.52381961]), 2893: array([ 0.66708214,  0.33291786]), 2894: array([ 0.50595839,  0.49404161]), 2895: array([ 1.,  0.]), 2896: array([ 0.69312542,  0.30687458]), 2897: array([ 0.66080104,  0.33919896]), 2898: array([ 0.50595839,  0.49404161]), 2899: array([  9.99999814e-01,   1.85804643e-07]), 2900: array([  1.00000000e+000,   7.68430854e-272]), 2901: array([ 0.65714014,  0.34285986]), 2902: array([  1.00000000e+000,   2.71621768e-136]), 2903: array([ 0.50595839,  0.49404161]), 2904: array([ 0.73201005,  0.26798995]), 2905: array([ 1.,  0.]), 2906: array([ 0.47618039,  0.52381961]), 2907: array([ 0.50595839,  0.49404161]), 2908: array([ 1.,  0.]), 2909: array([ 0.62095341,  0.37904659]), 2910: array([ 0.98157471,  0.01842529]), 2911: array([  1.00000000e+000,   7.57575806e-134]), 2912: array([ 0.66171683,  0.33828317]), 2914: array([ 1.,  0.]), 2917: array([ 0.62099173,  0.37900827]), 2921: array([ 0.59538115,  0.40461885]), 2922: array([  1.00000000e+000,   1.53584073e-118]), 2923: array([ 0.61937416,  0.38062584]), 2924: array([ 0.61937416,  0.38062584]), 2925: array([  1.00000000e+00,   2.65719180e-22]), 2928: array([ 0.62098981,  0.37901019]), 2930: array([ 0.50595839,  0.49404161]), 2932: array([ 0.70422112,  0.29577888]), 2933: array([ 0.62139831,  0.37860169]), 2934: array([ 0.50595839,  0.49404161]), 2936: array([ 0.5217808,  0.4782192]), 2937: array([  9.99983189e-01,   1.68114547e-05]), 2938: array([ 0.47618039,  0.52381961]), 2939: array([ 0.66803738,  0.33196262]), 2941: array([ 0.62141698,  0.37858302]), 2942: array([  1.00000000e+00,   9.23952587e-59]), 2944: array([ 0.67108942,  0.32891058]), 2949: array([ 1.,  0.]), 2950: array([ 1.,  0.]), 2951: array([ 0.50595839,  0.49404161]), 2952: array([ 0.62818317,  0.37181683]), 2953: array([  1.00000000e+000,   3.27571558e-218]), 2954: array([ 1.,  0.]), 2955: array([ 1.,  0.]), 2956: array([ 1.,  0.]), 2957: array([ 0.50595839,  0.49404161]), 2958: array([  9.99898995e-01,   1.01004989e-04]), 2959: array([ 0.56129995,  0.43870005]), 2960: array([ 0.67394466,  0.32605534]), 2961: array([  1.00000000e+000,   6.16058286e-252]), 2962: array([ 0.50595839,  0.49404161]), 2963: array([ 0.50595839,  0.49404161]), 2964: array([ 0.50595839,  0.49404161]), 2965: array([ 0.47618039,  0.52381961]), 2967: array([ 0.47618039,  0.52381961]), 2968: array([  1.00000000e+00,   2.82524733e-12]), 2970: array([ 1.,  0.]), 2971: array([ 1.,  0.]), 2972: array([ 0.59551403,  0.40448597]), 2973: array([ 0.62047957,  0.37952043]), 2974: array([ 0.66664139,  0.33335861]), 2975: array([ 0.50595839,  0.49404161]), 2976: array([ 0.70573249,  0.29426751]), 2978: array([  1.00000000e+000,   3.26193903e-259]), 2979: array([ 0.6649659,  0.3350341]), 2980: array([ 0.50595839,  0.49404161]), 2982: array([ 0.56104247,  0.43895753]), 2983: array([ 0.62104522,  0.37895478]), 2984: array([ 0.47618039,  0.52381961]), 2985: array([ 0.50595839,  0.49404161]), 2986: array([ 0.50595839,  0.49404161]), 2987: array([ 1.,  0.]), 2988: array([  1.00000000e+00,   2.57444901e-37]), 2989: array([  1.00000000e+00,   5.01381413e-42]), 2990: array([  9.99998717e-01,   1.28274821e-06]), 2991: array([ 0.47618039,  0.52381961]), 2992: array([  1.00000000e+000,   1.57924349e-161]), 2993: array([  9.99999848e-01,   1.51643572e-07]), 2994: array([  1.00000000e+000,   6.36913216e-157]), 2995: array([  1.00000000e+000,   6.93826916e-249]), 2996: array([  1.00000000e+00,   4.49750810e-65]), 2997: array([ 1.,  0.]), 2998: array([ 0.56055735,  0.43944265]), 2999: array([  1.00000000e+000,   6.65377490e-164]), 3000: array([ 1.,  0.]), 3001: array([ 1.,  0.]), 3002: array([ 0.74424199,  0.25575801]), 3003: array([ 1.,  0.]), 3004: array([  1.00000000e+000,   3.99026464e-272]), 3005: array([  9.99965635e-01,   3.43645789e-05]), 3006: array([  1.00000000e+00,   4.86553836e-42]), 3007: array([ 1.,  0.]), 3008: array([  1.00000000e+00,   1.14187768e-10]), 3009: array([  1.00000000e+000,   7.87128806e-202]), 3010: array([ 0.99440037,  0.00559963]), 3011: array([  1.00000000e+00,   1.50751704e-98]), 3012: array([ 1.,  0.]), 3013: array([ 0.96579907,  0.03420093]), 3014: array([ 1.,  0.]), 3015: array([  1.00000000e+000,   6.33887741e-160]), 3016: array([ 1.,  0.]), 3017: array([ 0.66910574,  0.33089426]), 3018: array([  1.00000000e+00,   2.09185677e-35]), 3019: array([ 0.47618039,  0.52381961]), 3020: array([ 1.,  0.]), 3021: array([ 1.,  0.]), 3022: array([ 0.70269237,  0.29730763]), 3023: array([  1.00000000e+000,   3.06744659e-233]), 3025: array([ 0.50595839,  0.49404161]), 3026: array([ 0.57048764,  0.42951236]), 3027: array([ 0.50595839,  0.49404161]), 3028: array([ 0.50595839,  0.49404161]), 3029: array([ 0.67321034,  0.32678966]), 3030: array([ 1.,  0.]), 3031: array([ 0.66808249,  0.33191751]), 3034: array([ 1.,  0.]), 3037: array([ 0.50595839,  0.49404161]), 3040: array([ 0.61629506,  0.38370494]), 3042: array([ 0.61629506,  0.38370494]), 3043: array([ 0.50595839,  0.49404161]), 3044: array([ 0.50595839,  0.49404161]), 3048: array([  1.00000000e+00,   1.66713214e-50]), 3051: array([ 1.,  0.]), 3055: array([ 0.47618039,  0.52381961]), 3058: array([ 0.50595839,  0.49404161]), 3059: array([ 0.53129844,  0.46870156]), 3060: array([ 1.,  0.]), 3063: array([ 0.65920194,  0.34079806]), 3064: array([  1.00000000e+000,   4.13785054e-161]), 3065: array([ 0.92467137,  0.07532863]), 3066: array([ 0.52292095,  0.47707905]), 3067: array([ 1.,  0.]), 3068: array([  1.00000000e+00,   4.59920073e-16]), 3069: array([ 1.,  0.]), 3070: array([ 0.84407549,  0.15592451]), 3071: array([ 0.61632853,  0.38367147]), 3072: array([ 0.61870799,  0.38129201]), 3073: array([ 1.,  0.]), 3074: array([ 0.98626073,  0.01373927]), 3075: array([ 1.,  0.]), 3076: array([ 0.52584237,  0.47415763]), 3077: array([ 0.83498317,  0.16501683]), 3079: array([ 1.,  0.]), 3082: array([ 0.71232587,  0.28767413]), 3083: array([ 1.,  0.]), 3086: array([ 0.52584237,  0.47415763]), 3089: array([  1.00000000e+00,   6.32992868e-13]), 3095: array([ 1.,  0.]), 3097: array([ 1.,  0.]), 3100: array([ 0.50595839,  0.49404161]), 3101: array([ 1.,  0.]), 3102: array([ 0.47618039,  0.52381961]), 3103: array([ 1.,  0.]), 3104: array([  1.00000000e+00,   2.76722567e-11]), 3106: array([ 0.52584237,  0.47415763]), 3107: array([ 0.58971208,  0.41028792]), 3111: array([  1.00000000e+00,   1.12079469e-88]), 3113: array([ 0.71202527,  0.28797473]), 3121: array([ 0.56553263,  0.43446737]), 3122: array([  1.00000000e+00,   8.75872275e-29]), 3123: array([  1.00000000e+000,   1.75090786e-147]), 3125: array([  1.00000000e+000,   4.70305920e-277]), 3128: array([ 0.47618039,  0.52381961]), 3132: array([ 0.8314802,  0.1685198]), 3133: array([  1.00000000e+00,   6.01913590e-15]), 3134: array([ 0.51873059,  0.48126941]), 3135: array([ 0.52045159,  0.47954841]), 3137: array([ 1.,  0.]), 3140: array([ 0.56140619,  0.43859381]), 3141: array([ 1.,  0.]), 3146: array([  1.00000000e+00,   4.09952851e-19]), 3147: array([ 0.62235838,  0.37764162]), 3148: array([ 0.60833241,  0.39166759]), 3149: array([ 0.50595839,  0.49404161]), 3150: array([ 0.50595839,  0.49404161]), 3152: array([  1.00000000e+00,   2.41577643e-23]), 3153: array([ 0.47618039,  0.52381961]), 3161: array([ 0.71304016,  0.28695984]), 3162: array([ 0.84421013,  0.15578987]), 3163: array([ 0.69634187,  0.30365813]), 3164: array([ 0.77309223,  0.22690777]), 3165: array([ 0.91337001,  0.08662999]), 3166: array([ 0.80672136,  0.19327864]), 3171: array([  1.00000000e+00,   3.39742943e-16]), 3172: array([ 1.,  0.]), 3175: array([ 0.52618133,  0.47381867]), 3176: array([ 1.,  0.]), 3177: array([ 1.,  0.]), 3178: array([ 0.47618039,  0.52381961]), 3180: array([ 0.77105009,  0.22894991]), 3182: array([ 0.89402845,  0.10597155]), 3183: array([ 0.516426,  0.483574]), 3184: array([  9.99999978e-01,   2.18187707e-08]), 3186: array([ 0.84399143,  0.15600857]), 3187: array([  1.00000000e+000,   1.04942687e-297]), 3189: array([ 0.50595839,  0.49404161]), 3191: array([  1.00000000e+00,   2.94637364e-42]), 3192: array([ 1.,  0.]), 3193: array([ 0.62935334,  0.37064666]), 3194: array([ 0.62928133,  0.37071867]), 3195: array([ 0.76040654,  0.23959346]), 3196: array([ 1.,  0.]), 3197: array([ 0.94482047,  0.05517953]), 3199: array([ 0.7828872,  0.2171128]), 3201: array([ 0.50595839,  0.49404161]), 3205: array([ 0.71295289,  0.28704711]), 3206: array([  1.00000000e+00,   1.42772615e-15]), 3207: array([ 0.90395333,  0.09604667]), 3208: array([ 0.52584237,  0.47415763]), 3209: array([ 0.83347054,  0.16652946]), 3210: array([ 0.50595839,  0.49404161]), 3211: array([ 1.,  0.]), 3213: array([ 1.,  0.]), 3214: array([  1.00000000e+00,   8.82030341e-29]), 3216: array([ 0.50595839,  0.49404161]), 3217: array([  9.99733078e-01,   2.66922188e-04]), 3218: array([  1.00000000e+00,   2.43472390e-24]), 3219: array([ 0.89847839,  0.10152161]), 3220: array([ 0.50595839,  0.49404161]), 3222: array([  9.99985492e-01,   1.45077187e-05]), 3225: array([ 0.60252416,  0.39747584]), 3230: array([ 0.93757011,  0.06242989]), 3231: array([ 0.56152912,  0.43847088]), 3233: array([  1.00000000e+00,   4.27142094e-32]), 3234: array([ 1.,  0.]), 3235: array([  1.00000000e+000,   5.27737508e-192]), 3238: array([ 1.,  0.]), 3239: array([ 0.50595839,  0.49404161]), 3241: array([ 0.97758549,  0.02241451]), 3242: array([ 0.6693701,  0.3306299]), 3245: array([ 0.56211735,  0.43788265]), 3246: array([ 0.5622092,  0.4377908]), 3247: array([  9.99982778e-01,   1.72217450e-05]), 3248: array([ 0.99140692,  0.00859308]), 3250: array([ 0.50595839,  0.49404161]), 3251: array([ 0.50595839,  0.49404161]), 3254: array([ 1.,  0.]), 3256: array([  1.00000000e+00,   2.53305629e-83]), 3257: array([  1.00000000e+00,   4.07887722e-62]), 3258: array([ 0.62832559,  0.37167441]), 3259: array([ 0.47618039,  0.52381961]), 3262: array([ 0.52584237,  0.47415763]), 3263: array([ 1.,  0.]), 3264: array([ 0.47618039,  0.52381961]), 3265: array([  1.00000000e+00,   9.09144511e-57]), 3267: array([ 0.8837405,  0.1162595]), 3269: array([ 0.62174123,  0.37825877]), 3270: array([  1.00000000e+000,   7.44818341e-106]), 3271: array([ 0.62264796,  0.37735204]), 3272: array([ 1.,  0.]), 3273: array([ 0.56446245,  0.43553755]), 3274: array([ 0.52584237,  0.47415763]), 3275: array([ 1.,  0.]), 3276: array([ 0.74389891,  0.25610109]), 3278: array([ 0.52045159,  0.47954841]), 3280: array([ 0.66914211,  0.33085789]), 3282: array([ 0.52584237,  0.47415763]), 3284: array([ 0.52417152,  0.47582848]), 3285: array([ 0.75529242,  0.24470758]), 3286: array([ 0.56553263,  0.43446737]), 3287: array([ 0.97943822,  0.02056178]), 3288: array([ 1.,  0.]), 3290: array([ 0.50595839,  0.49404161]), 3291: array([ 1.,  0.]), 3292: array([  1.00000000e+00,   1.69381359e-45]), 3293: array([ 0.56414969,  0.43585031]), 3294: array([ 0.6226207,  0.3773793]), 3296: array([  9.99949810e-01,   5.01902911e-05]), 3298: array([ 0.52584237,  0.47415763]), 3299: array([ 0.56553263,  0.43446737]), 3300: array([ 0.52618133,  0.47381867]), 3303: array([ 0.94458891,  0.05541109]), 3304: array([ 0.62236711,  0.37763289]), 3305: array([  1.00000000e+00,   8.81116786e-11]), 3306: array([ 0.80954732,  0.19045268]), 3307: array([ 1.,  0.]), 3308: array([ 0.50595839,  0.49404161]), 3309: array([ 1.,  0.]), 3310: array([ 1.,  0.]), 3311: array([ 0.5285877,  0.4714123]), 3315: array([ 0.56211735,  0.43788265]), 3317: array([ 1.,  0.]), 3320: array([ 0.47618039,  0.52381961]), 3322: array([ 0.52584237,  0.47415763]), 3323: array([  9.99943540e-01,   5.64596581e-05]), 3325: array([ 0.6226207,  0.3773793]), 3327: array([  1.00000000e+00,   6.80807365e-11]), 3336: array([ 0.50595839,  0.49404161]), 3337: array([ 1.,  0.]), 3339: array([ 0.62278307,  0.37721693]), 3346: array([  1.00000000e+000,   2.16413054e-259]), 3347: array([ 0.51818426,  0.48181574]), 3348: array([ 0.47618039,  0.52381961]), 3349: array([ 0.47618039,  0.52381961]), 3350: array([ 1.,  0.]), 3353: array([ 1.,  0.]), 3354: array([ 0.52417152,  0.47582848]), 3355: array([ 0.47618039,  0.52381961]), 3356: array([ 0.92110014,  0.07889986]), 3360: array([ 0.51058882,  0.48941118]), 3361: array([ 0.99677208,  0.00322792]), 3362: array([ 0.65500664,  0.34499336]), 3364: array([  9.99973122e-01,   2.68782899e-05]), 3370: array([  1.00000000e+00,   7.89499115e-13]), 3371: array([ 0.9367105,  0.0632895]), 3372: array([ 0.71430776,  0.28569224]), 3374: array([ 0.5285877,  0.4714123]), 3376: array([ 0.84435403,  0.15564597]), 3377: array([ 0.61158758,  0.38841242]), 3378: array([ 0.56553263,  0.43446737]), 3379: array([  1.00000000e+000,   1.21724580e-154]), 3380: array([ 0.66914211,  0.33085789]), 3382: array([ 1.,  0.]), 3383: array([  9.99999942e-01,   5.80852632e-08]), 3384: array([ 0.61001045,  0.38998955]), 3385: array([  1.00000000e+00,   4.85640035e-13]), 3386: array([ 0.47618039,  0.52381961]), 3387: array([ 0.50595839,  0.49404161]), 3388: array([ 1.,  0.]), 3389: array([ 0.50595839,  0.49404161]), 3395: array([ 0.67101141,  0.32898859]), 3396: array([ 0.47618039,  0.52381961]), 3398: array([ 0.47618039,  0.52381961]), 3399: array([ 0.94126911,  0.05873089]), 3400: array([ 0.9964826,  0.0035174]), 3403: array([ 0.50595839,  0.49404161]), 3406: array([ 0.61941263,  0.38058737]), 3410: array([ 0.6198956,  0.3801044]), 3412: array([  9.99999993e-01,   7.34152100e-09]), 3414: array([  9.99999997e-01,   3.42048639e-09]), 3416: array([  1.00000000e+00,   3.25118086e-20]), 3417: array([  1.00000000e+000,   1.87410277e-292]), 3418: array([ 0.61936317,  0.38063683]), 3419: array([ 0.70539092,  0.29460908]), 3420: array([ 0.50595839,  0.49404161]), 3422: array([ 0.80294032,  0.19705968]), 3424: array([  1.00000000e+000,   8.01871728e-142]), 3425: array([ 0.61937966,  0.38062034]), 3426: array([ 0.61725243,  0.38274757]), 3427: array([ 0.59498748,  0.40501252]), 3429: array([  1.00000000e+000,   3.60488588e-161]), 3430: array([  1.00000000e+00,   1.95317993e-99]), 3431: array([  1.00000000e+000,   3.81987691e-287]), 3432: array([ 0.62943903,  0.37056097]), 3436: array([ 0.61724688,  0.38275312]), 3437: array([ 0.50595839,  0.49404161]), 3438: array([ 1.,  0.]), 3439: array([  1.00000000e+00,   1.19239144e-10]), 3440: array([ 1.,  0.]), 3441: array([ 0.56300826,  0.43699174]), 3442: array([ 0.50595839,  0.49404161]), 3443: array([ 0.50595839,  0.49404161]), 3444: array([ 0.50595839,  0.49404161]), 3445: array([ 0.50595839,  0.49404161]), 3446: array([ 1.,  0.]), 3447: array([ 0.47618039,  0.52381961]), 3448: array([ 1.,  0.]), 3449: array([ 0.71066925,  0.28933075]), 3450: array([ 0.47618039,  0.52381961]), 3451: array([ 0.59000269,  0.40999731]), 3452: array([  9.99259088e-01,   7.40912212e-04]), 3453: array([ 0.67243508,  0.32756492]), 3454: array([ 0.7580419,  0.2419581]), 3455: array([ 0.56414969,  0.43585031]), 3457: array([  1.00000000e+000,   2.85141837e-168]), 3460: array([ 0.78216228,  0.21783772]), 3461: array([ 0.62160066,  0.37839934]), 3462: array([  1.00000000e+00,   1.72310308e-75]), 3464: array([ 0.47618039,  0.52381961]), 3466: array([ 0.50595839,  0.49404161]), 3468: array([  1.00000000e+000,   1.81382428e-260]), 3469: array([ 0.50595839,  0.49404161]), 3471: array([ 0.59916463,  0.40083537]), 3472: array([ 0.64007223,  0.35992777]), 3473: array([ 0.47618039,  0.52381961]), 3474: array([ 0.47618039,  0.52381961]), 3475: array([ 0.56055735,  0.43944265]), 3476: array([ 0.56055735,  0.43944265]), 3477: array([ 0.47618039,  0.52381961]), 3478: array([ 0.47618039,  0.52381961]), 3479: array([ 0.50595839,  0.49404161]), 3480: array([ 0.47618039,  0.52381961]), 3482: array([ 0.50595839,  0.49404161]), 3484: array([ 0.87062027,  0.12937973]), 3485: array([ 0.50595839,  0.49404161]), 3486: array([  1.00000000e+00,   4.24225044e-16]), 3487: array([ 0.51162441,  0.48837559]), 3488: array([ 0.47618039,  0.52381961]), 3489: array([ 1.,  0.]), 3491: array([ 0.65550719,  0.34449281]), 3492: array([ 1.,  0.]), 3493: array([ 1.,  0.]), 3494: array([ 0.50595839,  0.49404161]), 3497: array([ 0.516426,  0.483574]), 3498: array([  1.00000000e+00,   1.69229415e-14]), 3499: array([  1.00000000e+00,   2.09675332e-17]), 3500: array([  1.00000000e+00,   2.22881967e-28]), 3501: array([ 0.62092655,  0.37907345]), 3502: array([ 0.87245064,  0.12754936]), 3503: array([ 0.56258703,  0.43741297]), 3504: array([ 0.70354029,  0.29645971]), 3505: array([  9.99998434e-01,   1.56580037e-06]), 3506: array([  1.00000000e+00,   8.25646758e-31]), 3507: array([ 0.70371458,  0.29628542]), 3508: array([  1.00000000e+000,   1.30689824e-280]), 3509: array([ 0.9982158,  0.0017842]), 3510: array([ 1.,  0.]), 3511: array([ 0.51058882,  0.48941118]), 3512: array([ 0.62227083,  0.37772917]), 3513: array([ 0.52045159,  0.47954841]), 3514: array([ 0.52045159,  0.47954841]), 3515: array([ 0.62524457,  0.37475543]), 3516: array([  9.99999999e-01,   1.18193329e-09]), 3517: array([  1.00000000e+00,   5.25654538e-64]), 3519: array([  1.00000000e+00,   1.18595190e-49]), 3520: array([  1.00000000e+00,   1.30086108e-56]), 3521: array([ 0.99350567,  0.00649433]), 3522: array([ 0.61158758,  0.38841242]), 3523: array([ 0.47618039,  0.52381961]), 3524: array([  9.99995492e-01,   4.50777850e-06]), 3525: array([  1.00000000e+00,   1.23325327e-31]), 3526: array([ 0.62831002,  0.37168998]), 3527: array([  1.00000000e+00,   9.71016179e-42]), 3528: array([ 0.56517865,  0.43482135]), 3529: array([ 0.62227083,  0.37772917]), 3530: array([  1.00000000e+00,   1.53467009e-36]), 3531: array([  9.99999713e-01,   2.86795272e-07]), 3532: array([ 0.62988173,  0.37011827]), 3533: array([ 0.62988173,  0.37011827]), 3534: array([ 0.50595839,  0.49404161]), 3535: array([ 0.56129995,  0.43870005]), 3536: array([ 0.47618039,  0.52381961]), 3537: array([ 0.70270274,  0.29729726]), 3538: array([  1.00000000e+00,   1.43435349e-12]), 3539: array([ 0.61856456,  0.38143544]), 3541: array([ 0.55786123,  0.44213877]), 3542: array([ 0.50595839,  0.49404161]), 3543: array([ 0.74339645,  0.25660355]), 3544: array([ 0.62524457,  0.37475543]), 3546: array([ 0.65928245,  0.34071755]), 3547: array([ 0.78161735,  0.21838265]), 3549: array([  1.00000000e+00,   3.79135250e-30]), 3550: array([ 1.,  0.]), 3551: array([ 1.,  0.]), 3552: array([  1.00000000e+00,   2.33040553e-17]), 3553: array([ 0.50595839,  0.49404161]), 3554: array([ 1.,  0.]), 3556: array([ 0.50595839,  0.49404161]), 3557: array([ 0.9805018,  0.0194982]), 3559: array([  1.00000000e+00,   3.47183280e-77]), 3560: array([ 0.50595839,  0.49404161]), 3561: array([ 0.793203,  0.206797]), 3562: array([  1.00000000e+00,   9.54217153e-19]), 3563: array([  1.00000000e+00,   2.70874062e-13]), 3564: array([ 1.,  0.]), 3565: array([ 0.50595839,  0.49404161]), 3567: array([ 0.66788599,  0.33211401]), 3569: array([  1.00000000e+000,   1.01132888e-296]), 3570: array([ 0.52417152,  0.47582848]), 3571: array([  9.99999999e-01,   1.16537322e-09]), 3572: array([ 0.6529557,  0.3470443]), 3573: array([ 0.78275483,  0.21724517]), 3575: array([ 0.75811567,  0.24188433]), 3577: array([ 1.,  0.]), 3578: array([  1.00000000e+00,   8.77432347e-36]), 3579: array([ 0.94755877,  0.05244123]), 3580: array([ 0.76901419,  0.23098581]), 3581: array([  1.00000000e+000,   4.46845644e-111]), 3582: array([ 0.73525649,  0.26474351]), 3583: array([ 0.50595839,  0.49404161]), 3584: array([ 0.62220741,  0.37779259]), 3585: array([ 0.97009646,  0.02990354]), 3586: array([ 0.5285877,  0.4714123]), 3587: array([ 0.47618039,  0.52381961]), 3588: array([  9.99998192e-01,   1.80778365e-06]), 3590: array([  1.00000000e+000,   1.30134590e-259]), 3591: array([ 0.50595839,  0.49404161]), 3592: array([ 0.71206614,  0.28793386]), 3593: array([ 0.6693701,  0.3306299]), 3594: array([ 0.62224092,  0.37775908]), 3595: array([ 0.47618039,  0.52381961]), 3596: array([ 0.56273126,  0.43726874]), 3597: array([ 0.50595839,  0.49404161]), 3598: array([ 0.50595839,  0.49404161]), 3603: array([ 0.58532054,  0.41467946]), 3604: array([ 0.47618039,  0.52381961]), 3605: array([ 0.50595839,  0.49404161]), 3606: array([ 0.50595839,  0.49404161]), 3607: array([ 0.47618039,  0.52381961]), 3609: array([ 0.91097646,  0.08902354]), 3610: array([ 0.80832542,  0.19167458]), 3611: array([ 0.95644353,  0.04355647]), 3614: array([ 0.6688276,  0.3311724]), 3615: array([ 0.51204684,  0.48795316]), 3616: array([ 0.51204684,  0.48795316]), 3617: array([ 0.62223751,  0.37776249]), 3618: array([ 0.62223751,  0.37776249]), 3619: array([ 0.50595839,  0.49404161]), 3620: array([ 0.50595839,  0.49404161]), 3621: array([ 0.47618039,  0.52381961]), 3623: array([  9.99846237e-01,   1.53763317e-04]), 3624: array([ 1.,  0.]), 3625: array([ 0.56446245,  0.43553755]), 3637: array([ 0.50595839,  0.49404161]), 3642: array([ 0.50595839,  0.49404161]), 3643: array([ 0.74485211,  0.25514789]), 3644: array([ 0.55887279,  0.44112721]), 3645: array([ 0.56055735,  0.43944265]), 3646: array([ 0.60581584,  0.39418416]), 3647: array([ 0.50595839,  0.49404161]), 3648: array([ 0.50595839,  0.49404161]), 3649: array([ 0.50595839,  0.49404161]), 3650: array([ 0.50595839,  0.49404161]), 3651: array([ 0.66614703,  0.33385297]), 3652: array([  1.00000000e+00,   3.30552931e-66]), 3653: array([ 0.56009323,  0.43990677]), 3654: array([ 0.47618039,  0.52381961]), 3655: array([ 0.47618039,  0.52381961]), 3656: array([ 0.47618039,  0.52381961]), 3657: array([ 0.47618039,  0.52381961]), 3658: array([ 0.56009323,  0.43990677]), 3659: array([ 1.,  0.]), 3662: array([ 0.6304701,  0.3695299]), 3664: array([ 0.6710226,  0.3289774]), 3665: array([ 0.53819443,  0.46180557]), 3666: array([ 0.93586606,  0.06413394]), 3667: array([ 0.62198304,  0.37801696]), 3668: array([ 0.51162441,  0.48837559]), 3669: array([ 0.50595839,  0.49404161]), 3678: array([ 0.55735927,  0.44264073]), 3680: array([  1.00000000e+000,   1.94440203e-128]), 3681: array([ 0.55053864,  0.44946136]), 3682: array([ 0.5875288,  0.4124712]), 3683: array([ 1.,  0.]), 3684: array([ 0.50595839,  0.49404161]), 3685: array([ 0.61960487,  0.38039513]), 3686: array([ 0.51873059,  0.48126941]), 3687: array([  9.99999997e-01,   3.24685197e-09]), 3690: array([ 0.52584237,  0.47415763]), 3692: array([ 0.51306515,  0.48693485]), 3694: array([ 0.51058882,  0.48941118]), 3695: array([  1.00000000e+00,   2.65644794e-16]), 3698: array([ 0.65582232,  0.34417768]), 3699: array([ 0.52618133,  0.47381867]), 3700: array([  1.00000000e+00,   3.27883421e-18]), 3702: array([ 0.67127769,  0.32872231]), 3703: array([ 0.67157643,  0.32842357]), 3705: array([ 0.5644789,  0.4355211]), 3706: array([ 0.61774497,  0.38225503]), 3707: array([ 0.50595839,  0.49404161]), 3710: array([ 0.56140603,  0.43859397]), 3711: array([  1.00000000e+00,   1.98328054e-35]), 3713: array([ 0.6706466,  0.3293534]), 3714: array([ 0.61948763,  0.38051237]), 3715: array([ 0.50595839,  0.49404161]), 3716: array([ 0.71234374,  0.28765626]), 3717: array([ 0.96142475,  0.03857525]), 3719: array([ 0.56121603,  0.43878397]), 3721: array([ 0.69822998,  0.30177002]), 3722: array([ 0.7065695,  0.2934305]), 3723: array([ 0.62026813,  0.37973187]), 3725: array([ 0.61694676,  0.38305324]), 3727: array([ 0.66929566,  0.33070434]), 3728: array([  1.00000000e+00,   6.55483515e-17]), 3730: array([ 0.56055735,  0.43944265]), 3731: array([ 1.,  0.]), 3732: array([ 0.64843271,  0.35156729]), 3733: array([  1.00000000e+00,   8.96780880e-24]), 3734: array([  1.00000000e+000,   9.59372319e-288]), 3735: array([  1.00000000e+000,   5.61512975e-232]), 3736: array([ 1.,  0.]), 3738: array([ 0.52618133,  0.47381867]), 3739: array([  1.00000000e+00,   1.42696460e-35]), 3740: array([ 0.51873059,  0.48126941]), 3741: array([ 0.51873059,  0.48126941]), 3743: array([ 0.62461688,  0.37538312]), 3746: array([ 0.62524457,  0.37475543]), 3747: array([ 0.70525776,  0.29474224]), 3748: array([  1.00000000e+000,   2.09902193e-259]), 3749: array([ 0.50595839,  0.49404161]), 3750: array([ 0.73454613,  0.26545387]), 3752: array([ 0.75598098,  0.24401902]), 3753: array([ 0.5643857,  0.4356143]), 3754: array([ 0.52584237,  0.47415763]), 3755: array([  1.00000000e+00,   1.26875976e-14]), 3756: array([  9.99999967e-01,   3.33746934e-08]), 3757: array([  1.00000000e+00,   4.76211934e-57]), 3758: array([ 0.71198297,  0.28801703]), 3759: array([  1.00000000e+00,   1.55747793e-26]), 3760: array([ 1.,  0.]), 3761: array([ 0.59640043,  0.40359957]), 3762: array([ 0.80443152,  0.19556848]), 3763: array([ 0.70826132,  0.29173868]), 3764: array([  1.00000000e+00,   2.11783136e-49]), 3765: array([  1.00000000e+000,   7.64266607e-129]), 3766: array([ 0.60365848,  0.39634152]), 3768: array([ 0.6548773,  0.3451227]), 3770: array([ 0.50683936,  0.49316064]), 3771: array([ 1.,  0.]), 3772: array([  9.99999794e-01,   2.06418548e-07]), 3773: array([ 0.66970847,  0.33029153]), 3775: array([  9.99999998e-01,   2.12135839e-09]), 3776: array([ 0.71841244,  0.28158756]), 3779: array([ 0.673996,  0.326004]), 3780: array([ 0.56211735,  0.43788265]), 3782: array([ 0.5285877,  0.4714123]), 3783: array([ 0.50595839,  0.49404161]), 3786: array([ 0.60796092,  0.39203908]), 3788: array([  1.00000000e+00,   1.80582805e-55]), 3789: array([ 0.50595839,  0.49404161]), 3790: array([ 0.73959331,  0.26040669]), 3791: array([ 0.74039842,  0.25960158]), 3793: array([ 0.50595839,  0.49404161]), 3794: array([ 0.50595839,  0.49404161]), 3795: array([ 0.66621617,  0.33378383]), 3796: array([ 0.65963831,  0.34036169]), 3797: array([ 0.65963831,  0.34036169]), 3798: array([  1.00000000e+000,   1.10603887e-129]), 3799: array([ 0.50595839,  0.49404161]), 3800: array([ 0.61416833,  0.38583167]), 3801: array([  1.00000000e+000,   1.07701354e-128]), 3802: array([ 0.66779115,  0.33220885]), 3803: array([ 0.66466734,  0.33533266]), 3804: array([ 0.47618039,  0.52381961]), 3807: array([ 0.66466734,  0.33533266]), 3808: array([ 0.50595839,  0.49404161]), 3809: array([ 0.74351013,  0.25648987]), 3810: array([ 0.66466734,  0.33533266]), 3811: array([ 0.59223341,  0.40776659]), 3812: array([ 0.66466734,  0.33533266]), 3813: array([ 0.61744431,  0.38255569]), 3814: array([  9.99999993e-01,   7.14333028e-09]), 3815: array([ 0.66466734,  0.33533266]), 3816: array([ 0.50595839,  0.49404161]), 3817: array([ 0.56982885,  0.43017115]), 3818: array([ 0.50595839,  0.49404161]), 3819: array([ 0.60440931,  0.39559069]), 3821: array([ 1.,  0.]), 3822: array([ 0.61047914,  0.38952086]), 3823: array([ 0.56982885,  0.43017115]), 3824: array([ 0.59213987,  0.40786013]), 3825: array([  1.00000000e+000,   4.40990081e-258]), 3826: array([ 0.57194939,  0.42805061]), 3827: array([ 1.,  0.]), 3828: array([ 0.59211814,  0.40788186]), 3833: array([ 0.62488318,  0.37511682]), 3837: array([  1.00000000e+000,   1.25967821e-128]), 3839: array([ 0.50595839,  0.49404161]), 3840: array([ 0.5954757,  0.4045243]), 3841: array([ 0.68963566,  0.31036434]), 3842: array([ 0.65453211,  0.34546789]), 3843: array([ 0.65340055,  0.34659945]), 3844: array([ 0.7019589,  0.2980411]), 3845: array([ 0.5954757,  0.4045243]), 3846: array([ 0.50595839,  0.49404161]), 3847: array([ 0.65340055,  0.34659945]), 3848: array([  1.00000000e+000,   7.41314495e-264]), 3849: array([ 0.75818101,  0.24181899]), 3850: array([ 0.52120342,  0.47879658]), 3851: array([ 0.5954757,  0.4045243]), 3852: array([ 0.55106234,  0.44893766]), 3853: array([ 0.5954757,  0.4045243]), 3854: array([ 1.,  0.]), 3855: array([  1.00000000e+000,   1.08414623e-257]), 3858: array([ 1.,  0.]), 3860: array([ 0.66046316,  0.33953684]), 3861: array([ 0.50595839,  0.49404161]), 3862: array([ 0.64521683,  0.35478317]), 3863: array([ 1.,  0.]), 3864: array([ 1.,  0.]), 3865: array([ 0.63486117,  0.36513883]), 3868: array([  1.00000000e+000,   6.66513867e-129]), 3869: array([ 1.,  0.]), 3870: array([ 0.61954447,  0.38045553]), 3871: array([ 0.50595839,  0.49404161]), 3872: array([ 1.,  0.]), 3873: array([ 0.60684122,  0.39315878]), 3874: array([ 0.58417552,  0.41582448]), 3875: array([  1.00000000e+000,   1.40702193e-266]), 3876: array([  1.00000000e+000,   7.31981930e-171]), 3878: array([ 1.,  0.]), 3879: array([  1.00000000e+000,   2.16354947e-275]), 3880: array([ 0.65130521,  0.34869479]), 3881: array([ 0.50595839,  0.49404161]), 3882: array([ 0.58387075,  0.41612925]), 3883: array([ 0.50595839,  0.49404161]), 3884: array([ 0.50595839,  0.49404161]), 3886: array([ 1.,  0.]), 3887: array([ 0.57719771,  0.42280229]), 3888: array([ 0.52069822,  0.47930178]), 3892: array([ 0.71588733,  0.28411267]), 3893: array([  1.00000000e+00,   2.41016738e-62]), 3894: array([ 0.50595839,  0.49404161]), 3895: array([ 0.51944846,  0.48055154]), 3896: array([ 0.66715266,  0.33284734]), 3898: array([ 0.50595839,  0.49404161]), 3899: array([ 1.,  0.]), 3901: array([  1.00000000e+00,   1.97632342e-45]), 3903: array([ 0.73614082,  0.26385918]), 3904: array([  1.00000000e+000,   4.04511240e-129]), 3905: array([ 0.66133266,  0.33866734]), 3906: array([ 0.50595839,  0.49404161]), 3909: array([  1.00000000e+00,   2.73864439e-90]), 3910: array([ 0.52097246,  0.47902754]), 3914: array([ 1.,  0.]), 3915: array([ 0.69763213,  0.30236787]), 3916: array([ 0.51944846,  0.48055154]), 3917: array([ 0.5954757,  0.4045243]), 3918: array([ 0.65453211,  0.34546789]), 3919: array([  1.00000000e+00,   2.48001863e-34]), 3921: array([ 0.60820278,  0.39179722]), 3923: array([ 0.47618039,  0.52381961]), 3924: array([ 0.50595839,  0.49404161]), 3925: array([ 0.50595839,  0.49404161]), 3926: array([ 0.51158069,  0.48841931]), 3927: array([ 0.50742676,  0.49257324]), 3928: array([ 0.69925838,  0.30074162]), 3933: array([ 0.83851022,  0.16148978]), 3934: array([ 0.50595839,  0.49404161]), 3935: array([ 0.60605967,  0.39394033]), 3937: array([ 0.70156935,  0.29843065]), 3938: array([ 0.66444153,  0.33555847]), 3939: array([ 0.60605967,  0.39394033]), 3940: array([ 0.66444153,  0.33555847]), 3942: array([ 0.60605967,  0.39394033]), 3943: array([ 0.50595839,  0.49404161]), 3945: array([ 0.50595839,  0.49404161]), 3946: array([ 0.50595839,  0.49404161]), 3947: array([ 0.50595839,  0.49404161]), 3950: array([ 0.60318271,  0.39681729]), 3951: array([ 0.67187348,  0.32812652]), 3952: array([ 0.67158166,  0.32841834]), 3953: array([ 0.67187348,  0.32812652]), 3954: array([ 0.52210947,  0.47789053]), 3955: array([ 0.62274532,  0.37725468]), 3956: array([ 0.70469947,  0.29530053]), 3957: array([ 0.60318271,  0.39681729]), 3958: array([ 0.66487883,  0.33512117]), 3959: array([  9.99871966e-01,   1.28033971e-04]), 3961: array([ 0.56149232,  0.43850768]), 3963: array([ 0.56160731,  0.43839269]), 3964: array([  9.99984740e-01,   1.52600562e-05]), 3965: array([ 0.56213687,  0.43786313]), 3966: array([ 0.60193504,  0.39806496]), 3967: array([ 0.50595839,  0.49404161]), 3969: array([ 0.50595839,  0.49404161]), 3971: array([ 0.66061046,  0.33938954]), 3979: array([ 0.50595839,  0.49404161]), 3980: array([ 0.616969,  0.383031]), 3996: array([ 0.62134793,  0.37865207]), 3998: array([ 0.76195133,  0.23804867]), 3999: array([ 0.50993147,  0.49006853]), 4003: array([ 0.50595839,  0.49404161]), 4006: array([ 0.61549594,  0.38450406]), 4007: array([ 0.50595839,  0.49404161]), 4008: array([ 0.61549594,  0.38450406]), 4016: array([ 0.61694676,  0.38305324]), 4017: array([ 0.50595839,  0.49404161]), 4019: array([ 0.50761755,  0.49238245]), 4023: array([ 0.64493315,  0.35506685]), 4025: array([ 0.620511,  0.379489]), 4026: array([ 0.50595839,  0.49404161]), 4027: array([ 0.620511,  0.379489]), 4028: array([ 0.75341883,  0.24658117]), 4029: array([ 1.,  0.]), 4030: array([ 0.50595839,  0.49404161]), 4035: array([ 0.50595839,  0.49404161]), 4041: array([ 0.47618039,  0.52381961]), 4042: array([ 0.47618039,  0.52381961]), 4043: array([  1.00000000e+00,   1.00400747e-32]), 4046: array([ 0.56055735,  0.43944265]), 4047: array([ 0.50595839,  0.49404161]), 4048: array([ 0.50595839,  0.49404161]), 4049: array([ 0.50595839,  0.49404161]), 4050: array([ 0.61507865,  0.38492135]), 4051: array([ 0.50595839,  0.49404161]), 4052: array([ 0.55444377,  0.44555623]), 4053: array([ 0.50595839,  0.49404161]), 4055: array([ 0.47618039,  0.52381961]), 4056: array([ 0.56055735,  0.43944265]), 4057: array([ 0.50595839,  0.49404161]), 4063: array([ 0.47618039,  0.52381961]), 4065: array([ 0.62336983,  0.37663017]), 4066: array([ 0.52292095,  0.47707905]), 4067: array([ 0.56335656,  0.43664344]), 4068: array([ 0.47618039,  0.52381961]), 4069: array([ 0.51873059,  0.48126941]), 4070: array([ 0.56446245,  0.43553755]), 4071: array([ 0.52618133,  0.47381867]), 4072: array([ 0.62663376,  0.37336624]), 4073: array([ 0.50595839,  0.49404161]), 4074: array([ 0.52100949,  0.47899051]), 4075: array([ 0.55256596,  0.44743404]), 4076: array([ 0.5285877,  0.4714123]), 4077: array([ 0.62461688,  0.37538312]), 4078: array([ 0.61856456,  0.38143544]), 4079: array([ 0.5285877,  0.4714123]), 4080: array([ 0.51058882,  0.48941118]), 4081: array([ 0.66450684,  0.33549316]), 4082: array([ 0.83782543,  0.16217457]), 4083: array([ 0.6176741,  0.3823259]), 4084: array([ 0.90084173,  0.09915827]), 4086: array([ 0.50595839,  0.49404161]), 4087: array([ 0.55479137,  0.44520863]), 4088: array([ 0.51873059,  0.48126941]), 4089: array([ 0.67182866,  0.32817134]), 4090: array([ 0.51873059,  0.48126941]), 4091: array([ 0.61738208,  0.38261792]), 4092: array([ 0.62733093,  0.37266907]), 4093: array([ 0.50595839,  0.49404161]), 4095: array([ 0.50595839,  0.49404161]), 4096: array([ 0.5285877,  0.4714123]), 4098: array([ 0.52618133,  0.47381867]), 4099: array([ 0.62733093,  0.37266907]), 4100: array([ 0.59049839,  0.40950161]), 4101: array([ 0.52618133,  0.47381867]), 4102: array([ 0.51058882,  0.48941118]), 4103: array([  1.00000000e+000,   2.82514289e-260]), 4104: array([ 0.52100949,  0.47899051]), 4105: array([ 0.50595839,  0.49404161]), 4107: array([ 0.56140619,  0.43859381]), 4108: array([ 0.6706466,  0.3293534]), 4109: array([ 0.52045159,  0.47954841]), 4110: array([ 0.67323574,  0.32676426]), 4111: array([ 0.51873059,  0.48126941]), 4112: array([ 0.52045159,  0.47954841]), 4113: array([ 0.50595839,  0.49404161]), 4114: array([ 1.,  0.]), 4115: array([ 0.47618039,  0.52381961]), 4116: array([ 0.50595839,  0.49404161]), 4117: array([ 0.50595839,  0.49404161]), 4118: array([ 0.52292095,  0.47707905]), 4119: array([ 0.56055735,  0.43944265]), 4120: array([ 0.50595839,  0.49404161]), 4124: array([ 0.50595839,  0.49404161]), 4130: array([ 0.60905924,  0.39094076]), 4131: array([ 0.67650674,  0.32349326]), 4133: array([ 0.50595839,  0.49404161]), 4134: array([ 0.47618039,  0.52381961]), 4135: array([ 0.50595839,  0.49404161]), 4136: array([ 0.50595839,  0.49404161]), 4137: array([ 0.50595839,  0.49404161]), 4138: array([ 0.50595839,  0.49404161]), 4142: array([ 0.50595839,  0.49404161]), 4143: array([ 0.61557502,  0.38442498]), 4148: array([ 0.6135961,  0.3864039]), 4153: array([ 0.51868748,  0.48131252]), 4156: array([ 0.50595839,  0.49404161]), 4158: array([ 0.50595839,  0.49404161]), 4160: array([ 0.61502602,  0.38497398]), 4162: array([ 0.5583506,  0.4416494]), 4168: array([ 0.50631021,  0.49368979]), 4170: array([ 0.61999971,  0.38000029]), 4171: array([ 0.61521026,  0.38478974]), 4172: array([ 0.50595839,  0.49404161]), 4174: array([ 0.50595839,  0.49404161]), 4175: array([ 0.50595839,  0.49404161]), 4177: array([ 0.50595839,  0.49404161]), 4179: array([ 0.61749111,  0.38250889]), 4183: array([ 0.50595839,  0.49404161]), 4184: array([ 0.61749111,  0.38250889]), 4185: array([ 0.66589818,  0.33410182]), 4187: array([ 0.50595839,  0.49404161]), 4188: array([ 0.66589818,  0.33410182]), 4193: array([ 0.50595839,  0.49404161]), 4194: array([ 0.50824818,  0.49175182]), 4195: array([  1.00000000e+00,   3.77898583e-16]), 4198: array([ 0.66559925,  0.33440075]), 4199: array([  1.00000000e+000,   2.07384412e-259]), 4200: array([ 0.64836446,  0.35163554]), 4201: array([ 0.64836446,  0.35163554]), 4202: array([ 0.64163741,  0.35836259]), 4203: array([  1.00000000e+000,   6.67611828e-259]), 4204: array([ 0.64163741,  0.35836259]), 4205: array([ 0.50595839,  0.49404161]), 4206: array([ 0.70246572,  0.29753428]), 4207: array([ 0.60499137,  0.39500863]), 4208: array([ 0.50595839,  0.49404161]), 4209: array([ 0.60853072,  0.39146928]), 4210: array([ 0.60853072,  0.39146928]), 4211: array([ 0.60853072,  0.39146928]), 4212: array([ 0.50595839,  0.49404161]), 4213: array([  9.99994294e-01,   5.70594333e-06]), 4214: array([ 0.62783163,  0.37216837]), 4215: array([  1.00000000e+000,   6.67611828e-259]), 4217: array([ 1.,  0.]), 4218: array([ 0.50595839,  0.49404161]), 4219: array([ 0.66674771,  0.33325229]), 4220: array([ 0.50595839,  0.49404161]), 4221: array([ 0.60853072,  0.39146928]), 4223: array([ 0.50595839,  0.49404161]), 4224: array([ 0.58965181,  0.41034819]), 4225: array([ 0.60853072,  0.39146928]), 4226: array([ 0.65097055,  0.34902945]), 4227: array([ 0.61408655,  0.38591345]), 4228: array([ 0.61408655,  0.38591345]), 4229: array([ 0.50595839,  0.49404161]), 4231: array([ 0.50595839,  0.49404161]), 4232: array([ 0.50595839,  0.49404161]), 4234: array([ 0.50595839,  0.49404161]), 4235: array([ 0.47618039,  0.52381961]), 4237: array([ 0.50595839,  0.49404161]), 4238: array([ 0.50595839,  0.49404161]), 4239: array([ 0.61521586,  0.38478414]), 4240: array([ 0.69476645,  0.30523355]), 4241: array([  1.00000000e+00,   7.68531278e-28]), 4242: array([ 0.61521586,  0.38478414]), 4243: array([ 0.6209745,  0.3790255]), 4244: array([ 0.54802062,  0.45197938]), 4246: array([ 0.47618039,  0.52381961]), 4247: array([ 0.50595839,  0.49404161]), 4248: array([ 0.47618039,  0.52381961]), 4249: array([ 0.47618039,  0.52381961]), 4250: array([  9.99999999e-01,   1.12274292e-09]), 4255: array([ 0.50595839,  0.49404161]), 4257: array([ 0.47618039,  0.52381961]), 4258: array([ 0.47618039,  0.52381961]), 4260: array([ 0.56055735,  0.43944265]), 4261: array([ 0.50595839,  0.49404161]), 4262: array([ 0.60998756,  0.39001244]), 4263: array([ 0.60998756,  0.39001244]), 4264: array([  1.00000000e+000,   1.07816122e-258]), 4265: array([ 0.60998756,  0.39001244]), 4266: array([ 0.89620097,  0.10379903]), 4267: array([ 1.,  0.]), 4268: array([ 0.50595839,  0.49404161]), 4269: array([ 1.,  0.]), 4270: array([ 0.64927153,  0.35072847]), 4271: array([ 0.58690853,  0.41309147]), 4275: array([ 0.62247646,  0.37752354]), 4276: array([ 0.56236288,  0.43763712]), 4277: array([ 0.50595839,  0.49404161]), 4278: array([ 0.62379913,  0.37620087]), 4279: array([ 0.50595839,  0.49404161]), 4280: array([ 0.50595839,  0.49404161]), 4282: array([ 0.50595839,  0.49404161]), 4284: array([ 0.50595839,  0.49404161]), 4285: array([ 0.5262378,  0.4737622]), 4286: array([ 0.56492212,  0.43507788]), 4287: array([ 0.6663878,  0.3336122]), 4291: array([ 0.50595839,  0.49404161]), 4292: array([ 0.47618039,  0.52381961]), 4294: array([ 0.56009323,  0.43990677]), 4296: array([ 0.47618039,  0.52381961]), 4297: array([ 0.50595839,  0.49404161]), 4298: array([ 0.50595839,  0.49404161]), 4299: array([ 0.50595839,  0.49404161]), 4300: array([ 0.50595839,  0.49404161]), 4301: array([ 0.47618039,  0.52381961]), 4302: array([ 0.50595839,  0.49404161]), 4303: array([ 0.50595839,  0.49404161]), 4310: array([ 0.63048903,  0.36951097]), 4311: array([ 0.50595839,  0.49404161]), 4312: array([ 0.63297021,  0.36702979]), 4313: array([ 0.61074171,  0.38925829]), 4314: array([ 0.6209745,  0.3790255]), 4318: array([ 0.50595839,  0.49404161]), 4319: array([ 0.55496463,  0.44503537]), 4320: array([ 0.6187311,  0.3812689]), 4324: array([ 0.50595839,  0.49404161]), 4325: array([ 0.50595839,  0.49404161]), 4326: array([ 0.50595839,  0.49404161]), 4327: array([ 0.55753623,  0.44246377]), 4328: array([ 0.50595839,  0.49404161]), 4329: array([ 0.50595839,  0.49404161]), 4331: array([ 0.50595839,  0.49404161]), 4337: array([ 0.50595839,  0.49404161]), 4338: array([ 0.50595839,  0.49404161]), 4342: array([ 0.55682174,  0.44317826]), 4343: array([ 0.50595839,  0.49404161]), 4348: array([ 0.73185711,  0.26814289]), 4349: array([ 0.55605317,  0.44394683]), 4352: array([ 0.56428146,  0.43571854]), 4353: array([ 0.62188548,  0.37811452]), 4354: array([ 0.62188548,  0.37811452]), 4355: array([  9.99980821e-01,   1.91785102e-05]), 4356: array([ 0.62196319,  0.37803681]), 4357: array([  9.99750744e-01,   2.49256391e-04]), 4358: array([ 0.56537482,  0.43462518]), 4360: array([ 0.66854572,  0.33145428]), 4361: array([ 0.50595839,  0.49404161]), 4362: array([ 0.50595839,  0.49404161]), 4363: array([ 0.50595839,  0.49404161]), 4365: array([ 0.56421559,  0.43578441]), 4370: array([ 0.50595839,  0.49404161]), 4372: array([ 0.99802957,  0.00197043]), 4373: array([ 0.50595839,  0.49404161]), 4376: array([ 0.50595839,  0.49404161]), 4377: array([ 0.50595839,  0.49404161]), 4378: array([ 0.62183041,  0.37816959]), 4381: array([ 0.50595839,  0.49404161]), 4385: array([ 0.50595839,  0.49404161]), 4386: array([ 0.50595839,  0.49404161]), 4388: array([ 0.50595839,  0.49404161]), 4389: array([ 0.50595839,  0.49404161]), 4391: array([ 0.50595839,  0.49404161]), 4392: array([ 0.50595839,  0.49404161]), 4395: array([  9.99806098e-01,   1.93901948e-04]), 4396: array([ 0.50595839,  0.49404161]), 4398: array([  1.00000000e+000,   1.24661288e-260]), 4399: array([  9.99999999e-01,   8.69270790e-10]), 4400: array([ 0.67230678,  0.32769322]), 4401: array([ 0.70539037,  0.29460963]), 4402: array([ 0.62200809,  0.37799191]), 4403: array([  1.00000000e+00,   5.46044647e-82]), 4404: array([ 0.74261438,  0.25738562]), 4407: array([ 0.56422657,  0.43577343]), 4408: array([  1.00000000e+00,   2.98373402e-10]), 4409: array([ 0.56155878,  0.43844122]), 4410: array([ 0.70104317,  0.29895683]), 4411: array([ 0.79483011,  0.20516989]), 4412: array([ 0.50595839,  0.49404161]), 4413: array([  9.99973566e-01,   2.64342384e-05]), 4414: array([ 0.56155878,  0.43844122]), 4415: array([ 0.50595839,  0.49404161]), 4417: array([ 0.78409655,  0.21590345]), 4418: array([ 0.50595839,  0.49404161]), 4420: array([ 0.56419363,  0.43580637]), 4421: array([ 0.57632578,  0.42367422]), 4423: array([ 0.5643857,  0.4356143]), 4424: array([ 0.56422657,  0.43577343]), 4425: array([ 0.50595839,  0.49404161]), 4426: array([ 0.50595839,  0.49404161]), 4427: array([ 0.5643857,  0.4356143]), 4429: array([ 0.62338595,  0.37661405]), 4430: array([ 0.50595839,  0.49404161]), 4433: array([ 0.47618039,  0.52381961]), 4434: array([  1.00000000e+000,   6.30198733e-203]), 4435: array([ 0.47618039,  0.52381961]), 4437: array([ 0.47618039,  0.52381961]), 4439: array([ 0.50595839,  0.49404161]), 4440: array([ 0.50595839,  0.49404161]), 4442: array([ 0.47618039,  0.52381961]), 4443: array([ 0.55457068,  0.44542932]), 4444: array([ 0.57766753,  0.42233247]), 4445: array([ 0.55735927,  0.44264073]), 4446: array([ 0.69888693,  0.30111307]), 4447: array([ 0.62224292,  0.37775708]), 4448: array([ 0.57280469,  0.42719531]), 4449: array([ 0.53817728,  0.46182272]), 4450: array([ 0.65363641,  0.34636359]), 4451: array([ 0.50927337,  0.49072663]), 4452: array([ 0.62223751,  0.37776249]), 4453: array([ 0.6688276,  0.3311724]), 4454: array([ 0.71935427,  0.28064573]), 4456: array([ 1.,  0.]), 4457: array([ 0.50595839,  0.49404161]), 4463: array([ 0.61725243,  0.38274757]), 4468: array([ 0.50595839,  0.49404161]), 4471: array([ 0.60214152,  0.39785848]), 4474: array([ 0.61102684,  0.38897316]), 4475: array([ 0.61102684,  0.38897316]), 4476: array([ 0.61104964,  0.38895036]), 4477: array([ 0.50595839,  0.49404161]), 4478: array([  1.00000000e+000,   2.35814904e-259]), 4479: array([ 0.61102684,  0.38897316]), 4481: array([ 0.54767674,  0.45232326]), 4482: array([ 0.66704854,  0.33295146]), 4483: array([ 0.50595839,  0.49404161]), 4492: array([ 0.50595839,  0.49404161]), 4493: array([ 0.66437012,  0.33562988]), 4494: array([ 0.62198304,  0.37801696]), 4496: array([ 0.5109639,  0.4890361]), 4497: array([ 0.6191558,  0.3808442]), 4498: array([ 0.61011229,  0.38988771]), 4499: array([  1.00000000e+000,   4.55231867e-157]), 4501: array([ 0.58565664,  0.41434336]), 4504: array([ 1.,  0.]), 4508: array([ 0.50595839,  0.49404161]), 4510: array([ 0.66867171,  0.33132829]), 4511: array([ 0.50595839,  0.49404161]), 4513: array([  1.00000000e+000,   1.81216177e-258]), 4515: array([ 0.66437012,  0.33562988]), 4517: array([  1.00000000e+000,   5.48101894e-249]), 4519: array([ 0.50595839,  0.49404161]), 4520: array([ 0.50595839,  0.49404161]), 4521: array([ 0.61837131,  0.38162869]), 4522: array([ 0.55934269,  0.44065731]), 4523: array([ 0.99102339,  0.00897661]), 4524: array([ 0.6649538,  0.3350462]), 4525: array([ 0.56104247,  0.43895753]), 4526: array([ 0.50595839,  0.49404161]), 4530: array([  1.00000000e+00,   2.27362893e-17]), 4532: array([ 0.55934269,  0.44065731]), 4535: array([ 0.61498594,  0.38501406]), 4539: array([ 0.62096108,  0.37903892]), 4540: array([ 0.66437012,  0.33562988]), 4541: array([ 0.50595839,  0.49404161]), 4543: array([  1.00000000e+00,   3.76437208e-39]), 4548: array([ 0.55566177,  0.44433823]), 4549: array([ 0.50595839,  0.49404161]), 4550: array([ 1.,  0.]), 4551: array([ 0.50595839,  0.49404161]), 4552: array([ 0.56055735,  0.43944265]), 4554: array([ 0.50595839,  0.49404161]), 4555: array([ 0.62198304,  0.37801696]), 4556: array([ 0.56104247,  0.43895753]), 4557: array([ 0.55938792,  0.44061208]), 4558: array([  1.00000000e+00,   4.65540729e-20]), 4561: array([ 0.56104247,  0.43895753]), 4563: array([  1.00000000e+000,   7.12145254e-269]), 4564: array([ 0.50595839,  0.49404161]), 4565: array([ 0.50595839,  0.49404161]), 4567: array([ 0.50595839,  0.49404161]), 4568: array([ 0.50595839,  0.49404161]), 4569: array([ 0.6649538,  0.3350462]), 4570: array([ 0.56132232,  0.43867768]), 4571: array([ 0.50595839,  0.49404161]), 4572: array([ 0.61498594,  0.38501406]), 4573: array([ 0.62096108,  0.37903892]), 4574: array([ 1.,  0.]), 4576: array([ 0.62199387,  0.37800613]), 4577: array([ 1.,  0.]), 4581: array([ 0.50595839,  0.49404161]), 4585: array([  1.00000000e+000,   6.63710052e-100]), 4586: array([ 0.50595839,  0.49404161]), 4589: array([ 0.60305187,  0.39694813]), 4590: array([ 0.6153779,  0.3846221]), 4593: array([ 0.82228888,  0.17771112]), 4594: array([ 0.8421289,  0.1578711]), 4595: array([ 0.74846633,  0.25153367]), 4596: array([  1.00000000e+000,   3.10794900e-293]), 4597: array([ 0.88866668,  0.11133332]), 4598: array([ 0.99681971,  0.00318029]), 4599: array([ 0.81303645,  0.18696355]), 4600: array([ 0.62223916,  0.37776084]), 4601: array([ 0.62839818,  0.37160182]), 4602: array([ 0.93551175,  0.06448825]), 4603: array([ 0.79279704,  0.20720296]), 4604: array([ 0.88725533,  0.11274467]), 4605: array([ 0.68585311,  0.31414689]), 4606: array([  1.00000000e+00,   7.81871706e-52]), 4607: array([ 0.47618039,  0.52381961]), 4608: array([ 0.87274012,  0.12725988]), 4609: array([ 0.50595839,  0.49404161]), 4610: array([ 0.76990058,  0.23009942]), 4611: array([ 0.79356233,  0.20643767]), 4612: array([ 0.90155747,  0.09844253]), 4614: array([ 0.61562466,  0.38437534]), 4616: array([ 0.67260795,  0.32739205]), 4617: array([ 1.,  0.]), 4618: array([ 0.67262713,  0.32737287]), 4619: array([ 0.76675227,  0.23324773]), 4621: array([ 0.50595839,  0.49404161]), 4622: array([  1.00000000e+000,   3.57429633e-259]), 4623: array([ 0.50595839,  0.49404161]), 4624: array([ 0.50595839,  0.49404161]), 4625: array([ 0.50595839,  0.49404161]), 4626: array([ 0.5843457,  0.4156543]), 4627: array([ 0.66917412,  0.33082588]), 4628: array([ 0.50595839,  0.49404161]), 4629: array([ 0.61855352,  0.38144648]), 4630: array([ 0.84541028,  0.15458972]), 4631: array([ 0.79319069,  0.20680931]), 4632: array([ 0.66915641,  0.33084359]), 4633: array([ 0.67265271,  0.32734729]), 4634: array([ 0.81418786,  0.18581214]), 4635: array([ 0.78184681,  0.21815319]), 4636: array([ 0.87780321,  0.12219679]), 4637: array([ 0.92246104,  0.07753896]), 4638: array([ 0.94782865,  0.05217135]), 4639: array([ 0.74136209,  0.25863791]), 4641: array([ 0.94865777,  0.05134223]), 4642: array([ 0.8151333,  0.1848667]), 4643: array([ 0.98450441,  0.01549559]), 4644: array([ 0.86346313,  0.13653687]), 4645: array([ 0.87500555,  0.12499445]), 4646: array([ 0.76388414,  0.23611586]), 4647: array([ 0.62163048,  0.37836952]), 4648: array([ 0.7125382,  0.2874618]), 4649: array([ 0.6689918,  0.3310082]), 4650: array([ 0.85372549,  0.14627451]), 4651: array([ 0.892747,  0.107253]), 4652: array([ 0.74338513,  0.25661487]), 4653: array([ 0.62163048,  0.37836952]), 4654: array([ 0.79285149,  0.20714851]), 4655: array([ 0.62291784,  0.37708216]), 4657: array([ 0.50595839,  0.49404161]), 4658: array([ 0.74663675,  0.25336325]), 4659: array([ 0.50595839,  0.49404161]), 4660: array([ 0.62291784,  0.37708216]), 4661: array([ 0.61475018,  0.38524982]), 4662: array([ 0.77117281,  0.22882719]), 4663: array([ 0.6730797,  0.3269203]), 4664: array([ 0.6728443,  0.3271557]), 4665: array([ 0.74419564,  0.25580436]), 4673: array([ 0.62400264,  0.37599736]), 4674: array([ 0.76876112,  0.23123888]), 4675: array([ 0.70190411,  0.29809589]), 4676: array([ 0.96053109,  0.03946891]), 4677: array([ 0.66475947,  0.33524053]), 4678: array([ 0.96312784,  0.03687216]), 4685: array([ 0.52045159,  0.47954841]), 4687: array([  1.00000000e+00,   1.29549950e-15]), 4690: array([ 0.50595839,  0.49404161]), 4692: array([ 0.95233338,  0.04766662]), 4698: array([ 0.56155878,  0.43844122]), 4701: array([ 0.61202553,  0.38797447]), 4706: array([  1.00000000e+000,   8.30474276e-293]), 4712: array([ 0.6101134,  0.3898866]), 4713: array([ 0.50595839,  0.49404161]), 4714: array([ 0.59889656,  0.40110344]), 4715: array([ 0.59894387,  0.40105613]), 4716: array([ 0.64927153,  0.35072847]), 4717: array([ 0.65114701,  0.34885299]), 4718: array([ 1.,  0.]), 4719: array([ 0.59892613,  0.40107387]), 4720: array([ 0.59899709,  0.40100291]), 4721: array([  1.00000000e+00,   6.80165686e-64]), 4722: array([ 0.59894387,  0.40105613]), 4723: array([ 0.59894387,  0.40105613]), 4724: array([ 0.59892613,  0.40107387]), 4726: array([ 1.,  0.]), 4727: array([ 0.60702042,  0.39297958]), 4728: array([ 0.50595839,  0.49404161]), 4729: array([ 0.50595839,  0.49404161]), 4730: array([ 0.5583506,  0.4416494]), 4731: array([ 0.50595839,  0.49404161]), 4732: array([ 0.50595839,  0.49404161]), 4733: array([ 0.50595839,  0.49404161]), 4734: array([ 0.60200827,  0.39799173]), 4735: array([ 0.62488318,  0.37511682]), 4736: array([ 0.54716782,  0.45283218]), 4737: array([ 0.52146673,  0.47853327]), 4738: array([ 0.50595839,  0.49404161]), 4739: array([  9.99994580e-01,   5.41990610e-06]), 4740: array([ 0.66447267,  0.33552733]), 4742: array([ 0.67093523,  0.32906477]), 4743: array([ 0.50595839,  0.49404161]), 4744: array([ 0.50595839,  0.49404161]), 4746: array([ 0.50595839,  0.49404161]), 4747: array([ 0.47618039,  0.52381961]), 4749: array([ 0.59892613,  0.40107387]), 4750: array([ 0.47618039,  0.52381961]), 4751: array([ 0.74039842,  0.25960158]), 4753: array([ 0.47618039,  0.52381961]), 4756: array([ 0.50595839,  0.49404161]), 4758: array([ 0.50595839,  0.49404161]), 4759: array([ 0.50595839,  0.49404161]), 4760: array([ 0.50595839,  0.49404161]), 4761: array([ 0.50595839,  0.49404161]), 4762: array([ 0.61102684,  0.38897316]), 4763: array([ 0.50595839,  0.49404161]), 4764: array([ 0.62843964,  0.37156036]), 4765: array([ 0.55849832,  0.44150168]), 4767: array([  9.99997198e-01,   2.80177693e-06]), 4768: array([ 0.60860608,  0.39139392]), 4769: array([ 0.55786123,  0.44213877]), 4770: array([ 0.62091118,  0.37908882]), 4771: array([ 0.61549594,  0.38450406]), 4772: array([ 0.52215169,  0.47784831]), 4773: array([ 0.50595839,  0.49404161]), 4774: array([ 0.50595839,  0.49404161]), 4775: array([  1.00000000e+000,   4.15746770e-179]), 4776: array([ 0.50595839,  0.49404161]), 4780: array([ 0.55605317,  0.44394683]), 4781: array([  1.00000000e+000,   1.01639631e-261]), 4782: array([ 0.50595839,  0.49404161]), 4784: array([ 0.50595839,  0.49404161]), 4785: array([  1.00000000e+000,   4.02532153e-259]), 4786: array([ 0.57131292,  0.42868708]), 4790: array([ 0.52100949,  0.47899051]), 4791: array([ 0.53873406,  0.46126594]), 4797: array([ 0.50595839,  0.49404161]), 4801: array([ 0.50595839,  0.49404161]), 4807: array([ 0.56140619,  0.43859381]), 4809: array([ 0.66614803,  0.33385197]), 4827: array([ 0.51873059,  0.48126941]), 4828: array([ 0.51873059,  0.48126941]), 4829: array([ 0.51222154,  0.48777846]), 4843: array([ 0.52292095,  0.47707905]), 4847: array([ 0.50595839,  0.49404161]), 4848: array([ 0.61578686,  0.38421314]), 4855: array([ 0.50595839,  0.49404161]), 4858: array([ 0.51408151,  0.48591849]), 4859: array([ 0.61475018,  0.38524982]), 4860: array([ 0.80848743,  0.19151257]), 4861: array([ 0.50595839,  0.49404161]), 4863: array([ 0.56300826,  0.43699174]), 4867: array([ 0.67261114,  0.32738886]), 4869: array([ 0.56140619,  0.43859381]), 4870: array([ 0.56608622,  0.43391378]), 4871: array([ 0.59899709,  0.40100291]), 4873: array([ 0.71247257,  0.28752743]), 4876: array([ 0.64764272,  0.35235728]), 4878: array([ 0.50595839,  0.49404161]), 4883: array([ 0.50595839,  0.49404161]), 4893: array([ 0.62986126,  0.37013874]), 4901: array([ 0.50595839,  0.49404161]), 4917: array([ 0.51873059,  0.48126941]), 4920: array([ 0.5285877,  0.4714123]), 4921: array([  9.99162139e-01,   8.37861275e-04]), 4925: array([ 0.56446245,  0.43553755]), 4927: array([ 0.5622092,  0.4377908]), 4928: array([ 0.50595839,  0.49404161]), 4929: array([ 0.62461688,  0.37538312]), 4930: array([ 0.62461688,  0.37538312]), 4931: array([ 0.51873059,  0.48126941]), 4933: array([ 0.50595839,  0.49404161]), 4934: array([ 0.50595839,  0.49404161]), 4936: array([ 0.62462222,  0.37537778]), 4937: array([ 0.51058882,  0.48941118]), 4938: array([ 0.51058882,  0.48941118]), 4940: array([ 0.59617355,  0.40382645]), 4943: array([ 0.53129844,  0.46870156]), 4944: array([ 0.62617047,  0.37382953]), 4945: array([ 0.62617047,  0.37382953]), 4948: array([  1.00000000e+000,   8.54446423e-261]), 4949: array([ 1.,  0.]), 4951: array([ 0.50595839,  0.49404161]), 4952: array([ 0.59890247,  0.40109753]), 4953: array([ 0.599003,  0.400997]), 4954: array([ 0.50595839,  0.49404161]), 4955: array([ 0.50595839,  0.49404161]), 4956: array([ 0.65783478,  0.34216522]), 4957: array([ 0.59902665,  0.40097335]), 4958: array([ 0.98263118,  0.01736882]), 4961: array([ 0.61013055,  0.38986945]), 4963: array([  1.00000000e+00,   4.87261032e-64]), 4964: array([ 0.71061259,  0.28938741]), 4965: array([ 0.64776541,  0.35223459]), 4966: array([  1.00000000e+000,   1.58031557e-258]), 4967: array([ 0.50595839,  0.49404161]), 4968: array([ 0.47618039,  0.52381961]), 4969: array([ 0.64918975,  0.35081025]), 4971: array([ 0.53129844,  0.46870156]), 4974: array([ 0.47618039,  0.52381961]), 4979: array([ 0.50595839,  0.49404161]), 4980: array([ 0.50595839,  0.49404161]), 4982: array([ 0.60998756,  0.39001244]), 4984: array([ 0.50595839,  0.49404161]), 4985: array([ 0.50595839,  0.49404161]), 4986: array([ 0.59879601,  0.40120399]), 4987: array([ 0.50595839,  0.49404161]), 4988: array([ 0.50595839,  0.49404161]), 4989: array([ 0.59879601,  0.40120399]), 4990: array([ 0.50595839,  0.49404161]), 4991: array([ 0.50595839,  0.49404161]), 4992: array([  1.00000000e+000,   1.08191359e-258]), 4993: array([ 0.64918975,  0.35081025]), 4994: array([ 0.59892613,  0.40107387]), 4995: array([ 0.59892613,  0.40107387]), 4996: array([ 0.64918975,  0.35081025]), 4997: array([ 0.59892613,  0.40107387]), 4998: array([ 0.50595839,  0.49404161]), 4999: array([ 0.65778491,  0.34221509]), 5000: array([ 0.65778491,  0.34221509]), 5001: array([ 0.65778491,  0.34221509]), 5002: array([ 0.59894387,  0.40105613]), 5003: array([ 0.69893767,  0.30106233]), 5004: array([ 0.59894387,  0.40105613]), 5005: array([ 0.69893989,  0.30106011]), 5006: array([ 0.50595839,  0.49404161]), 5007: array([ 0.64921701,  0.35078299]), 5008: array([ 0.59894387,  0.40105613]), 5009: array([ 0.50595839,  0.49404161]), 5011: array([ 0.50595839,  0.49404161]), 5012: array([ 0.65783478,  0.34216522]), 5013: array([ 0.50595839,  0.49404161]), 5014: array([ 0.50595839,  0.49404161]), 5015: array([ 0.50595839,  0.49404161]), 5016: array([  1.00000000e+000,   6.43693303e-259]), 5017: array([ 0.55317093,  0.44682907]), 5018: array([  1.00000000e+000,   4.39430786e-194]), 5019: array([ 0.64927153,  0.35072847]), 5021: array([ 0.59899709,  0.40100291]), 5022: array([ 0.50595839,  0.49404161]), 5024: array([ 0.59889656,  0.40110344]), 5032: array([ 0.53344955,  0.46655045]), 5033: array([ 0.50595839,  0.49404161]), 5034: array([ 0.50595839,  0.49404161]), 5036: array([ 0.50595839,  0.49404161]), 5038: array([ 1.,  0.]), 5039: array([  1.00000000e+00,   3.69176131e-85]), 5041: array([ 0.60687013,  0.39312987]), 5050: array([ 0.6209723,  0.3790277]), 5056: array([ 0.60234055,  0.39765945]), 5057: array([ 0.50595839,  0.49404161]), 5072: array([ 0.50595839,  0.49404161]), 5097: array([ 0.55753623,  0.44246377]), 5099: array([ 0.50595839,  0.49404161]), 5104: array([ 0.66893695,  0.33106305]), 5105: array([ 1.,  0.]), 5106: array([ 0.50595839,  0.49404161]), 5107: array([ 0.50595839,  0.49404161]), 5109: array([ 0.50595839,  0.49404161]), 5110: array([ 0.61948955,  0.38051045]), 5111: array([ 0.50595839,  0.49404161]), 5112: array([ 1.,  0.]), 5113: array([ 0.64264694,  0.35735306]), 5117: array([ 0.55603448,  0.44396552]), 5119: array([ 0.50595839,  0.49404161]), 5120: array([ 0.50595839,  0.49404161]), 5121: array([ 0.64180418,  0.35819582]), 5122: array([ 0.50595839,  0.49404161]), 5123: array([ 0.61244791,  0.38755209]), 5126: array([ 0.50595839,  0.49404161]), 5127: array([ 0.50595839,  0.49404161]), 5129: array([ 0.6172802,  0.3827198]), 5137: array([  1.00000000e+000,   2.63230615e-259]), 5144: array([ 0.55849832,  0.44150168]), 5155: array([ 0.50595839,  0.49404161]), 5158: array([ 0.96830156,  0.03169844]), 5161: array([ 0.61578686,  0.38421314]), 5162: array([ 0.50852662,  0.49147338]), 5170: array([ 0.50595839,  0.49404161]), 5183: array([ 0.67645914,  0.32354086]), 5190: array([ 0.82455154,  0.17544846]), 5191: array([ 0.5262378,  0.4737622]), 5192: array([ 0.71263527,  0.28736473]), 5193: array([ 0.56279224,  0.43720776]), 5200: array([ 0.56280887,  0.43719113]), 5205: array([  1.00000000e+000,   7.18059295e-133]), 5211: array([ 0.72558427,  0.27441573]), 5212: array([ 0.50595839,  0.49404161]), 5220: array([ 0.50595839,  0.49404161]), 5223: array([ 0.66376217,  0.33623783]), 5225: array([ 0.50595839,  0.49404161]), 5232: array([ 0.61837131,  0.38162869]), 5234: array([  9.99412153e-01,   5.87847166e-04]), 5239: array([ 0.50595839,  0.49404161]), 5258: array([ 0.60796092,  0.39203908]), 5259: array([ 0.60796092,  0.39203908]), 5266: array([ 0.61549594,  0.38450406]), 5275: array([ 0.50783761,  0.49216239]), 5315: array([ 0.50843871,  0.49156129]), 5334: array([ 0.6237573,  0.3762427]), 5355: array([ 0.69888063,  0.30111937]), 5356: array([ 0.50595839,  0.49404161]), 5371: array([ 0.50595839,  0.49404161]), 5383: array([ 0.60872901,  0.39127099]), 5393: array([ 0.50595839,  0.49404161]), 5395: array([ 0.50595839,  0.49404161]), 5401: array([ 0.61561907,  0.38438093]), 5418: array([ 0.62839818,  0.37160182]), 5489: array([ 0.61262359,  0.38737641]), 5495: array([ 0.59899709,  0.40100291]), 5496: array([ 0.65783478,  0.34216522]), 5497: array([ 0.50595839,  0.49404161]), 5498: array([ 0.52000762,  0.47999238]), 5501: array([ 0.50595839,  0.49404161]), 5505: array([ 0.51944846,  0.48055154]), 5507: array([ 1.,  0.]), 5508: array([ 0.50595839,  0.49404161]), 5514: array([ 0.47618039,  0.52381961]), 5516: array([ 0.61244791,  0.38755209]), 5517: array([  1.00000000e+000,   5.79123271e-259]), 5518: array([ 1.,  0.]), 5519: array([ 0.50595839,  0.49404161]), 5520: array([ 0.50595839,  0.49404161]), 5521: array([  1.00000000e+000,   2.78372654e-258]), 5522: array([ 0.5488301,  0.4511699]), 5525: array([ 0.50595839,  0.49404161]), 5532: array([ 0.50595839,  0.49404161]), 5534: array([ 0.50595839,  0.49404161]), 5537: array([ 0.56303597,  0.43696403]), 5562: array([ 0.50595839,  0.49404161]), 5587: array([ 0.60257517,  0.39742483]), 5602: array([  1.00000000e+00,   1.78920824e-54]), 5606: array([ 0.71098355,  0.28901645]), 5608: array([ 0.66795068,  0.33204932]), 5613: array([  9.99999973e-01,   2.65370235e-08]), 5686: array([ 0.70248276,  0.29751724]), 5736: array([ 0.50595839,  0.49404161]), 5752: array([ 0.5643857,  0.4356143]), 5753: array([ 0.50595839,  0.49404161]), 5756: array([ 0.50595839,  0.49404161]), 5779: array([ 0.66605051,  0.33394949]), 5800: array([ 0.89124278,  0.10875722]), 5805: array([ 0.55735927,  0.44264073]), 5806: array([ 0.50595839,  0.49404161]), 5815: array([ 0.50595839,  0.49404161]), 5818: array([ 0.95321807,  0.04678193]), 5825: array([ 0.62991755,  0.37008245]), 5850: array([ 0.76900395,  0.23099605]), 5851: array([ 0.61551273,  0.38448727]), 5862: array([ 0.62275611,  0.37724389]), 5870: array([ 0.70281897,  0.29718103]), 5909: array([  1.00000000e+000,   4.54664028e-259]), 5926: array([ 0.50595839,  0.49404161]), 5931: array([ 0.61570298,  0.38429702]), 5933: array([ 0.65951291,  0.34048709]), 5944: array([ 0.50595839,  0.49404161]), 5983: array([ 0.59899709,  0.40100291]), 5984: array([ 0.59899709,  0.40100291]), 5992: array([ 0.50595839,  0.49404161]), 5994: array([ 0.50595839,  0.49404161]), 5996: array([ 0.50595839,  0.49404161]), 6019: array([ 0.87821153,  0.12178847]), 6021: array([ 0.50595839,  0.49404161]), 6022: array([ 0.616969,  0.383031]), 6023: array([ 0.50595839,  0.49404161]), 6027: array([ 0.62881217,  0.37118783]), 6028: array([ 0.88577435,  0.11422565]), 6030: array([ 0.61582599,  0.38417401]), 6031: array([ 0.6225488,  0.3774512]), 6045: array([ 0.50595839,  0.49404161]), 6046: array([ 0.50595839,  0.49404161]), 6047: array([ 0.50595839,  0.49404161]), 6052: array([ 0.50595839,  0.49404161]), 6097: array([ 0.62839818,  0.37160182]), 6138: array([ 0.50595839,  0.49404161]), 6229: array([ 0.47618039,  0.52381961]), 6230: array([ 0.61695232,  0.38304768]), 6233: array([  9.99845804e-01,   1.54195573e-04]), 6234: array([ 0.60214152,  0.39785848]), 6243: array([  1.00000000e+000,   2.96668832e-258]), 6261: array([ 0.50595839,  0.49404161]), 6265: array([ 0.50595839,  0.49404161])}\n"
     ]
    }
   ],
   "source": [
    "print final_inf_prob"
   ]
  },
  {
   "cell_type": "code",
   "execution_count": 26,
   "metadata": {},
   "outputs": [
    {
     "name": "stdout",
     "output_type": "stream",
     "text": [
      "{0: 0, 1: 0, 2: 0, 3: 0, 4: 0, 5: 0, 6: 0, 7: 0, 8: 0, 9: 0, 10: 0, 11: 0, 14: 0, 15: 0, 17: 0, 20: 0, 21: 0, 22: 0, 23: 0, 26: 0, 27: 0, 28: 0, 29: 0, 30: 0, 31: 0, 32: 0, 33: 0, 35: 0, 36: 0, 39: 0, 40: 0, 44: 0, 47: 0, 48: 0, 49: 0, 53: 0, 54: 0, 55: 0, 57: 0, 59: 0, 60: 0, 61: 0, 62: 0, 63: 0, 64: 0, 66: 0, 67: 0, 68: 0, 69: 0, 70: 1, 71: 0, 73: 0, 75: 0, 76: 0, 77: 0, 78: 0, 80: 1, 83: 0, 85: 0, 86: 1, 88: 0, 89: 0, 91: 0, 96: 0, 97: 0, 102: 0, 103: 0, 104: 1, 105: 0, 106: 0, 108: 0, 109: 0, 110: 0, 112: 0, 113: 0, 114: 0, 115: 0, 116: 0, 117: 0, 118: 0, 121: 0, 122: 1, 123: 0, 124: 0, 128: 0, 129: 0, 131: 0, 132: 0, 135: 0, 136: 0, 137: 0, 138: 0, 139: 0, 140: 0, 141: 0, 142: 0, 143: 0, 146: 0, 147: 0, 148: 0, 149: 0, 150: 0, 154: 0, 155: 0, 157: 0, 158: 0, 159: 0, 160: 0, 161: 0, 162: 0, 164: 0, 165: 0, 166: 1, 167: 0, 168: 0, 169: 0, 170: 0, 171: 0, 172: 0, 173: 0, 174: 0, 175: 0, 176: 0, 179: 0, 180: 0, 181: 0, 182: 0, 184: 0, 186: 0, 188: 0, 189: 0, 190: 0, 192: 0, 195: 0, 196: 0, 199: 0, 200: 0, 201: 0, 206: 0, 210: 1, 211: 0, 212: 1, 213: 0, 214: 0, 218: 0, 219: 0, 221: 0, 222: 0, 223: 0, 224: 0, 225: 0, 226: 0, 227: 0, 228: 0, 231: 0, 232: 0, 233: 0, 234: 1, 235: 0, 236: 0, 237: 0, 239: 0, 240: 0, 241: 0, 246: 1, 248: 1, 250: 0, 251: 1, 252: 0, 254: 0, 255: 0, 256: 1, 257: 1, 258: 1, 259: 1, 261: 1, 263: 0, 264: 0, 265: 1, 266: 1, 268: 0, 272: 1, 274: 0, 275: 1, 277: 1, 278: 0, 279: 0, 281: 0, 283: 0, 284: 0, 286: 0, 287: 0, 290: 0, 292: 0, 297: 0, 298: 0, 306: 1, 317: 1, 319: 1, 324: 1, 325: 1, 326: 0, 327: 0, 328: 1, 329: 1, 330: 1, 331: 0, 332: 0, 333: 0, 334: 1, 335: 0, 336: 0, 337: 0, 338: 0, 340: 0, 341: 0, 348: 0, 353: 1, 355: 0, 357: 0, 358: 1, 366: 0, 377: 0, 384: 0, 392: 1, 394: 0, 397: 0, 399: 0, 400: 0, 404: 0, 411: 0, 412: 0, 413: 0, 415: 0, 416: 0, 418: 0, 420: 0, 421: 0, 422: 0, 424: 0, 425: 0, 429: 1, 431: 0, 436: 0, 438: 0, 441: 1, 443: 0, 445: 0, 448: 1, 450: 1, 451: 0, 454: 0, 459: 0, 462: 0, 469: 0, 471: 1, 472: 0, 474: 0, 475: 0, 477: 0, 478: 0, 479: 0, 485: 0, 491: 0, 492: 0, 494: 0, 496: 0, 497: 0, 498: 0, 499: 0, 500: 0, 505: 0, 506: 0, 507: 0, 508: 0, 509: 0, 510: 1, 511: 0, 512: 0, 513: 0, 514: 0, 516: 0, 517: 0, 518: 0, 522: 0, 526: 0, 552: 0, 553: 0, 555: 0, 558: 0, 559: 0, 564: 0, 569: 1, 571: 1, 572: 0, 573: 0, 575: 0, 577: 0, 578: 0, 579: 0, 580: 1, 581: 0, 583: 0, 588: 0, 589: 0, 594: 0, 597: 0, 598: 0, 599: 0, 600: 0, 601: 0, 603: 0, 604: 1, 605: 0, 606: 0, 607: 0, 609: 0, 610: 0, 611: 0, 612: 0, 613: 0, 614: 0, 615: 0, 616: 0, 618: 0, 620: 0, 621: 0, 622: 0, 624: 0, 625: 0, 626: 0, 627: 0, 628: 0, 629: 0, 630: 0, 631: 0, 632: 0, 633: 0, 634: 0, 635: 0, 636: 0, 637: 0, 638: 0, 640: 0, 641: 0, 642: 0, 645: 0, 647: 0, 648: 0, 649: 1, 650: 0, 652: 0, 653: 0, 657: 1, 660: 1, 662: 1, 665: 1, 666: 0, 668: 1, 670: 0, 671: 0, 672: 0, 674: 0, 677: 0, 678: 0, 681: 0, 682: 0, 684: 0, 685: 0, 687: 0, 689: 0, 691: 0, 692: 1, 693: 0, 694: 1, 695: 0, 696: 0, 699: 0, 702: 1, 703: 0, 726: 1, 747: 0, 748: 1, 750: 1, 752: 0, 753: 0, 756: 0, 757: 0, 763: 0, 766: 0, 776: 0, 785: 0, 787: 0, 790: 0, 792: 0, 796: 0, 811: 0, 812: 0, 822: 0, 824: 0, 825: 0, 826: 0, 828: 0, 831: 0, 832: 0, 833: 1, 835: 0, 836: 0, 838: 0, 839: 0, 842: 0, 843: 1, 845: 0, 846: 0, 849: 0, 851: 0, 852: 0, 853: 0, 855: 0, 857: 0, 860: 0, 861: 0, 862: 0, 863: 0, 865: 0, 866: 0, 867: 0, 868: 0, 869: 0, 872: 0, 874: 0, 875: 0, 877: 0, 878: 0, 882: 0, 888: 0, 889: 0, 891: 0, 892: 0, 893: 0, 895: 0, 896: 0, 897: 0, 900: 0, 901: 0, 902: 0, 903: 0, 910: 0, 913: 0, 916: 0, 917: 0, 918: 0, 919: 0, 921: 1, 926: 1, 927: 0, 928: 0, 930: 0, 932: 0, 936: 0, 937: 0, 941: 0, 943: 0, 944: 0, 946: 0, 954: 0, 957: 0, 959: 1, 960: 0, 965: 0, 967: 0, 970: 0, 971: 0, 972: 0, 974: 0, 975: 1, 976: 0, 977: 0, 979: 0, 981: 0, 982: 0, 983: 1, 984: 1, 989: 0, 990: 0, 991: 0, 992: 0, 993: 0, 994: 0, 995: 0, 996: 0, 997: 0, 999: 0, 1000: 0, 1001: 0, 1002: 0, 1006: 0, 1008: 1, 1009: 1, 1010: 0, 1012: 0, 1013: 0, 1014: 0, 1015: 0, 1016: 0, 1017: 0, 1019: 0, 1020: 0, 1029: 0, 1032: 0, 1037: 0, 1038: 0, 1039: 0, 1040: 0, 1041: 0, 1042: 1, 1043: 0, 1044: 0, 1045: 0, 1046: 0, 1047: 0, 1048: 0, 1049: 0, 1050: 0, 1051: 0, 1052: 0, 1053: 1, 1054: 0, 1055: 0, 1057: 1, 1058: 0, 1059: 1, 1060: 0, 1062: 1, 1064: 1, 1066: 1, 1068: 0, 1070: 0, 1071: 0, 1072: 0, 1073: 1, 1074: 1, 1076: 1, 1077: 1, 1080: 1, 1081: 0, 1082: 1, 1084: 1, 1089: 0, 1092: 0, 1093: 0, 1096: 0, 1098: 1, 1100: 1, 1101: 1, 1102: 1, 1103: 0, 1104: 0, 1107: 0, 1109: 0, 1110: 0, 1111: 1, 1112: 1, 1113: 0, 1115: 1, 1116: 0, 1118: 0, 1119: 1, 1121: 0, 1122: 0, 1123: 1, 1125: 0, 1127: 0, 1128: 0, 1130: 0, 1131: 0, 1133: 0, 1134: 0, 1137: 0, 1138: 0, 1139: 0, 1140: 0, 1141: 0, 1142: 0, 1143: 0, 1144: 0, 1145: 0, 1146: 0, 1147: 1, 1148: 0, 1149: 0, 1150: 0, 1151: 0, 1152: 0, 1153: 0, 1154: 1, 1155: 0, 1156: 0, 1157: 0, 1158: 0, 1160: 0, 1161: 0, 1162: 1, 1164: 0, 1165: 0, 1166: 0, 1167: 0, 1168: 0, 1169: 0, 1178: 0, 1180: 0, 1181: 0, 1182: 0, 1184: 1, 1186: 0, 1189: 0, 1190: 0, 1191: 0, 1192: 0, 1193: 0, 1194: 0, 1195: 0, 1200: 0, 1203: 0, 1210: 1, 1222: 0, 1226: 0, 1233: 0, 1234: 0, 1235: 0, 1236: 0, 1237: 1, 1243: 0, 1247: 0, 1248: 1, 1256: 0, 1261: 0, 1263: 0, 1264: 1, 1265: 1, 1266: 1, 1267: 0, 1270: 0, 1271: 0, 1272: 0, 1278: 0, 1282: 0, 1285: 0, 1287: 0, 1290: 1, 1307: 0, 1311: 0, 1313: 0, 1316: 0, 1317: 0, 1320: 0, 1322: 1, 1323: 0, 1324: 0, 1325: 0, 1326: 0, 1331: 0, 1332: 0, 1339: 0, 1342: 0, 1343: 0, 1349: 0, 1350: 0, 1352: 0, 1353: 0, 1354: 1, 1355: 0, 1356: 0, 1357: 0, 1358: 0, 1359: 0, 1360: 0, 1361: 0, 1362: 0, 1363: 0, 1364: 0, 1365: 0, 1366: 0, 1369: 0, 1370: 0, 1371: 0, 1372: 0, 1373: 0, 1374: 0, 1375: 0, 1376: 0, 1378: 0, 1379: 0, 1381: 0, 1385: 1, 1387: 0, 1388: 1, 1389: 0, 1397: 0, 1401: 0, 1402: 0, 1404: 0, 1405: 0, 1406: 0, 1407: 0, 1408: 0, 1409: 0, 1410: 0, 1412: 0, 1414: 0, 1415: 0, 1418: 0, 1419: 0, 1420: 0, 1422: 0, 1423: 1, 1425: 0, 1427: 0, 1429: 0, 1431: 1, 1432: 0, 1437: 1, 1438: 0, 1439: 0, 1442: 0, 1443: 0, 1445: 1, 1448: 0, 1451: 0, 1452: 0, 1453: 0, 1456: 0, 1458: 0, 1468: 0, 1471: 0, 1473: 0, 1476: 1, 1477: 0, 1479: 0, 1483: 0, 1485: 0, 1491: 0, 1494: 0, 1497: 0, 1498: 0, 1499: 0, 1500: 0, 1501: 0, 1504: 0, 1512: 0, 1513: 0, 1514: 0, 1515: 0, 1519: 0, 1520: 0, 1522: 0, 1523: 0, 1524: 0, 1525: 0, 1530: 0, 1531: 0, 1532: 0, 1534: 0, 1535: 0, 1536: 0, 1537: 0, 1539: 0, 1540: 0, 1541: 0, 1542: 0, 1543: 0, 1546: 0, 1547: 0, 1549: 0, 1558: 0, 1559: 0, 1561: 0, 1562: 0, 1564: 1, 1565: 1, 1567: 0, 1568: 1, 1569: 1, 1570: 0, 1571: 1, 1572: 0, 1573: 0, 1574: 0, 1577: 0, 1578: 1, 1582: 1, 1583: 0, 1584: 0, 1587: 0, 1589: 0, 1590: 0, 1591: 0, 1592: 0, 1593: 1, 1594: 1, 1595: 1, 1596: 1, 1597: 1, 1599: 0, 1601: 1, 1602: 0, 1603: 0, 1605: 0, 1606: 0, 1607: 0, 1609: 0, 1610: 0, 1617: 0, 1618: 0, 1619: 0, 1622: 0, 1623: 0, 1624: 0, 1625: 0, 1629: 0, 1631: 1, 1632: 0, 1633: 0, 1634: 0, 1635: 0, 1637: 0, 1638: 0, 1640: 0, 1642: 1, 1643: 0, 1644: 0, 1645: 0, 1648: 0, 1651: 0, 1652: 0, 1653: 0, 1654: 0, 1655: 0, 1656: 0, 1657: 0, 1658: 0, 1659: 0, 1660: 0, 1662: 0, 1665: 0, 1666: 0, 1668: 0, 1670: 0, 1671: 0, 1672: 0, 1673: 0, 1674: 0, 1675: 1, 1676: 0, 1677: 0, 1678: 0, 1679: 0, 1681: 0, 1682: 0, 1684: 0, 1685: 0, 1686: 0, 1687: 0, 1690: 0, 1691: 0, 1692: 0, 1693: 0, 1694: 0, 1695: 0, 1696: 0, 1698: 0, 1700: 0, 1701: 0, 1702: 0, 1703: 0, 1705: 0, 1706: 0, 1707: 0, 1708: 0, 1709: 0, 1710: 0, 1711: 0, 1713: 0, 1717: 1, 1718: 0, 1720: 0, 1721: 0, 1722: 0, 1724: 0, 1725: 0, 1726: 1, 1731: 0, 1733: 0, 1736: 0, 1738: 0, 1739: 0, 1740: 0, 1742: 0, 1744: 0, 1746: 0, 1750: 0, 1752: 0, 1753: 0, 1754: 0, 1756: 0, 1757: 0, 1758: 0, 1767: 0, 1769: 0, 1770: 0, 1773: 0, 1775: 0, 1777: 0, 1780: 0, 1781: 0, 1783: 0, 1784: 0, 1786: 0, 1788: 0, 1789: 0, 1790: 0, 1791: 0, 1792: 0, 1793: 0, 1796: 0, 1797: 0, 1798: 0, 1799: 0, 1800: 0, 1801: 0, 1802: 0, 1804: 0, 1806: 0, 1807: 0, 1808: 0, 1809: 0, 1810: 0, 1813: 0, 1815: 0, 1816: 0, 1817: 0, 1818: 0, 1819: 0, 1821: 0, 1822: 0, 1823: 0, 1824: 0, 1825: 0, 1826: 0, 1827: 0, 1828: 0, 1829: 0, 1830: 0, 1831: 0, 1832: 0, 1833: 0, 1834: 0, 1835: 0, 1836: 0, 1837: 0, 1838: 0, 1839: 0, 1840: 0, 1841: 0, 1842: 0, 1844: 0, 1846: 0, 1847: 0, 1849: 0, 1851: 0, 1852: 0, 1857: 0, 1858: 0, 1859: 0, 1862: 0, 1863: 0, 1864: 0, 1865: 0, 1868: 0, 1869: 0, 1871: 0, 1875: 0, 1876: 0, 1879: 0, 1880: 0, 1881: 0, 1882: 1, 1883: 1, 1884: 1, 1885: 1, 1887: 0, 1888: 1, 1890: 1, 1891: 1, 1892: 1, 1893: 0, 1894: 0, 1895: 0, 1897: 1, 1898: 1, 1899: 0, 1900: 0, 1901: 0, 1902: 0, 1904: 1, 1906: 0, 1907: 0, 1908: 0, 1913: 0, 1914: 1, 1916: 1, 1918: 0, 1920: 0, 1921: 1, 1924: 0, 1925: 0, 1926: 0, 1927: 0, 1928: 1, 1933: 0, 1934: 0, 1936: 0, 1939: 0, 1940: 0, 1944: 0, 1945: 0, 1947: 0, 1950: 0, 1954: 0, 1957: 0, 1959: 0, 1962: 0, 1967: 0, 1971: 0, 1973: 0, 1975: 0, 1976: 0, 1977: 0, 1978: 0, 1981: 0, 1982: 0, 1984: 1, 1986: 1, 1987: 1, 1989: 0, 1995: 0, 1996: 0, 1998: 0, 1999: 0, 2001: 0, 2002: 0, 2005: 1, 2006: 1, 2007: 0, 2009: 1, 2010: 1, 2014: 0, 2015: 1, 2018: 1, 2019: 1, 2020: 1, 2022: 1, 2023: 0, 2024: 1, 2027: 1, 2029: 1, 2031: 1, 2032: 0, 2033: 0, 2034: 1, 2035: 1, 2038: 1, 2039: 1, 2041: 0, 2043: 0, 2045: 0, 2046: 0, 2047: 0, 2049: 0, 2050: 0, 2051: 0, 2052: 0, 2053: 0, 2054: 0, 2057: 0, 2059: 0, 2062: 0, 2063: 0, 2065: 0, 2067: 0, 2069: 0, 2070: 1, 2071: 0, 2072: 0, 2075: 0, 2077: 0, 2078: 0, 2079: 0, 2081: 0, 2082: 0, 2084: 0, 2085: 0, 2086: 0, 2087: 0, 2088: 0, 2089: 0, 2094: 0, 2095: 0, 2097: 0, 2098: 0, 2100: 0, 2101: 0, 2102: 0, 2103: 0, 2106: 0, 2112: 0, 2114: 0, 2116: 0, 2117: 0, 2118: 0, 2120: 0, 2121: 1, 2122: 0, 2123: 0, 2124: 0, 2125: 0, 2126: 0, 2128: 0, 2129: 0, 2132: 0, 2133: 0, 2134: 0, 2135: 0, 2139: 0, 2143: 0, 2144: 1, 2146: 0, 2148: 0, 2151: 0, 2153: 0, 2154: 0, 2158: 1, 2160: 0, 2161: 0, 2163: 0, 2166: 0, 2167: 0, 2169: 0, 2175: 1, 2176: 0, 2177: 0, 2178: 1, 2179: 0, 2180: 1, 2190: 1, 2191: 0, 2192: 0, 2193: 0, 2195: 1, 2196: 0, 2197: 0, 2201: 0, 2202: 0, 2203: 0, 2212: 0, 2214: 0, 2215: 0, 2216: 0, 2218: 0, 2220: 0, 2221: 0, 2228: 0, 2229: 0, 2230: 0, 2233: 0, 2234: 0, 2235: 0, 2237: 0, 2243: 0, 2244: 0, 2245: 0, 2246: 0, 2247: 0, 2250: 0, 2251: 0, 2252: 0, 2254: 1, 2255: 0, 2261: 0, 2262: 0, 2264: 1, 2265: 0, 2269: 0, 2270: 0, 2271: 0, 2273: 0, 2274: 0, 2275: 0, 2276: 0, 2277: 0, 2279: 0, 2280: 0, 2282: 0, 2283: 0, 2285: 0, 2286: 0, 2287: 0, 2288: 0, 2290: 0, 2291: 0, 2292: 0, 2293: 0, 2295: 0, 2296: 0, 2297: 0, 2298: 0, 2299: 0, 2302: 0, 2303: 0, 2304: 0, 2306: 0, 2308: 0, 2310: 1, 2312: 0, 2313: 0, 2314: 0, 2316: 0, 2318: 0, 2319: 0, 2320: 0, 2321: 0, 2324: 0, 2325: 0, 2327: 0, 2329: 0, 2330: 0, 2331: 0, 2332: 0, 2335: 0, 2336: 0, 2337: 0, 2341: 0, 2342: 0, 2343: 0, 2346: 0, 2347: 0, 2348: 0, 2349: 0, 2350: 0, 2351: 0, 2352: 0, 2354: 0, 2355: 0, 2356: 0, 2357: 0, 2361: 0, 2362: 0, 2363: 0, 2364: 0, 2365: 0, 2366: 0, 2367: 0, 2369: 0, 2372: 0, 2373: 0, 2375: 0, 2377: 0, 2379: 0, 2380: 0, 2383: 0, 2385: 0, 2386: 0, 2387: 0, 2391: 0, 2392: 0, 2393: 0, 2395: 0, 2398: 0, 2399: 0, 2400: 0, 2401: 1, 2406: 0, 2408: 0, 2411: 0, 2416: 0, 2422: 0, 2423: 0, 2429: 0, 2430: 1, 2432: 0, 2433: 1, 2434: 0, 2435: 0, 2436: 1, 2437: 0, 2438: 0, 2439: 0, 2440: 1, 2441: 0, 2442: 0, 2443: 1, 2445: 0, 2447: 0, 2448: 0, 2449: 0, 2451: 0, 2452: 0, 2454: 0, 2455: 0, 2456: 0, 2457: 0, 2460: 0, 2461: 0, 2462: 1, 2463: 0, 2464: 0, 2465: 0, 2467: 0, 2468: 0, 2469: 0, 2470: 1, 2471: 0, 2472: 0, 2473: 0, 2474: 0, 2475: 0, 2477: 0, 2478: 0, 2480: 0, 2482: 0, 2484: 0, 2486: 0, 2487: 0, 2488: 0, 2489: 0, 2491: 0, 2492: 0, 2493: 0, 2499: 0, 2503: 0, 2504: 0, 2505: 0, 2506: 0, 2507: 1, 2510: 0, 2513: 0, 2517: 0, 2518: 0, 2519: 1, 2521: 0, 2522: 0, 2523: 0, 2524: 0, 2526: 0, 2527: 0, 2533: 0, 2534: 0, 2535: 0, 2540: 0, 2543: 0, 2544: 1, 2545: 0, 2553: 0, 2555: 0, 2557: 0, 2558: 0, 2559: 0, 2560: 0, 2562: 0, 2564: 1, 2565: 0, 2566: 0, 2567: 1, 2569: 0, 2572: 0, 2576: 0, 2577: 0, 2579: 0, 2580: 0, 2581: 0, 2582: 0, 2583: 0, 2584: 0, 2585: 0, 2586: 0, 2588: 1, 2589: 0, 2590: 0, 2591: 0, 2592: 0, 2593: 0, 2594: 0, 2595: 0, 2596: 0, 2597: 0, 2598: 0, 2599: 0, 2600: 0, 2601: 0, 2604: 0, 2605: 0, 2607: 0, 2608: 0, 2609: 1, 2610: 0, 2611: 0, 2612: 0, 2613: 0, 2614: 0, 2615: 0, 2616: 0, 2617: 0, 2618: 0, 2619: 0, 2620: 0, 2622: 0, 2623: 0, 2624: 0, 2625: 0, 2626: 0, 2627: 0, 2628: 0, 2629: 0, 2630: 0, 2631: 1, 2632: 1, 2633: 0, 2634: 0, 2635: 0, 2636: 1, 2637: 0, 2638: 0, 2641: 0, 2643: 0, 2644: 0, 2645: 0, 2646: 0, 2647: 0, 2648: 0, 2649: 0, 2650: 0, 2651: 0, 2652: 0, 2653: 0, 2654: 0, 2655: 0, 2656: 0, 2657: 0, 2658: 0, 2659: 0, 2660: 0, 2661: 0, 2662: 0, 2665: 1, 2666: 0, 2667: 0, 2668: 1, 2670: 1, 2672: 0, 2673: 0, 2674: 0, 2675: 0, 2676: 0, 2677: 0, 2678: 0, 2680: 0, 2681: 0, 2683: 0, 2684: 0, 2685: 0, 2686: 1, 2687: 0, 2688: 1, 2691: 1, 2692: 0, 2693: 0, 2694: 0, 2696: 0, 2699: 0, 2701: 1, 2702: 0, 2703: 0, 2704: 1, 2706: 0, 2707: 0, 2708: 1, 2712: 1, 2713: 0, 2715: 0, 2716: 0, 2719: 0, 2720: 0, 2721: 0, 2723: 0, 2724: 1, 2727: 1, 2729: 1, 2731: 1, 2734: 0, 2736: 0, 2739: 0, 2741: 1, 2744: 0, 2746: 0, 2747: 1, 2749: 1, 2750: 1, 2751: 0, 2752: 0, 2753: 1, 2754: 0, 2756: 0, 2757: 1, 2758: 0, 2760: 0, 2761: 1, 2763: 0, 2764: 0, 2765: 0, 2766: 0, 2769: 0, 2770: 0, 2772: 0, 2773: 0, 2775: 0, 2776: 0, 2777: 1, 2781: 1, 2783: 0, 2784: 0, 2786: 0, 2788: 0, 2789: 0, 2790: 0, 2792: 1, 2793: 0, 2795: 1, 2796: 0, 2797: 0, 2799: 0, 2800: 0, 2801: 0, 2804: 1, 2805: 1, 2806: 0, 2807: 0, 2809: 0, 2811: 1, 2815: 0, 2816: 0, 2817: 0, 2818: 1, 2819: 1, 2822: 0, 2824: 0, 2825: 0, 2829: 0, 2830: 0, 2832: 0, 2833: 0, 2835: 1, 2836: 0, 2837: 0, 2838: 0, 2839: 0, 2840: 0, 2841: 1, 2842: 0, 2843: 0, 2845: 0, 2847: 0, 2848: 0, 2849: 0, 2852: 0, 2853: 0, 2854: 0, 2857: 0, 2859: 0, 2861: 0, 2862: 0, 2863: 1, 2865: 0, 2866: 0, 2867: 0, 2873: 0, 2876: 0, 2877: 0, 2878: 0, 2880: 1, 2881: 0, 2882: 0, 2883: 0, 2884: 0, 2885: 0, 2886: 0, 2887: 0, 2888: 0, 2889: 0, 2890: 0, 2891: 1, 2893: 0, 2894: 0, 2895: 0, 2896: 0, 2897: 0, 2898: 0, 2899: 0, 2900: 0, 2901: 0, 2902: 0, 2903: 0, 2904: 0, 2905: 0, 2906: 1, 2907: 0, 2908: 0, 2909: 0, 2910: 0, 2911: 0, 2912: 0, 2914: 0, 2917: 0, 2921: 0, 2922: 0, 2923: 0, 2924: 0, 2925: 0, 2928: 0, 2930: 0, 2932: 0, 2933: 0, 2934: 0, 2936: 0, 2937: 0, 2938: 1, 2939: 0, 2941: 0, 2942: 0, 2944: 0, 2949: 0, 2950: 0, 2951: 0, 2952: 0, 2953: 0, 2954: 0, 2955: 0, 2956: 0, 2957: 0, 2958: 0, 2959: 0, 2960: 0, 2961: 0, 2962: 0, 2963: 0, 2964: 0, 2965: 1, 2967: 1, 2968: 0, 2970: 0, 2971: 0, 2972: 0, 2973: 0, 2974: 0, 2975: 0, 2976: 0, 2978: 0, 2979: 0, 2980: 0, 2982: 0, 2983: 0, 2984: 1, 2985: 0, 2986: 0, 2987: 0, 2988: 0, 2989: 0, 2990: 0, 2991: 1, 2992: 0, 2993: 0, 2994: 0, 2995: 0, 2996: 0, 2997: 0, 2998: 0, 2999: 0, 3000: 0, 3001: 0, 3002: 0, 3003: 0, 3004: 0, 3005: 0, 3006: 0, 3007: 0, 3008: 0, 3009: 0, 3010: 0, 3011: 0, 3012: 0, 3013: 0, 3014: 0, 3015: 0, 3016: 0, 3017: 0, 3018: 0, 3019: 1, 3020: 0, 3021: 0, 3022: 0, 3023: 0, 3025: 0, 3026: 0, 3027: 0, 3028: 0, 3029: 0, 3030: 0, 3031: 0, 3034: 0, 3037: 0, 3040: 0, 3042: 0, 3043: 0, 3044: 0, 3048: 0, 3051: 0, 3055: 1, 3058: 0, 3059: 0, 3060: 0, 3063: 0, 3064: 0, 3065: 0, 3066: 0, 3067: 0, 3068: 0, 3069: 0, 3070: 0, 3071: 0, 3072: 0, 3073: 0, 3074: 0, 3075: 0, 3076: 0, 3077: 0, 3078: 1, 3079: 0, 3082: 0, 3083: 0, 3086: 0, 3089: 0, 3095: 0, 3097: 0, 3100: 0, 3101: 0, 3102: 1, 3103: 0, 3104: 0, 3106: 0, 3107: 0, 3111: 0, 3113: 0, 3121: 0, 3122: 0, 3123: 0, 3125: 0, 3128: 1, 3132: 0, 3133: 0, 3134: 0, 3135: 0, 3137: 0, 3140: 0, 3141: 0, 3146: 0, 3147: 0, 3148: 0, 3149: 0, 3150: 0, 3152: 0, 3153: 1, 3161: 0, 3162: 0, 3163: 0, 3164: 0, 3165: 0, 3166: 0, 3171: 0, 3172: 0, 3175: 0, 3176: 0, 3177: 0, 3178: 1, 3180: 0, 3182: 0, 3183: 0, 3184: 0, 3186: 0, 3187: 0, 3189: 0, 3191: 0, 3192: 0, 3193: 0, 3194: 0, 3195: 0, 3196: 0, 3197: 0, 3199: 0, 3201: 0, 3205: 0, 3206: 0, 3207: 0, 3208: 0, 3209: 0, 3210: 0, 3211: 0, 3213: 0, 3214: 0, 3216: 0, 3217: 0, 3218: 0, 3219: 0, 3220: 0, 3222: 0, 3225: 0, 3230: 0, 3231: 0, 3233: 0, 3234: 0, 3235: 0, 3238: 0, 3239: 0, 3241: 0, 3242: 0, 3245: 0, 3246: 0, 3247: 0, 3248: 0, 3250: 0, 3251: 0, 3254: 0, 3256: 0, 3257: 0, 3258: 0, 3259: 1, 3262: 0, 3263: 0, 3264: 1, 3265: 0, 3267: 0, 3269: 0, 3270: 0, 3271: 0, 3272: 0, 3273: 0, 3274: 0, 3275: 0, 3276: 0, 3278: 0, 3280: 0, 3282: 0, 3284: 0, 3285: 0, 3286: 0, 3287: 0, 3288: 0, 3290: 0, 3291: 0, 3292: 0, 3293: 0, 3294: 0, 3296: 0, 3298: 0, 3299: 0, 3300: 0, 3303: 0, 3304: 0, 3305: 0, 3306: 0, 3307: 0, 3308: 0, 3309: 0, 3310: 0, 3311: 0, 3315: 0, 3317: 0, 3320: 1, 3322: 0, 3323: 0, 3325: 0, 3327: 0, 3336: 0, 3337: 0, 3339: 0, 3346: 0, 3347: 0, 3348: 1, 3349: 1, 3350: 0, 3353: 0, 3354: 0, 3355: 1, 3356: 0, 3360: 0, 3361: 0, 3362: 0, 3364: 0, 3370: 0, 3371: 0, 3372: 0, 3374: 0, 3376: 0, 3377: 0, 3378: 0, 3379: 0, 3380: 0, 3382: 0, 3383: 0, 3384: 0, 3385: 0, 3386: 1, 3387: 0, 3388: 0, 3389: 0, 3395: 0, 3396: 1, 3398: 1, 3399: 0, 3400: 0, 3403: 0, 3406: 0, 3410: 0, 3411: 1, 3412: 0, 3414: 0, 3416: 0, 3417: 0, 3418: 0, 3419: 0, 3420: 0, 3422: 0, 3424: 0, 3425: 0, 3426: 0, 3427: 0, 3429: 0, 3430: 0, 3431: 0, 3432: 0, 3436: 0, 3437: 0, 3438: 0, 3439: 0, 3440: 0, 3441: 0, 3442: 0, 3443: 0, 3444: 0, 3445: 0, 3446: 0, 3447: 1, 3448: 0, 3449: 0, 3450: 1, 3451: 0, 3452: 0, 3453: 0, 3454: 0, 3455: 0, 3457: 0, 3460: 0, 3461: 0, 3462: 0, 3464: 1, 3466: 0, 3468: 0, 3469: 0, 3470: 1, 3471: 0, 3472: 0, 3473: 1, 3474: 1, 3475: 0, 3476: 0, 3477: 1, 3478: 1, 3479: 0, 3480: 1, 3482: 0, 3484: 0, 3485: 0, 3486: 0, 3487: 0, 3488: 1, 3489: 0, 3491: 0, 3492: 0, 3493: 0, 3494: 0, 3497: 0, 3498: 0, 3499: 0, 3500: 0, 3501: 0, 3502: 0, 3503: 0, 3504: 0, 3505: 0, 3506: 0, 3507: 0, 3508: 0, 3509: 0, 3510: 0, 3511: 0, 3512: 0, 3513: 0, 3514: 0, 3515: 0, 3516: 0, 3517: 0, 3519: 0, 3520: 0, 3521: 0, 3522: 0, 3523: 1, 3524: 0, 3525: 0, 3526: 0, 3527: 0, 3528: 0, 3529: 0, 3530: 0, 3531: 0, 3532: 0, 3533: 0, 3534: 0, 3535: 0, 3536: 1, 3537: 0, 3538: 0, 3539: 0, 3541: 0, 3542: 0, 3543: 0, 3544: 0, 3546: 0, 3547: 0, 3549: 0, 3550: 0, 3551: 0, 3552: 0, 3553: 0, 3554: 0, 3556: 0, 3557: 0, 3559: 0, 3560: 0, 3561: 0, 3562: 0, 3563: 0, 3564: 0, 3565: 0, 3567: 0, 3569: 0, 3570: 0, 3571: 0, 3572: 0, 3573: 0, 3575: 0, 3577: 0, 3578: 0, 3579: 0, 3580: 0, 3581: 0, 3582: 0, 3583: 0, 3584: 0, 3585: 0, 3586: 0, 3587: 1, 3588: 0, 3590: 0, 3591: 0, 3592: 0, 3593: 0, 3594: 0, 3595: 1, 3596: 0, 3597: 0, 3598: 0, 3603: 0, 3604: 1, 3605: 0, 3606: 0, 3607: 1, 3609: 0, 3610: 0, 3611: 0, 3614: 0, 3615: 0, 3616: 0, 3617: 0, 3618: 0, 3619: 0, 3620: 0, 3621: 1, 3623: 0, 3624: 0, 3625: 0, 3627: 1, 3637: 0, 3642: 0, 3643: 0, 3644: 0, 3645: 0, 3646: 0, 3647: 0, 3648: 0, 3649: 0, 3650: 0, 3651: 0, 3652: 0, 3653: 0, 3654: 1, 3655: 1, 3656: 1, 3657: 1, 3658: 0, 3659: 0, 3662: 0, 3664: 0, 3665: 0, 3666: 0, 3667: 0, 3668: 0, 3669: 0, 3674: 1, 3678: 0, 3680: 0, 3681: 0, 3682: 0, 3683: 0, 3684: 0, 3685: 0, 3686: 0, 3687: 0, 3690: 0, 3692: 0, 3694: 0, 3695: 0, 3698: 0, 3699: 0, 3700: 0, 3702: 0, 3703: 0, 3705: 0, 3706: 0, 3707: 0, 3710: 0, 3711: 0, 3713: 0, 3714: 0, 3715: 0, 3716: 0, 3717: 0, 3719: 0, 3721: 0, 3722: 0, 3723: 0, 3725: 0, 3727: 0, 3728: 0, 3730: 0, 3731: 0, 3732: 0, 3733: 0, 3734: 0, 3735: 0, 3736: 0, 3738: 0, 3739: 0, 3740: 0, 3741: 0, 3743: 0, 3746: 0, 3747: 0, 3748: 0, 3749: 0, 3750: 0, 3752: 0, 3753: 0, 3754: 0, 3755: 0, 3756: 0, 3757: 0, 3758: 0, 3759: 0, 3760: 0, 3761: 0, 3762: 0, 3763: 0, 3764: 0, 3765: 0, 3766: 0, 3768: 0, 3770: 0, 3771: 0, 3772: 0, 3773: 0, 3775: 0, 3776: 0, 3779: 0, 3780: 0, 3782: 0, 3783: 0, 3786: 0, 3788: 0, 3789: 0, 3790: 0, 3791: 0, 3793: 0, 3794: 0, 3795: 0, 3796: 0, 3797: 0, 3798: 0, 3799: 0, 3800: 0, 3801: 0, 3802: 0, 3803: 0, 3804: 1, 3807: 0, 3808: 0, 3809: 0, 3810: 0, 3811: 0, 3812: 0, 3813: 0, 3814: 0, 3815: 0, 3816: 0, 3817: 0, 3818: 0, 3819: 0, 3821: 0, 3822: 0, 3823: 0, 3824: 0, 3825: 0, 3826: 0, 3827: 0, 3828: 0, 3833: 0, 3837: 0, 3839: 0, 3840: 0, 3841: 0, 3842: 0, 3843: 0, 3844: 0, 3845: 0, 3846: 0, 3847: 0, 3848: 0, 3849: 0, 3850: 0, 3851: 0, 3852: 0, 3853: 0, 3854: 0, 3855: 0, 3858: 0, 3860: 0, 3861: 0, 3862: 0, 3863: 0, 3864: 0, 3865: 0, 3868: 0, 3869: 0, 3870: 0, 3871: 0, 3872: 0, 3873: 0, 3874: 0, 3875: 0, 3876: 0, 3878: 0, 3879: 0, 3880: 0, 3881: 0, 3882: 0, 3883: 0, 3884: 0, 3886: 0, 3887: 0, 3888: 0, 3892: 0, 3893: 0, 3894: 0, 3895: 0, 3896: 0, 3898: 0, 3899: 0, 3901: 0, 3903: 0, 3904: 0, 3905: 0, 3906: 0, 3909: 0, 3910: 0, 3914: 0, 3915: 0, 3916: 0, 3917: 0, 3918: 0, 3919: 0, 3921: 0, 3923: 1, 3924: 0, 3925: 0, 3926: 0, 3927: 0, 3928: 0, 3933: 0, 3934: 0, 3935: 0, 3937: 0, 3938: 0, 3939: 0, 3940: 0, 3942: 0, 3943: 0, 3945: 0, 3946: 0, 3947: 0, 3950: 0, 3951: 0, 3952: 0, 3953: 0, 3954: 0, 3955: 0, 3956: 0, 3957: 0, 3958: 0, 3959: 0, 3961: 0, 3963: 0, 3964: 0, 3965: 0, 3966: 0, 3967: 0, 3969: 0, 3971: 0, 3979: 0, 3980: 0, 3996: 0, 3998: 0, 3999: 0, 4003: 0, 4006: 0, 4007: 0, 4008: 0, 4016: 0, 4017: 0, 4019: 0, 4023: 0, 4025: 0, 4026: 0, 4027: 0, 4028: 0, 4029: 0, 4030: 0, 4035: 0, 4041: 1, 4042: 1, 4043: 0, 4046: 0, 4047: 0, 4048: 0, 4049: 0, 4050: 0, 4051: 0, 4052: 0, 4053: 0, 4055: 1, 4056: 0, 4057: 0, 4063: 1, 4065: 0, 4066: 0, 4067: 0, 4068: 1, 4069: 0, 4070: 0, 4071: 0, 4072: 0, 4073: 0, 4074: 0, 4075: 0, 4076: 0, 4077: 0, 4078: 0, 4079: 0, 4080: 0, 4081: 0, 4082: 0, 4083: 0, 4084: 0, 4086: 0, 4087: 0, 4088: 0, 4089: 0, 4090: 0, 4091: 0, 4092: 0, 4093: 0, 4095: 0, 4096: 0, 4098: 0, 4099: 0, 4100: 0, 4101: 0, 4102: 0, 4103: 0, 4104: 0, 4105: 0, 4107: 0, 4108: 0, 4109: 0, 4110: 0, 4111: 0, 4112: 0, 4113: 0, 4114: 0, 4115: 1, 4116: 0, 4117: 0, 4118: 0, 4119: 0, 4120: 0, 4124: 0, 4130: 0, 4131: 0, 4133: 0, 4134: 1, 4135: 0, 4136: 0, 4137: 0, 4138: 0, 4142: 0, 4143: 0, 4148: 0, 4153: 0, 4156: 0, 4158: 0, 4160: 0, 4162: 0, 4168: 0, 4170: 0, 4171: 0, 4172: 0, 4174: 0, 4175: 0, 4177: 0, 4179: 0, 4183: 0, 4184: 0, 4185: 0, 4187: 0, 4188: 0, 4193: 0, 4194: 0, 4195: 0, 4198: 0, 4199: 0, 4200: 0, 4201: 0, 4202: 0, 4203: 0, 4204: 0, 4205: 0, 4206: 0, 4207: 0, 4208: 0, 4209: 0, 4210: 0, 4211: 0, 4212: 0, 4213: 0, 4214: 0, 4215: 0, 4217: 0, 4218: 0, 4219: 0, 4220: 0, 4221: 0, 4223: 0, 4224: 0, 4225: 0, 4226: 0, 4227: 0, 4228: 0, 4229: 0, 4230: 1, 4231: 0, 4232: 0, 4234: 0, 4235: 1, 4237: 0, 4238: 0, 4239: 0, 4240: 0, 4241: 0, 4242: 0, 4243: 0, 4244: 0, 4245: 1, 4246: 1, 4247: 0, 4248: 1, 4249: 1, 4250: 0, 4251: 1, 4252: 1, 4254: 1, 4255: 0, 4257: 1, 4258: 1, 4260: 0, 4261: 0, 4262: 0, 4263: 0, 4264: 0, 4265: 0, 4266: 0, 4267: 0, 4268: 0, 4269: 0, 4270: 0, 4271: 0, 4275: 0, 4276: 0, 4277: 0, 4278: 0, 4279: 0, 4280: 0, 4282: 0, 4284: 0, 4285: 0, 4286: 0, 4287: 0, 4291: 0, 4292: 1, 4294: 0, 4296: 1, 4297: 0, 4298: 0, 4299: 0, 4300: 0, 4301: 1, 4302: 0, 4303: 0, 4310: 0, 4311: 0, 4312: 0, 4313: 0, 4314: 0, 4318: 0, 4319: 0, 4320: 0, 4324: 0, 4325: 0, 4326: 0, 4327: 0, 4328: 0, 4329: 0, 4331: 0, 4337: 0, 4338: 0, 4342: 0, 4343: 0, 4348: 0, 4349: 0, 4352: 0, 4353: 0, 4354: 0, 4355: 0, 4356: 0, 4357: 0, 4358: 0, 4360: 0, 4361: 0, 4362: 0, 4363: 0, 4365: 0, 4370: 0, 4372: 0, 4373: 0, 4375: 1, 4376: 0, 4377: 0, 4378: 0, 4381: 0, 4385: 0, 4386: 0, 4388: 0, 4389: 0, 4391: 0, 4392: 0, 4395: 0, 4396: 0, 4398: 0, 4399: 0, 4400: 0, 4401: 0, 4402: 0, 4403: 0, 4404: 0, 4407: 0, 4408: 0, 4409: 0, 4410: 0, 4411: 0, 4412: 0, 4413: 0, 4414: 0, 4415: 0, 4417: 0, 4418: 0, 4420: 0, 4421: 0, 4423: 0, 4424: 0, 4425: 0, 4426: 0, 4427: 0, 4429: 0, 4430: 0, 4433: 1, 4434: 0, 4435: 1, 4437: 1, 4439: 0, 4440: 0, 4442: 1, 4443: 0, 4444: 0, 4445: 0, 4446: 0, 4447: 0, 4448: 0, 4449: 0, 4450: 0, 4451: 0, 4452: 0, 4453: 0, 4454: 0, 4456: 0, 4457: 0, 4463: 0, 4468: 0, 4471: 0, 4474: 0, 4475: 0, 4476: 0, 4477: 0, 4478: 0, 4479: 0, 4481: 0, 4482: 0, 4483: 0, 4492: 0, 4493: 0, 4494: 0, 4496: 0, 4497: 0, 4498: 0, 4499: 0, 4501: 0, 4504: 0, 4508: 0, 4510: 0, 4511: 0, 4513: 0, 4515: 0, 4517: 0, 4519: 0, 4520: 0, 4521: 0, 4522: 0, 4523: 0, 4524: 0, 4525: 0, 4526: 0, 4530: 0, 4532: 0, 4535: 0, 4539: 0, 4540: 0, 4541: 0, 4543: 0, 4548: 0, 4549: 0, 4550: 0, 4551: 0, 4552: 0, 4554: 0, 4555: 0, 4556: 0, 4557: 0, 4558: 0, 4561: 0, 4563: 0, 4564: 0, 4565: 0, 4567: 0, 4568: 0, 4569: 0, 4570: 0, 4571: 0, 4572: 0, 4573: 0, 4574: 0, 4576: 0, 4577: 0, 4581: 0, 4585: 0, 4586: 0, 4589: 0, 4590: 0, 4593: 0, 4594: 0, 4595: 0, 4596: 0, 4597: 0, 4598: 0, 4599: 0, 4600: 0, 4601: 0, 4602: 0, 4603: 0, 4604: 0, 4605: 0, 4606: 0, 4607: 1, 4608: 0, 4609: 0, 4610: 0, 4611: 0, 4612: 0, 4614: 0, 4616: 0, 4617: 0, 4618: 0, 4619: 0, 4621: 0, 4622: 0, 4623: 0, 4624: 0, 4625: 0, 4626: 0, 4627: 0, 4628: 0, 4629: 0, 4630: 0, 4631: 0, 4632: 0, 4633: 0, 4634: 0, 4635: 0, 4636: 0, 4637: 0, 4638: 0, 4639: 0, 4641: 0, 4642: 0, 4643: 0, 4644: 0, 4645: 0, 4646: 0, 4647: 0, 4648: 0, 4649: 0, 4650: 0, 4651: 0, 4652: 0, 4653: 0, 4654: 0, 4655: 0, 4657: 0, 4658: 0, 4659: 0, 4660: 0, 4661: 0, 4662: 0, 4663: 0, 4664: 0, 4665: 0, 4673: 0, 4674: 0, 4675: 0, 4676: 0, 4677: 0, 4678: 0, 4685: 0, 4687: 0, 4690: 0, 4692: 0, 4698: 0, 4700: 1, 4701: 0, 4706: 0, 4712: 0, 4713: 0, 4714: 0, 4715: 0, 4716: 0, 4717: 0, 4718: 0, 4719: 0, 4720: 0, 4721: 0, 4722: 0, 4723: 0, 4724: 0, 4726: 0, 4727: 0, 4728: 0, 4729: 0, 4730: 0, 4731: 0, 4732: 0, 4733: 0, 4734: 0, 4735: 0, 4736: 0, 4737: 0, 4738: 0, 4739: 0, 4740: 0, 4742: 0, 4743: 0, 4744: 0, 4746: 0, 4747: 1, 4749: 0, 4750: 1, 4751: 0, 4753: 1, 4756: 0, 4758: 0, 4759: 0, 4760: 0, 4761: 0, 4762: 0, 4763: 0, 4764: 0, 4765: 0, 4767: 0, 4768: 0, 4769: 0, 4770: 0, 4771: 0, 4772: 0, 4773: 0, 4774: 0, 4775: 0, 4776: 0, 4780: 0, 4781: 0, 4782: 0, 4784: 0, 4785: 0, 4786: 0, 4790: 0, 4791: 0, 4797: 0, 4801: 0, 4805: 1, 4807: 0, 4809: 0, 4827: 0, 4828: 0, 4829: 0, 4836: 1, 4843: 0, 4847: 0, 4848: 0, 4855: 0, 4858: 0, 4859: 0, 4860: 0, 4861: 0, 4863: 0, 4867: 0, 4869: 0, 4870: 0, 4871: 0, 4873: 0, 4876: 0, 4878: 0, 4883: 0, 4893: 0, 4901: 0, 4917: 0, 4920: 0, 4921: 0, 4925: 0, 4927: 0, 4928: 0, 4929: 0, 4930: 0, 4931: 0, 4933: 0, 4934: 0, 4936: 0, 4937: 0, 4938: 0, 4940: 0, 4943: 0, 4944: 0, 4945: 0, 4948: 0, 4949: 0, 4951: 0, 4952: 0, 4953: 0, 4954: 0, 4955: 0, 4956: 0, 4957: 0, 4958: 0, 4961: 0, 4963: 0, 4964: 0, 4965: 0, 4966: 0, 4967: 0, 4968: 1, 4969: 0, 4971: 0, 4974: 1, 4979: 0, 4980: 0, 4982: 0, 4984: 0, 4985: 0, 4986: 0, 4987: 0, 4988: 0, 4989: 0, 4990: 0, 4991: 0, 4992: 0, 4993: 0, 4994: 0, 4995: 0, 4996: 0, 4997: 0, 4998: 0, 4999: 0, 5000: 0, 5001: 0, 5002: 0, 5003: 0, 5004: 0, 5005: 0, 5006: 0, 5007: 0, 5008: 0, 5009: 0, 5011: 0, 5012: 0, 5013: 0, 5014: 0, 5015: 0, 5016: 0, 5017: 0, 5018: 0, 5019: 0, 5021: 0, 5022: 0, 5024: 0, 5032: 0, 5033: 0, 5034: 0, 5036: 0, 5038: 0, 5039: 0, 5041: 0, 5050: 0, 5056: 0, 5057: 0, 5072: 0, 5097: 0, 5099: 0, 5104: 0, 5105: 0, 5106: 0, 5107: 0, 5109: 0, 5110: 0, 5111: 0, 5112: 0, 5113: 0, 5117: 0, 5119: 0, 5120: 0, 5121: 0, 5122: 0, 5123: 0, 5126: 0, 5127: 0, 5129: 0, 5137: 0, 5144: 0, 5155: 0, 5158: 0, 5161: 0, 5162: 0, 5170: 0, 5183: 0, 5188: 1, 5190: 0, 5191: 0, 5192: 0, 5193: 0, 5197: 1, 5200: 0, 5205: 0, 5211: 0, 5212: 0, 5213: 1, 5220: 0, 5223: 0, 5225: 0, 5232: 0, 5234: 0, 5239: 0, 5258: 0, 5259: 0, 5266: 0, 5275: 0, 5279: 1, 5303: 1, 5315: 0, 5334: 0, 5355: 0, 5356: 0, 5371: 0, 5383: 0, 5393: 0, 5395: 0, 5401: 0, 5418: 0, 5468: 1, 5489: 0, 5495: 0, 5496: 0, 5497: 0, 5498: 0, 5501: 0, 5505: 0, 5507: 0, 5508: 0, 5514: 1, 5516: 0, 5517: 0, 5518: 0, 5519: 0, 5520: 0, 5521: 0, 5522: 0, 5525: 0, 5532: 0, 5534: 0, 5537: 0, 5562: 0, 5570: 1, 5577: 1, 5587: 0, 5602: 0, 5606: 0, 5608: 0, 5612: 1, 5613: 0, 5686: 0, 5727: 1, 5736: 0, 5751: 1, 5752: 0, 5753: 0, 5756: 0, 5779: 0, 5800: 0, 5805: 0, 5806: 0, 5815: 0, 5818: 0, 5825: 0, 5850: 0, 5851: 0, 5862: 0, 5870: 0, 5909: 0, 5920: 1, 5926: 0, 5931: 0, 5933: 0, 5944: 0, 5951: 1, 5977: 1, 5983: 0, 5984: 0, 5992: 0, 5994: 0, 5996: 0, 6017: 1, 6019: 0, 6021: 0, 6022: 0, 6023: 0, 6027: 0, 6028: 0, 6030: 0, 6031: 0, 6045: 0, 6046: 0, 6047: 0, 6052: 0, 6061: 1, 6064: 1, 6083: 1, 6097: 0, 6138: 0, 6153: 1, 6196: 1, 6229: 1, 6230: 0, 6233: 0, 6234: 0, 6243: 0, 6261: 0, 6265: 0, 6346: 1, 6383: 1, 6421: 1, 6428: 1, 6429: 1, 6430: 1, 6432: 1, 6438: 1, 6490: 1}\n"
     ]
    }
   ],
   "source": [
    "print final_inf_list"
   ]
  },
  {
   "cell_type": "code",
   "execution_count": null,
   "metadata": {},
   "outputs": [],
   "source": [
    "final_pred_coords = []\n",
    "for key, value in final_inf_list.iteritems():\n",
    "    print key\n",
    "    if value == 1:\n",
    "        try:\n",
    "            location = geolocator.geocode(city_list[key])\n",
    "            final_pred_coords += [(final_inf_prob[key][0], location.latitude, location.longitude)]\n",
    "        except:\n",
    "            pass"
   ]
  },
  {
   "cell_type": "code",
   "execution_count": null,
   "metadata": {
    "collapsed": true
   },
   "outputs": [],
   "source": [
    "print city_list"
   ]
  },
  {
   "cell_type": "code",
   "execution_count": null,
   "metadata": {
    "collapsed": true
   },
   "outputs": [],
   "source": []
  }
 ],
 "metadata": {
  "kernelspec": {
   "display_name": "Python 2",
   "language": "python",
   "name": "python2"
  },
  "language_info": {
   "codemirror_mode": {
    "name": "ipython",
    "version": 2
   },
   "file_extension": ".py",
   "mimetype": "text/x-python",
   "name": "python",
   "nbconvert_exporter": "python",
   "pygments_lexer": "ipython2",
   "version": "2.7.14"
  }
 },
 "nbformat": 4,
 "nbformat_minor": 2
}
